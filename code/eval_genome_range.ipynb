{
 "cells": [
  {
   "cell_type": "markdown",
   "metadata": {},
   "source": [
    "# Strip Plot Genome Value Distribution + Fitness in each Objective (2D)"
   ]
  },
  {
   "cell_type": "code",
   "execution_count": 99,
   "metadata": {},
   "outputs": [],
   "source": [
    "import pandas as pd\n",
    "import plotly.graph_objects as go\n",
    "import numpy as np\n",
    "\n",
    "def continuously_colored_f1_strip_plot(df:pd.DataFrame, problem_name:str,  min=-1.0, max=1.0):\n",
    "    '''\n",
    "    Adjusted version of this stack overflow answer: https://stackoverflow.com/a/67026297/13374784\n",
    "    '''\n",
    "    fig = go.Figure()\n",
    "    N = len(df)\n",
    "    unique_gene_numbers = df['gene_numbner'].unique()\n",
    "    for i, gene_number in enumerate(unique_gene_numbers):\n",
    "\n",
    "        dfs = df.query('gene_numbner == @gene_number')\n",
    "\n",
    "        if i == 2:#only one marker should gennerate colorbar\n",
    "            marker=dict(\n",
    "                size=9,\n",
    "                color=dfs['f1'],\n",
    "                colorbar=dict(\n",
    "                    title='f1',\n",
    "                ),\n",
    "                colorscale='Blues',\n",
    "                cmin=min,\n",
    "                cmax=max\n",
    "            )\n",
    "        else:\n",
    "            marker = dict(\n",
    "                size=9,\n",
    "                color=dfs['f1'],\n",
    "                colorscale='Blues',\n",
    "                cmin=min,\n",
    "                cmax=max\n",
    "            )\n",
    "        \n",
    "        fig.add_trace(go.Scatter(\n",
    "            y=dfs['gene_values'], \n",
    "            x=(i-0.1) + np.random.rand(N) * 0.2,\n",
    "            mode='markers',\n",
    "            marker=marker,\n",
    "            name=str(gene_number),\n",
    "        ))\n",
    "    fig.update_layout(showlegend=False, coloraxis_showscale=True, title=problem_name)\n",
    "    fig.update_xaxes(tickvals=unique_gene_numbers, ticktext=unique_gene_numbers)\n",
    "    fig.show()\n",
    "\n",
    "def continuously_colored_f2_strip_plot(df:pd.DataFrame, problem_name:str, min=-1.0, max=1.0):\n",
    "    '''\n",
    "    Adjusted version of this stack overflow answer: https://stackoverflow.com/a/67026297/13374784\n",
    "    '''\n",
    "    fig = go.Figure()\n",
    "    N = len(df)\n",
    "    unique_gene_numbers = df['gene_numbner'].unique()\n",
    "    for i, gene_number in enumerate(unique_gene_numbers):\n",
    "\n",
    "        dfs = df.query('gene_numbner == @gene_number')\n",
    "\n",
    "        if i == 0:#only one marker should gennerate colorbar\n",
    "            marker=dict(\n",
    "                size=9,\n",
    "                color=dfs['f2'],\n",
    "                colorbar=dict(\n",
    "                    title='f2',\n",
    "                ),\n",
    "                colorscale='Oranges',\n",
    "                cmin=min,\n",
    "                cmax=max\n",
    "            )\n",
    "        else:\n",
    "            marker = dict(\n",
    "                size=9,\n",
    "                color=dfs['f2'],\n",
    "                colorscale='Oranges',\n",
    "                cmin=min,\n",
    "                cmax=max\n",
    "            )\n",
    "        \n",
    "        fig.add_trace(go.Scatter(\n",
    "            y=dfs['gene_values'], \n",
    "            x=(i-0.1) + np.random.rand(N) * 0.2,\n",
    "            mode='markers',\n",
    "            marker=marker,\n",
    "            name=str(gene_number),\n",
    "        ))\n",
    "    fig.update_layout(showlegend=False, coloraxis_showscale=True, title=problem_name)\n",
    "    fig.update_xaxes(tickvals=unique_gene_numbers, ticktext=unique_gene_numbers)\n",
    "    fig.show()\n",
    "\n",
    "\n",
    "def build_df(problem, n_samples = 100):\n",
    "    df = pd.DataFrame()\n",
    "    ps = problem._calc_pareto_set(n_pareto_points=n_samples)\n",
    "    pf = problem.evaluate(ps)\n",
    "\n",
    "    gene_numbers = np.array( [ np.arange(0,problem.n_var)  for _ in range( n_samples ) ] ).flatten()#TODO: magic number!\n",
    "\n",
    "    f_1 = np.array( [ pf[ int(ind_number), 0 ] for ind_number in range(n_samples) for _ in range(problem.n_var) ] )\n",
    "    f_2 = np.array( [ pf[ int(ind_number), 1 ] for ind_number in range(n_samples) for _ in range(problem.n_var) ] )\n",
    "\n",
    "    df['gene_values'] = ps.flatten()\n",
    "    df['gene_numbner'] = gene_numbers\n",
    "\n",
    "    df['f1'] = f_1\n",
    "    df['f2'] = f_2\n",
    "\n",
    "    return df\n",
    "\n",
    "def continuously_colored_strip_plot(problem, problem_name, n_samples=100, min=0.0, max=1.0):\n",
    "    plot_data_df = build_df(problem, n_samples)\n",
    "    continuously_colored_f1_strip_plot(plot_data_df, problem_name, min, max)\n",
    "    continuously_colored_f2_strip_plot(plot_data_df, problem_name, min, max)"
   ]
  },
  {
   "cell_type": "code",
   "execution_count": null,
   "metadata": {},
   "outputs": [],
   "source": [
    "from pymoo_problems.moo.uf import UF1, UF2, UF3\n",
    "\n",
    "n_var = 4\n",
    "continuously_colored_strip_plot(UF1(n_var=n_var), \"UF1\")\n",
    "continuously_colored_strip_plot(UF2(n_var=n_var), \"UF2\")\n",
    "continuously_colored_strip_plot(UF3(n_var=n_var), \"UF3\")"
   ]
  },
  {
   "cell_type": "code",
   "execution_count": null,
   "metadata": {},
   "outputs": [],
   "source": [
    "from pymoo_problems.moo.zdt import ZDT1, ZDT2, ZDT3\n",
    "\n",
    "n_var = 4\n",
    "continuously_colored_strip_plot(ZDT1(n_var=n_var), \"ZDT1\")\n",
    "continuously_colored_strip_plot(ZDT2(n_var=n_var), \"ZDT2\")\n",
    "continuously_colored_strip_plot(ZDT3(n_var=n_var), \"ZDT3\")"
   ]
  },
  {
   "cell_type": "code",
   "execution_count": null,
   "metadata": {},
   "outputs": [],
   "source": [
    "from pymoo_problems.moo.maco import MACO\n",
    "\n",
    "n_var = 4\n",
    "continuously_colored_strip_plot(MACO(n_var=n_var), \"MACO\")"
   ]
  },
  {
   "cell_type": "markdown",
   "metadata": {},
   "source": [
    "# Parallel Coordinate Plot Gene Values + Fitness (color)\n",
    "This is to better see the connections between the genes."
   ]
  },
  {
   "cell_type": "code",
   "execution_count": 126,
   "metadata": {},
   "outputs": [
    {
     "data": {
      "application/vnd.plotly.v1+json": {
       "config": {
        "plotlyServerURL": "https://plot.ly"
       },
       "data": [
        {
         "dimensions": [
          {
           "range": [
            0,
            1
           ],
           "values": [
            0,
            0.05263157894736842,
            0.10526315789473684,
            0.15789473684210525,
            0.21052631578947367,
            0.2631578947368421,
            0.3157894736842105,
            0.3684210526315789,
            0.42105263157894735,
            0.47368421052631576,
            0.5263157894736842,
            0.5789473684210527,
            0.631578947368421,
            0.6842105263157894,
            0.7368421052631579,
            0.7894736842105263,
            0.8421052631578947,
            0.894736842105263,
            0.9473684210526315,
            1
           ]
          },
          {
           "range": [
            -1,
            1
           ],
           "values": [
            1,
            0.5469481581224268,
            -0.4016954246529692,
            -0.9863613034027223,
            -0.6772815716257414,
            0.2454854871407987,
            0.9458172417006345,
            0.7891405093963938,
            -0.0825793454723313,
            -0.8794737512064891,
            -0.8794737512064895,
            -0.08257934547233216,
            0.7891405093963932,
            0.9458172417006357,
            0.24548548714080126,
            -0.6772815716257389,
            -0.986361303402723,
            -0.40169542465297364,
            0.5469481581224284,
            1
           ]
          },
          {
           "range": [
            -1,
            1
           ],
           "values": [
            0.7071067811865476,
            -0.2052153421956343,
            -0.9315910880512787,
            -0.8138487172701948,
            0.04132497424881264,
            0.859053954369885,
            0.8983909818919791,
            0.12369263126934876,
            -0.7630840681998063,
            -0.9584274824582529,
            -0.285336224249107,
            0.6462992378609417,
            0.992320579737045,
            0.43919658884737406,
            -0.5118850490895999,
            -0.9991457583873009,
            -0.5810768154019407,
            0.3635079705638264,
            0.9787168453273543,
            0.7071067811865488
           ]
          },
          {
           "range": [
            -1,
            1
           ],
           "values": [
            1.2246467991473532e-16,
            -0.8371664782625285,
            -0.9157733266550574,
            -0.1645945902807346,
            0.7357239106731313,
            0.9694002659393306,
            0.32469946920468473,
            -0.6142127126896662,
            -0.99658449300667,
            -0.4759473930370736,
            0.4759473930370728,
            0.9965844930066698,
            0.6142127126896684,
            -0.3246994692046804,
            -0.9694002659393303,
            -0.7357239106731325,
            0.16459459028073187,
            0.9157733266550563,
            0.8371664782625287,
            8.572527594031472e-16
           ]
          }
         ],
         "line": {
          "cmax": 1,
          "cmin": 0,
          "color": [
           0,
           0.05263157894736842,
           0.10526315789473684,
           0.15789473684210525,
           0.21052631578947367,
           0.2631578947368421,
           0.3157894736842105,
           0.3684210526315789,
           0.42105263157894735,
           0.47368421052631576,
           0.5263157894736842,
           0.5789473684210527,
           0.631578947368421,
           0.6842105263157894,
           0.7368421052631579,
           0.7894736842105263,
           0.8421052631578947,
           0.894736842105263,
           0.9473684210526315,
           1
          ],
          "colorbar": {
           "title": {
            "text": "f1"
           }
          },
          "colorscale": [
           [
            0,
            "rgb(247,251,255)"
           ],
           [
            0.125,
            "rgb(222,235,247)"
           ],
           [
            0.25,
            "rgb(198,219,239)"
           ],
           [
            0.375,
            "rgb(158,202,225)"
           ],
           [
            0.5,
            "rgb(107,174,214)"
           ],
           [
            0.625,
            "rgb(66,146,198)"
           ],
           [
            0.75,
            "rgb(33,113,181)"
           ],
           [
            0.875,
            "rgb(8,81,156)"
           ],
           [
            1,
            "rgb(8,48,107)"
           ]
          ]
         },
         "name": "f1",
         "type": "parcoords"
        }
       ],
       "layout": {
        "template": {
         "data": {
          "bar": [
           {
            "error_x": {
             "color": "#2a3f5f"
            },
            "error_y": {
             "color": "#2a3f5f"
            },
            "marker": {
             "line": {
              "color": "#E5ECF6",
              "width": 0.5
             },
             "pattern": {
              "fillmode": "overlay",
              "size": 10,
              "solidity": 0.2
             }
            },
            "type": "bar"
           }
          ],
          "barpolar": [
           {
            "marker": {
             "line": {
              "color": "#E5ECF6",
              "width": 0.5
             },
             "pattern": {
              "fillmode": "overlay",
              "size": 10,
              "solidity": 0.2
             }
            },
            "type": "barpolar"
           }
          ],
          "carpet": [
           {
            "aaxis": {
             "endlinecolor": "#2a3f5f",
             "gridcolor": "white",
             "linecolor": "white",
             "minorgridcolor": "white",
             "startlinecolor": "#2a3f5f"
            },
            "baxis": {
             "endlinecolor": "#2a3f5f",
             "gridcolor": "white",
             "linecolor": "white",
             "minorgridcolor": "white",
             "startlinecolor": "#2a3f5f"
            },
            "type": "carpet"
           }
          ],
          "choropleth": [
           {
            "colorbar": {
             "outlinewidth": 0,
             "ticks": ""
            },
            "type": "choropleth"
           }
          ],
          "contour": [
           {
            "colorbar": {
             "outlinewidth": 0,
             "ticks": ""
            },
            "colorscale": [
             [
              0,
              "#0d0887"
             ],
             [
              0.1111111111111111,
              "#46039f"
             ],
             [
              0.2222222222222222,
              "#7201a8"
             ],
             [
              0.3333333333333333,
              "#9c179e"
             ],
             [
              0.4444444444444444,
              "#bd3786"
             ],
             [
              0.5555555555555556,
              "#d8576b"
             ],
             [
              0.6666666666666666,
              "#ed7953"
             ],
             [
              0.7777777777777778,
              "#fb9f3a"
             ],
             [
              0.8888888888888888,
              "#fdca26"
             ],
             [
              1,
              "#f0f921"
             ]
            ],
            "type": "contour"
           }
          ],
          "contourcarpet": [
           {
            "colorbar": {
             "outlinewidth": 0,
             "ticks": ""
            },
            "type": "contourcarpet"
           }
          ],
          "heatmap": [
           {
            "colorbar": {
             "outlinewidth": 0,
             "ticks": ""
            },
            "colorscale": [
             [
              0,
              "#0d0887"
             ],
             [
              0.1111111111111111,
              "#46039f"
             ],
             [
              0.2222222222222222,
              "#7201a8"
             ],
             [
              0.3333333333333333,
              "#9c179e"
             ],
             [
              0.4444444444444444,
              "#bd3786"
             ],
             [
              0.5555555555555556,
              "#d8576b"
             ],
             [
              0.6666666666666666,
              "#ed7953"
             ],
             [
              0.7777777777777778,
              "#fb9f3a"
             ],
             [
              0.8888888888888888,
              "#fdca26"
             ],
             [
              1,
              "#f0f921"
             ]
            ],
            "type": "heatmap"
           }
          ],
          "heatmapgl": [
           {
            "colorbar": {
             "outlinewidth": 0,
             "ticks": ""
            },
            "colorscale": [
             [
              0,
              "#0d0887"
             ],
             [
              0.1111111111111111,
              "#46039f"
             ],
             [
              0.2222222222222222,
              "#7201a8"
             ],
             [
              0.3333333333333333,
              "#9c179e"
             ],
             [
              0.4444444444444444,
              "#bd3786"
             ],
             [
              0.5555555555555556,
              "#d8576b"
             ],
             [
              0.6666666666666666,
              "#ed7953"
             ],
             [
              0.7777777777777778,
              "#fb9f3a"
             ],
             [
              0.8888888888888888,
              "#fdca26"
             ],
             [
              1,
              "#f0f921"
             ]
            ],
            "type": "heatmapgl"
           }
          ],
          "histogram": [
           {
            "marker": {
             "pattern": {
              "fillmode": "overlay",
              "size": 10,
              "solidity": 0.2
             }
            },
            "type": "histogram"
           }
          ],
          "histogram2d": [
           {
            "colorbar": {
             "outlinewidth": 0,
             "ticks": ""
            },
            "colorscale": [
             [
              0,
              "#0d0887"
             ],
             [
              0.1111111111111111,
              "#46039f"
             ],
             [
              0.2222222222222222,
              "#7201a8"
             ],
             [
              0.3333333333333333,
              "#9c179e"
             ],
             [
              0.4444444444444444,
              "#bd3786"
             ],
             [
              0.5555555555555556,
              "#d8576b"
             ],
             [
              0.6666666666666666,
              "#ed7953"
             ],
             [
              0.7777777777777778,
              "#fb9f3a"
             ],
             [
              0.8888888888888888,
              "#fdca26"
             ],
             [
              1,
              "#f0f921"
             ]
            ],
            "type": "histogram2d"
           }
          ],
          "histogram2dcontour": [
           {
            "colorbar": {
             "outlinewidth": 0,
             "ticks": ""
            },
            "colorscale": [
             [
              0,
              "#0d0887"
             ],
             [
              0.1111111111111111,
              "#46039f"
             ],
             [
              0.2222222222222222,
              "#7201a8"
             ],
             [
              0.3333333333333333,
              "#9c179e"
             ],
             [
              0.4444444444444444,
              "#bd3786"
             ],
             [
              0.5555555555555556,
              "#d8576b"
             ],
             [
              0.6666666666666666,
              "#ed7953"
             ],
             [
              0.7777777777777778,
              "#fb9f3a"
             ],
             [
              0.8888888888888888,
              "#fdca26"
             ],
             [
              1,
              "#f0f921"
             ]
            ],
            "type": "histogram2dcontour"
           }
          ],
          "mesh3d": [
           {
            "colorbar": {
             "outlinewidth": 0,
             "ticks": ""
            },
            "type": "mesh3d"
           }
          ],
          "parcoords": [
           {
            "line": {
             "colorbar": {
              "outlinewidth": 0,
              "ticks": ""
             }
            },
            "type": "parcoords"
           }
          ],
          "pie": [
           {
            "automargin": true,
            "type": "pie"
           }
          ],
          "scatter": [
           {
            "fillpattern": {
             "fillmode": "overlay",
             "size": 10,
             "solidity": 0.2
            },
            "type": "scatter"
           }
          ],
          "scatter3d": [
           {
            "line": {
             "colorbar": {
              "outlinewidth": 0,
              "ticks": ""
             }
            },
            "marker": {
             "colorbar": {
              "outlinewidth": 0,
              "ticks": ""
             }
            },
            "type": "scatter3d"
           }
          ],
          "scattercarpet": [
           {
            "marker": {
             "colorbar": {
              "outlinewidth": 0,
              "ticks": ""
             }
            },
            "type": "scattercarpet"
           }
          ],
          "scattergeo": [
           {
            "marker": {
             "colorbar": {
              "outlinewidth": 0,
              "ticks": ""
             }
            },
            "type": "scattergeo"
           }
          ],
          "scattergl": [
           {
            "marker": {
             "colorbar": {
              "outlinewidth": 0,
              "ticks": ""
             }
            },
            "type": "scattergl"
           }
          ],
          "scattermapbox": [
           {
            "marker": {
             "colorbar": {
              "outlinewidth": 0,
              "ticks": ""
             }
            },
            "type": "scattermapbox"
           }
          ],
          "scatterpolar": [
           {
            "marker": {
             "colorbar": {
              "outlinewidth": 0,
              "ticks": ""
             }
            },
            "type": "scatterpolar"
           }
          ],
          "scatterpolargl": [
           {
            "marker": {
             "colorbar": {
              "outlinewidth": 0,
              "ticks": ""
             }
            },
            "type": "scatterpolargl"
           }
          ],
          "scatterternary": [
           {
            "marker": {
             "colorbar": {
              "outlinewidth": 0,
              "ticks": ""
             }
            },
            "type": "scatterternary"
           }
          ],
          "surface": [
           {
            "colorbar": {
             "outlinewidth": 0,
             "ticks": ""
            },
            "colorscale": [
             [
              0,
              "#0d0887"
             ],
             [
              0.1111111111111111,
              "#46039f"
             ],
             [
              0.2222222222222222,
              "#7201a8"
             ],
             [
              0.3333333333333333,
              "#9c179e"
             ],
             [
              0.4444444444444444,
              "#bd3786"
             ],
             [
              0.5555555555555556,
              "#d8576b"
             ],
             [
              0.6666666666666666,
              "#ed7953"
             ],
             [
              0.7777777777777778,
              "#fb9f3a"
             ],
             [
              0.8888888888888888,
              "#fdca26"
             ],
             [
              1,
              "#f0f921"
             ]
            ],
            "type": "surface"
           }
          ],
          "table": [
           {
            "cells": {
             "fill": {
              "color": "#EBF0F8"
             },
             "line": {
              "color": "white"
             }
            },
            "header": {
             "fill": {
              "color": "#C8D4E3"
             },
             "line": {
              "color": "white"
             }
            },
            "type": "table"
           }
          ]
         },
         "layout": {
          "annotationdefaults": {
           "arrowcolor": "#2a3f5f",
           "arrowhead": 0,
           "arrowwidth": 1
          },
          "autotypenumbers": "strict",
          "coloraxis": {
           "colorbar": {
            "outlinewidth": 0,
            "ticks": ""
           }
          },
          "colorscale": {
           "diverging": [
            [
             0,
             "#8e0152"
            ],
            [
             0.1,
             "#c51b7d"
            ],
            [
             0.2,
             "#de77ae"
            ],
            [
             0.3,
             "#f1b6da"
            ],
            [
             0.4,
             "#fde0ef"
            ],
            [
             0.5,
             "#f7f7f7"
            ],
            [
             0.6,
             "#e6f5d0"
            ],
            [
             0.7,
             "#b8e186"
            ],
            [
             0.8,
             "#7fbc41"
            ],
            [
             0.9,
             "#4d9221"
            ],
            [
             1,
             "#276419"
            ]
           ],
           "sequential": [
            [
             0,
             "#0d0887"
            ],
            [
             0.1111111111111111,
             "#46039f"
            ],
            [
             0.2222222222222222,
             "#7201a8"
            ],
            [
             0.3333333333333333,
             "#9c179e"
            ],
            [
             0.4444444444444444,
             "#bd3786"
            ],
            [
             0.5555555555555556,
             "#d8576b"
            ],
            [
             0.6666666666666666,
             "#ed7953"
            ],
            [
             0.7777777777777778,
             "#fb9f3a"
            ],
            [
             0.8888888888888888,
             "#fdca26"
            ],
            [
             1,
             "#f0f921"
            ]
           ],
           "sequentialminus": [
            [
             0,
             "#0d0887"
            ],
            [
             0.1111111111111111,
             "#46039f"
            ],
            [
             0.2222222222222222,
             "#7201a8"
            ],
            [
             0.3333333333333333,
             "#9c179e"
            ],
            [
             0.4444444444444444,
             "#bd3786"
            ],
            [
             0.5555555555555556,
             "#d8576b"
            ],
            [
             0.6666666666666666,
             "#ed7953"
            ],
            [
             0.7777777777777778,
             "#fb9f3a"
            ],
            [
             0.8888888888888888,
             "#fdca26"
            ],
            [
             1,
             "#f0f921"
            ]
           ]
          },
          "colorway": [
           "#636efa",
           "#EF553B",
           "#00cc96",
           "#ab63fa",
           "#FFA15A",
           "#19d3f3",
           "#FF6692",
           "#B6E880",
           "#FF97FF",
           "#FECB52"
          ],
          "font": {
           "color": "#2a3f5f"
          },
          "geo": {
           "bgcolor": "white",
           "lakecolor": "white",
           "landcolor": "#E5ECF6",
           "showlakes": true,
           "showland": true,
           "subunitcolor": "white"
          },
          "hoverlabel": {
           "align": "left"
          },
          "hovermode": "closest",
          "mapbox": {
           "style": "light"
          },
          "paper_bgcolor": "white",
          "plot_bgcolor": "#E5ECF6",
          "polar": {
           "angularaxis": {
            "gridcolor": "white",
            "linecolor": "white",
            "ticks": ""
           },
           "bgcolor": "#E5ECF6",
           "radialaxis": {
            "gridcolor": "white",
            "linecolor": "white",
            "ticks": ""
           }
          },
          "scene": {
           "xaxis": {
            "backgroundcolor": "#E5ECF6",
            "gridcolor": "white",
            "gridwidth": 2,
            "linecolor": "white",
            "showbackground": true,
            "ticks": "",
            "zerolinecolor": "white"
           },
           "yaxis": {
            "backgroundcolor": "#E5ECF6",
            "gridcolor": "white",
            "gridwidth": 2,
            "linecolor": "white",
            "showbackground": true,
            "ticks": "",
            "zerolinecolor": "white"
           },
           "zaxis": {
            "backgroundcolor": "#E5ECF6",
            "gridcolor": "white",
            "gridwidth": 2,
            "linecolor": "white",
            "showbackground": true,
            "ticks": "",
            "zerolinecolor": "white"
           }
          },
          "shapedefaults": {
           "line": {
            "color": "#2a3f5f"
           }
          },
          "ternary": {
           "aaxis": {
            "gridcolor": "white",
            "linecolor": "white",
            "ticks": ""
           },
           "baxis": {
            "gridcolor": "white",
            "linecolor": "white",
            "ticks": ""
           },
           "bgcolor": "#E5ECF6",
           "caxis": {
            "gridcolor": "white",
            "linecolor": "white",
            "ticks": ""
           }
          },
          "title": {
           "x": 0.05
          },
          "xaxis": {
           "automargin": true,
           "gridcolor": "white",
           "linecolor": "white",
           "ticks": "",
           "title": {
            "standoff": 15
           },
           "zerolinecolor": "white",
           "zerolinewidth": 2
          },
          "yaxis": {
           "automargin": true,
           "gridcolor": "white",
           "linecolor": "white",
           "ticks": "",
           "title": {
            "standoff": 15
           },
           "zerolinecolor": "white",
           "zerolinewidth": 2
          }
         }
        },
        "title": {
         "text": "UF1 f1"
        }
       }
      }
     },
     "metadata": {},
     "output_type": "display_data"
    },
    {
     "data": {
      "application/vnd.plotly.v1+json": {
       "config": {
        "plotlyServerURL": "https://plot.ly"
       },
       "data": [
        {
         "dimensions": [
          {
           "range": [
            0,
            1
           ],
           "values": [
            0,
            0.05263157894736842,
            0.10526315789473684,
            0.15789473684210525,
            0.21052631578947367,
            0.2631578947368421,
            0.3157894736842105,
            0.3684210526315789,
            0.42105263157894735,
            0.47368421052631576,
            0.5263157894736842,
            0.5789473684210527,
            0.631578947368421,
            0.6842105263157894,
            0.7368421052631579,
            0.7894736842105263,
            0.8421052631578947,
            0.894736842105263,
            0.9473684210526315,
            1
           ]
          },
          {
           "range": [
            -1,
            1
           ],
           "values": [
            1,
            0.5469481581224268,
            -0.4016954246529692,
            -0.9863613034027223,
            -0.6772815716257414,
            0.2454854871407987,
            0.9458172417006345,
            0.7891405093963938,
            -0.0825793454723313,
            -0.8794737512064891,
            -0.8794737512064895,
            -0.08257934547233216,
            0.7891405093963932,
            0.9458172417006357,
            0.24548548714080126,
            -0.6772815716257389,
            -0.986361303402723,
            -0.40169542465297364,
            0.5469481581224284,
            1
           ]
          },
          {
           "range": [
            -1,
            1
           ],
           "values": [
            0.7071067811865476,
            -0.2052153421956343,
            -0.9315910880512787,
            -0.8138487172701948,
            0.04132497424881264,
            0.859053954369885,
            0.8983909818919791,
            0.12369263126934876,
            -0.7630840681998063,
            -0.9584274824582529,
            -0.285336224249107,
            0.6462992378609417,
            0.992320579737045,
            0.43919658884737406,
            -0.5118850490895999,
            -0.9991457583873009,
            -0.5810768154019407,
            0.3635079705638264,
            0.9787168453273543,
            0.7071067811865488
           ]
          },
          {
           "range": [
            -1,
            1
           ],
           "values": [
            1.2246467991473532e-16,
            -0.8371664782625285,
            -0.9157733266550574,
            -0.1645945902807346,
            0.7357239106731313,
            0.9694002659393306,
            0.32469946920468473,
            -0.6142127126896662,
            -0.99658449300667,
            -0.4759473930370736,
            0.4759473930370728,
            0.9965844930066698,
            0.6142127126896684,
            -0.3246994692046804,
            -0.9694002659393303,
            -0.7357239106731325,
            0.16459459028073187,
            0.9157733266550563,
            0.8371664782625287,
            8.572527594031472e-16
           ]
          }
         ],
         "line": {
          "cmax": 1,
          "cmin": 0,
          "color": [
           1,
           0.7705842661294382,
           0.6755571577384749,
           0.6026402928804868,
           0.5411685322588764,
           0.487010823957423,
           0.4380485130509837,
           0.39302302133311606,
           0.3511143154769498,
           0.3117527983883147,
           0.2745237498899884,
           0.23911408974731785,
           0.20528058576097374,
           0.17282980813148896,
           0.1416049247210479,
           0.1114766833613614,
           0.08233706451775291,
           0.05409469707308279,
           0.026671473215424846,
           0
          ],
          "colorbar": {
           "title": {
            "text": "f2"
           }
          },
          "colorscale": [
           [
            0,
            "rgb(255,245,235)"
           ],
           [
            0.125,
            "rgb(254,230,206)"
           ],
           [
            0.25,
            "rgb(253,208,162)"
           ],
           [
            0.375,
            "rgb(253,174,107)"
           ],
           [
            0.5,
            "rgb(253,141,60)"
           ],
           [
            0.625,
            "rgb(241,105,19)"
           ],
           [
            0.75,
            "rgb(217,72,1)"
           ],
           [
            0.875,
            "rgb(166,54,3)"
           ],
           [
            1,
            "rgb(127,39,4)"
           ]
          ]
         },
         "name": "f2",
         "type": "parcoords"
        }
       ],
       "layout": {
        "template": {
         "data": {
          "bar": [
           {
            "error_x": {
             "color": "#2a3f5f"
            },
            "error_y": {
             "color": "#2a3f5f"
            },
            "marker": {
             "line": {
              "color": "#E5ECF6",
              "width": 0.5
             },
             "pattern": {
              "fillmode": "overlay",
              "size": 10,
              "solidity": 0.2
             }
            },
            "type": "bar"
           }
          ],
          "barpolar": [
           {
            "marker": {
             "line": {
              "color": "#E5ECF6",
              "width": 0.5
             },
             "pattern": {
              "fillmode": "overlay",
              "size": 10,
              "solidity": 0.2
             }
            },
            "type": "barpolar"
           }
          ],
          "carpet": [
           {
            "aaxis": {
             "endlinecolor": "#2a3f5f",
             "gridcolor": "white",
             "linecolor": "white",
             "minorgridcolor": "white",
             "startlinecolor": "#2a3f5f"
            },
            "baxis": {
             "endlinecolor": "#2a3f5f",
             "gridcolor": "white",
             "linecolor": "white",
             "minorgridcolor": "white",
             "startlinecolor": "#2a3f5f"
            },
            "type": "carpet"
           }
          ],
          "choropleth": [
           {
            "colorbar": {
             "outlinewidth": 0,
             "ticks": ""
            },
            "type": "choropleth"
           }
          ],
          "contour": [
           {
            "colorbar": {
             "outlinewidth": 0,
             "ticks": ""
            },
            "colorscale": [
             [
              0,
              "#0d0887"
             ],
             [
              0.1111111111111111,
              "#46039f"
             ],
             [
              0.2222222222222222,
              "#7201a8"
             ],
             [
              0.3333333333333333,
              "#9c179e"
             ],
             [
              0.4444444444444444,
              "#bd3786"
             ],
             [
              0.5555555555555556,
              "#d8576b"
             ],
             [
              0.6666666666666666,
              "#ed7953"
             ],
             [
              0.7777777777777778,
              "#fb9f3a"
             ],
             [
              0.8888888888888888,
              "#fdca26"
             ],
             [
              1,
              "#f0f921"
             ]
            ],
            "type": "contour"
           }
          ],
          "contourcarpet": [
           {
            "colorbar": {
             "outlinewidth": 0,
             "ticks": ""
            },
            "type": "contourcarpet"
           }
          ],
          "heatmap": [
           {
            "colorbar": {
             "outlinewidth": 0,
             "ticks": ""
            },
            "colorscale": [
             [
              0,
              "#0d0887"
             ],
             [
              0.1111111111111111,
              "#46039f"
             ],
             [
              0.2222222222222222,
              "#7201a8"
             ],
             [
              0.3333333333333333,
              "#9c179e"
             ],
             [
              0.4444444444444444,
              "#bd3786"
             ],
             [
              0.5555555555555556,
              "#d8576b"
             ],
             [
              0.6666666666666666,
              "#ed7953"
             ],
             [
              0.7777777777777778,
              "#fb9f3a"
             ],
             [
              0.8888888888888888,
              "#fdca26"
             ],
             [
              1,
              "#f0f921"
             ]
            ],
            "type": "heatmap"
           }
          ],
          "heatmapgl": [
           {
            "colorbar": {
             "outlinewidth": 0,
             "ticks": ""
            },
            "colorscale": [
             [
              0,
              "#0d0887"
             ],
             [
              0.1111111111111111,
              "#46039f"
             ],
             [
              0.2222222222222222,
              "#7201a8"
             ],
             [
              0.3333333333333333,
              "#9c179e"
             ],
             [
              0.4444444444444444,
              "#bd3786"
             ],
             [
              0.5555555555555556,
              "#d8576b"
             ],
             [
              0.6666666666666666,
              "#ed7953"
             ],
             [
              0.7777777777777778,
              "#fb9f3a"
             ],
             [
              0.8888888888888888,
              "#fdca26"
             ],
             [
              1,
              "#f0f921"
             ]
            ],
            "type": "heatmapgl"
           }
          ],
          "histogram": [
           {
            "marker": {
             "pattern": {
              "fillmode": "overlay",
              "size": 10,
              "solidity": 0.2
             }
            },
            "type": "histogram"
           }
          ],
          "histogram2d": [
           {
            "colorbar": {
             "outlinewidth": 0,
             "ticks": ""
            },
            "colorscale": [
             [
              0,
              "#0d0887"
             ],
             [
              0.1111111111111111,
              "#46039f"
             ],
             [
              0.2222222222222222,
              "#7201a8"
             ],
             [
              0.3333333333333333,
              "#9c179e"
             ],
             [
              0.4444444444444444,
              "#bd3786"
             ],
             [
              0.5555555555555556,
              "#d8576b"
             ],
             [
              0.6666666666666666,
              "#ed7953"
             ],
             [
              0.7777777777777778,
              "#fb9f3a"
             ],
             [
              0.8888888888888888,
              "#fdca26"
             ],
             [
              1,
              "#f0f921"
             ]
            ],
            "type": "histogram2d"
           }
          ],
          "histogram2dcontour": [
           {
            "colorbar": {
             "outlinewidth": 0,
             "ticks": ""
            },
            "colorscale": [
             [
              0,
              "#0d0887"
             ],
             [
              0.1111111111111111,
              "#46039f"
             ],
             [
              0.2222222222222222,
              "#7201a8"
             ],
             [
              0.3333333333333333,
              "#9c179e"
             ],
             [
              0.4444444444444444,
              "#bd3786"
             ],
             [
              0.5555555555555556,
              "#d8576b"
             ],
             [
              0.6666666666666666,
              "#ed7953"
             ],
             [
              0.7777777777777778,
              "#fb9f3a"
             ],
             [
              0.8888888888888888,
              "#fdca26"
             ],
             [
              1,
              "#f0f921"
             ]
            ],
            "type": "histogram2dcontour"
           }
          ],
          "mesh3d": [
           {
            "colorbar": {
             "outlinewidth": 0,
             "ticks": ""
            },
            "type": "mesh3d"
           }
          ],
          "parcoords": [
           {
            "line": {
             "colorbar": {
              "outlinewidth": 0,
              "ticks": ""
             }
            },
            "type": "parcoords"
           }
          ],
          "pie": [
           {
            "automargin": true,
            "type": "pie"
           }
          ],
          "scatter": [
           {
            "fillpattern": {
             "fillmode": "overlay",
             "size": 10,
             "solidity": 0.2
            },
            "type": "scatter"
           }
          ],
          "scatter3d": [
           {
            "line": {
             "colorbar": {
              "outlinewidth": 0,
              "ticks": ""
             }
            },
            "marker": {
             "colorbar": {
              "outlinewidth": 0,
              "ticks": ""
             }
            },
            "type": "scatter3d"
           }
          ],
          "scattercarpet": [
           {
            "marker": {
             "colorbar": {
              "outlinewidth": 0,
              "ticks": ""
             }
            },
            "type": "scattercarpet"
           }
          ],
          "scattergeo": [
           {
            "marker": {
             "colorbar": {
              "outlinewidth": 0,
              "ticks": ""
             }
            },
            "type": "scattergeo"
           }
          ],
          "scattergl": [
           {
            "marker": {
             "colorbar": {
              "outlinewidth": 0,
              "ticks": ""
             }
            },
            "type": "scattergl"
           }
          ],
          "scattermapbox": [
           {
            "marker": {
             "colorbar": {
              "outlinewidth": 0,
              "ticks": ""
             }
            },
            "type": "scattermapbox"
           }
          ],
          "scatterpolar": [
           {
            "marker": {
             "colorbar": {
              "outlinewidth": 0,
              "ticks": ""
             }
            },
            "type": "scatterpolar"
           }
          ],
          "scatterpolargl": [
           {
            "marker": {
             "colorbar": {
              "outlinewidth": 0,
              "ticks": ""
             }
            },
            "type": "scatterpolargl"
           }
          ],
          "scatterternary": [
           {
            "marker": {
             "colorbar": {
              "outlinewidth": 0,
              "ticks": ""
             }
            },
            "type": "scatterternary"
           }
          ],
          "surface": [
           {
            "colorbar": {
             "outlinewidth": 0,
             "ticks": ""
            },
            "colorscale": [
             [
              0,
              "#0d0887"
             ],
             [
              0.1111111111111111,
              "#46039f"
             ],
             [
              0.2222222222222222,
              "#7201a8"
             ],
             [
              0.3333333333333333,
              "#9c179e"
             ],
             [
              0.4444444444444444,
              "#bd3786"
             ],
             [
              0.5555555555555556,
              "#d8576b"
             ],
             [
              0.6666666666666666,
              "#ed7953"
             ],
             [
              0.7777777777777778,
              "#fb9f3a"
             ],
             [
              0.8888888888888888,
              "#fdca26"
             ],
             [
              1,
              "#f0f921"
             ]
            ],
            "type": "surface"
           }
          ],
          "table": [
           {
            "cells": {
             "fill": {
              "color": "#EBF0F8"
             },
             "line": {
              "color": "white"
             }
            },
            "header": {
             "fill": {
              "color": "#C8D4E3"
             },
             "line": {
              "color": "white"
             }
            },
            "type": "table"
           }
          ]
         },
         "layout": {
          "annotationdefaults": {
           "arrowcolor": "#2a3f5f",
           "arrowhead": 0,
           "arrowwidth": 1
          },
          "autotypenumbers": "strict",
          "coloraxis": {
           "colorbar": {
            "outlinewidth": 0,
            "ticks": ""
           }
          },
          "colorscale": {
           "diverging": [
            [
             0,
             "#8e0152"
            ],
            [
             0.1,
             "#c51b7d"
            ],
            [
             0.2,
             "#de77ae"
            ],
            [
             0.3,
             "#f1b6da"
            ],
            [
             0.4,
             "#fde0ef"
            ],
            [
             0.5,
             "#f7f7f7"
            ],
            [
             0.6,
             "#e6f5d0"
            ],
            [
             0.7,
             "#b8e186"
            ],
            [
             0.8,
             "#7fbc41"
            ],
            [
             0.9,
             "#4d9221"
            ],
            [
             1,
             "#276419"
            ]
           ],
           "sequential": [
            [
             0,
             "#0d0887"
            ],
            [
             0.1111111111111111,
             "#46039f"
            ],
            [
             0.2222222222222222,
             "#7201a8"
            ],
            [
             0.3333333333333333,
             "#9c179e"
            ],
            [
             0.4444444444444444,
             "#bd3786"
            ],
            [
             0.5555555555555556,
             "#d8576b"
            ],
            [
             0.6666666666666666,
             "#ed7953"
            ],
            [
             0.7777777777777778,
             "#fb9f3a"
            ],
            [
             0.8888888888888888,
             "#fdca26"
            ],
            [
             1,
             "#f0f921"
            ]
           ],
           "sequentialminus": [
            [
             0,
             "#0d0887"
            ],
            [
             0.1111111111111111,
             "#46039f"
            ],
            [
             0.2222222222222222,
             "#7201a8"
            ],
            [
             0.3333333333333333,
             "#9c179e"
            ],
            [
             0.4444444444444444,
             "#bd3786"
            ],
            [
             0.5555555555555556,
             "#d8576b"
            ],
            [
             0.6666666666666666,
             "#ed7953"
            ],
            [
             0.7777777777777778,
             "#fb9f3a"
            ],
            [
             0.8888888888888888,
             "#fdca26"
            ],
            [
             1,
             "#f0f921"
            ]
           ]
          },
          "colorway": [
           "#636efa",
           "#EF553B",
           "#00cc96",
           "#ab63fa",
           "#FFA15A",
           "#19d3f3",
           "#FF6692",
           "#B6E880",
           "#FF97FF",
           "#FECB52"
          ],
          "font": {
           "color": "#2a3f5f"
          },
          "geo": {
           "bgcolor": "white",
           "lakecolor": "white",
           "landcolor": "#E5ECF6",
           "showlakes": true,
           "showland": true,
           "subunitcolor": "white"
          },
          "hoverlabel": {
           "align": "left"
          },
          "hovermode": "closest",
          "mapbox": {
           "style": "light"
          },
          "paper_bgcolor": "white",
          "plot_bgcolor": "#E5ECF6",
          "polar": {
           "angularaxis": {
            "gridcolor": "white",
            "linecolor": "white",
            "ticks": ""
           },
           "bgcolor": "#E5ECF6",
           "radialaxis": {
            "gridcolor": "white",
            "linecolor": "white",
            "ticks": ""
           }
          },
          "scene": {
           "xaxis": {
            "backgroundcolor": "#E5ECF6",
            "gridcolor": "white",
            "gridwidth": 2,
            "linecolor": "white",
            "showbackground": true,
            "ticks": "",
            "zerolinecolor": "white"
           },
           "yaxis": {
            "backgroundcolor": "#E5ECF6",
            "gridcolor": "white",
            "gridwidth": 2,
            "linecolor": "white",
            "showbackground": true,
            "ticks": "",
            "zerolinecolor": "white"
           },
           "zaxis": {
            "backgroundcolor": "#E5ECF6",
            "gridcolor": "white",
            "gridwidth": 2,
            "linecolor": "white",
            "showbackground": true,
            "ticks": "",
            "zerolinecolor": "white"
           }
          },
          "shapedefaults": {
           "line": {
            "color": "#2a3f5f"
           }
          },
          "ternary": {
           "aaxis": {
            "gridcolor": "white",
            "linecolor": "white",
            "ticks": ""
           },
           "baxis": {
            "gridcolor": "white",
            "linecolor": "white",
            "ticks": ""
           },
           "bgcolor": "#E5ECF6",
           "caxis": {
            "gridcolor": "white",
            "linecolor": "white",
            "ticks": ""
           }
          },
          "title": {
           "x": 0.05
          },
          "xaxis": {
           "automargin": true,
           "gridcolor": "white",
           "linecolor": "white",
           "ticks": "",
           "title": {
            "standoff": 15
           },
           "zerolinecolor": "white",
           "zerolinewidth": 2
          },
          "yaxis": {
           "automargin": true,
           "gridcolor": "white",
           "linecolor": "white",
           "ticks": "",
           "title": {
            "standoff": 15
           },
           "zerolinecolor": "white",
           "zerolinewidth": 2
          }
         }
        },
        "title": {
         "text": "UF1 f2"
        }
       }
      }
     },
     "metadata": {},
     "output_type": "display_data"
    }
   ],
   "source": [
    "import pandas as pd\n",
    "import numpy as np\n",
    "\n",
    "import plotly.graph_objects as go\n",
    "\n",
    "def plot_parallel_coordinates(problem, problem_name, n_samples = 20):\n",
    "\n",
    "        dimensions = [\"g\"+str(i) for i in range(problem.n_var)]\n",
    "        objectives = [\"f\"+str(i+1) for i in range(problem.n_obj)]\n",
    "        df_labels = dimensions + objectives\n",
    "\n",
    "        ps = problem._calc_pareto_set(n_pareto_points=n_samples)\n",
    "        pf = problem.evaluate(ps)\n",
    "        df_data = np.concatenate((ps, pf), axis=1)\n",
    "        df = pd.DataFrame(df_data, columns=df_labels)\n",
    "\n",
    "        fitness_range_f1 = [df[\"f1\"].min(), df[\"f1\"].max()]\n",
    "        fitness_range_f2 = [df[\"f2\"].min(), df[\"f2\"].max()]\n",
    "\n",
    "        dimensions = list([ dict(range=[problem.xl[gene_id], problem.xu[gene_id]], values=df[dimensions[gene_id]]) for gene_id in range(problem.n_var) ])\n",
    "\n",
    "        fig = go.Figure(\n",
    "                data=go.Parcoords(\n",
    "                        line=dict(\n",
    "                                color=df['f1'],\n",
    "                                colorbar=dict(\n",
    "                                title='f1',\n",
    "                                ),\n",
    "                                colorscale='Blues',\n",
    "                                cmin = fitness_range_f1[0],\n",
    "                                cmax = fitness_range_f1[1]\n",
    "                        ),\n",
    "                        dimensions = dimensions,\n",
    "                        name=\"f1\",\n",
    "                )\n",
    "        )\n",
    "        fig.update_layout(title=problem_name+\" f1\")\n",
    "        fig.show()\n",
    "        fig = go.Figure(\n",
    "                data=go.Parcoords(\n",
    "                        line=dict(\n",
    "                                color=df['f2'],\n",
    "                                colorbar=dict(\n",
    "                                title='f2',\n",
    "                                ),\n",
    "                                colorscale='Oranges',\n",
    "                                cmin = fitness_range_f2[0],\n",
    "                                cmax = fitness_range_f2[1]\n",
    "                        ),\n",
    "                        dimensions = dimensions,\n",
    "                        name=\"f2\",\n",
    "                )\n",
    "        )\n",
    "        fig.update_layout(title=problem_name+\" f2\")\n",
    "        fig.show()"
   ]
  },
  {
   "cell_type": "code",
   "execution_count": 113,
   "metadata": {},
   "outputs": [
    {
     "ename": "ValueError",
     "evalue": "Invalid property specified for object of type plotly.graph_objs.Parcoords: 'row'\n\nDid you mean \"ids\"?\n\n    Valid properties:\n        customdata\n            Assigns extra data each datum. This may be useful when\n            listening to hover, click and selection events. Note\n            that, \"scatter\" traces also appends customdata items in\n            the markers DOM elements\n        customdatasrc\n            Sets the source reference on Chart Studio Cloud for\n            `customdata`.\n        dimensions\n            The dimensions (variables) of the parallel coordinates\n            chart. 2..60 dimensions are supported.\n        dimensiondefaults\n            When used in a template (as\n            layout.template.data.parcoords.dimensiondefaults), sets\n            the default property values to use for elements of\n            parcoords.dimensions\n        domain\n            :class:`plotly.graph_objects.parcoords.Domain` instance\n            or dict with compatible properties\n        ids\n            Assigns id labels to each datum. These ids for object\n            constancy of data points during animation. Should be an\n            array of strings, not numbers or any other type.\n        idssrc\n            Sets the source reference on Chart Studio Cloud for\n            `ids`.\n        labelangle\n            Sets the angle of the labels with respect to the\n            horizontal. For example, a `tickangle` of -90 draws the\n            labels vertically. Tilted labels with \"labelangle\" may\n            be positioned better inside margins when\n            `labelposition` is set to \"bottom\".\n        labelfont\n            Sets the font for the `dimension` labels.\n        labelside\n            Specifies the location of the `label`. \"top\" positions\n            labels above, next to the title \"bottom\" positions\n            labels below the graph Tilted labels with \"labelangle\"\n            may be positioned better inside margins when\n            `labelposition` is set to \"bottom\".\n        legend\n            Sets the reference to a legend to show this trace in.\n            References to these legends are \"legend\", \"legend2\",\n            \"legend3\", etc. Settings for these legends are set in\n            the layout, under `layout.legend`, `layout.legend2`,\n            etc.\n        legendgrouptitle\n            :class:`plotly.graph_objects.parcoords.Legendgrouptitle\n            ` instance or dict with compatible properties\n        legendrank\n            Sets the legend rank for this trace. Items and groups\n            with smaller ranks are presented on top/left side while\n            with `*reversed* `legend.traceorder` they are on\n            bottom/right side. The default legendrank is 1000, so\n            that you can use ranks less than 1000 to place certain\n            items before all unranked items, and ranks greater than\n            1000 to go after all unranked items.\n        legendwidth\n            Sets the width (in px or fraction) of the legend for\n            this trace.\n        line\n            :class:`plotly.graph_objects.parcoords.Line` instance\n            or dict with compatible properties\n        meta\n            Assigns extra meta information associated with this\n            trace that can be used in various text attributes.\n            Attributes such as trace `name`, graph, axis and\n            colorbar `title.text`, annotation `text`\n            `rangeselector`, `updatemenues` and `sliders` `label`\n            text all support `meta`. To access the trace `meta`\n            values in an attribute in the same trace, simply use\n            `%{meta[i]}` where `i` is the index or key of the\n            `meta` item in question. To access trace `meta` in\n            layout attributes, use `%{data[n[.meta[i]}` where `i`\n            is the index or key of the `meta` and `n` is the trace\n            index.\n        metasrc\n            Sets the source reference on Chart Studio Cloud for\n            `meta`.\n        name\n            Sets the trace name. The trace name appear as the\n            legend item and on hover.\n        rangefont\n            Sets the font for the `dimension` range values.\n        stream\n            :class:`plotly.graph_objects.parcoords.Stream` instance\n            or dict with compatible properties\n        tickfont\n            Sets the font for the `dimension` tick values.\n        uid\n            Assign an id to this trace, Use this to provide object\n            constancy between traces during animations and\n            transitions.\n        uirevision\n            Controls persistence of some user-driven changes to the\n            trace: `constraintrange` in `parcoords` traces, as well\n            as some `editable: true` modifications such as `name`\n            and `colorbar.title`. Defaults to `layout.uirevision`.\n            Note that other user-driven trace attribute changes are\n            controlled by `layout` attributes: `trace.visible` is\n            controlled by `layout.legend.uirevision`,\n            `selectedpoints` is controlled by\n            `layout.selectionrevision`, and `colorbar.(x|y)`\n            (accessible with `config: {editable: true}`) is\n            controlled by `layout.editrevision`. Trace changes are\n            tracked by `uid`, which only falls back on trace index\n            if no `uid` is provided. So if your app can add/remove\n            traces before the end of the `data` array, such that\n            the same trace has a different index, you can still\n            preserve user-driven changes if you give each trace a\n            `uid` that stays with it as it moves.\n        unselected\n            :class:`plotly.graph_objects.parcoords.Unselected`\n            instance or dict with compatible properties\n        visible\n            Determines whether or not this trace is visible. If\n            \"legendonly\", the trace is not drawn, but can appear as\n            a legend item (provided that the legend itself is\n            visible).\n        \nDid you mean \"ids\"?\n\nBad property path:\nrow\n^^^",
     "output_type": "error",
     "traceback": [
      "\u001b[0;31m---------------------------------------------------------------------------\u001b[0m",
      "\u001b[0;31mValueError\u001b[0m                                Traceback (most recent call last)",
      "Cell \u001b[0;32mIn[113], line 3\u001b[0m\n\u001b[1;32m      1\u001b[0m \u001b[38;5;28;01mfrom\u001b[39;00m \u001b[38;5;21;01mpymoo_problems\u001b[39;00m\u001b[38;5;21;01m.\u001b[39;00m\u001b[38;5;21;01mmoo\u001b[39;00m\u001b[38;5;21;01m.\u001b[39;00m\u001b[38;5;21;01muf\u001b[39;00m \u001b[38;5;28;01mimport\u001b[39;00m UF1, UF2, UF3\n\u001b[1;32m      2\u001b[0m n_var \u001b[38;5;241m=\u001b[39m \u001b[38;5;241m4\u001b[39m\n\u001b[0;32m----> 3\u001b[0m \u001b[43mplot_parallel_coordinates\u001b[49m\u001b[43m(\u001b[49m\u001b[43m \u001b[49m\u001b[43mUF1\u001b[49m\u001b[43m(\u001b[49m\u001b[43mn_var\u001b[49m\u001b[38;5;241;43m=\u001b[39;49m\u001b[43mn_var\u001b[49m\u001b[43m)\u001b[49m\u001b[43m,\u001b[49m\u001b[43m \u001b[49m\u001b[38;5;124;43m\"\u001b[39;49m\u001b[38;5;124;43mUF1\u001b[39;49m\u001b[38;5;124;43m\"\u001b[39;49m\u001b[43m)\u001b[49m\n\u001b[1;32m      4\u001b[0m plot_parallel_coordinates( UF2(n_var\u001b[38;5;241m=\u001b[39mn_var), \u001b[38;5;124m\"\u001b[39m\u001b[38;5;124mUF2\u001b[39m\u001b[38;5;124m\"\u001b[39m )\n\u001b[1;32m      5\u001b[0m plot_parallel_coordinates( UF3(n_var\u001b[38;5;241m=\u001b[39mn_var), \u001b[38;5;124m\"\u001b[39m\u001b[38;5;124mUF3\u001b[39m\u001b[38;5;124m\"\u001b[39m )\n",
      "Cell \u001b[0;32mIn[112], line 23\u001b[0m, in \u001b[0;36mplot_parallel_coordinates\u001b[0;34m(problem, problem_name, n_samples)\u001b[0m\n\u001b[1;32m     21\u001b[0m dimensions \u001b[38;5;241m=\u001b[39m \u001b[38;5;28mlist\u001b[39m([ \u001b[38;5;28mdict\u001b[39m(\u001b[38;5;28mrange\u001b[39m\u001b[38;5;241m=\u001b[39m[problem\u001b[38;5;241m.\u001b[39mxl[gene_id], problem\u001b[38;5;241m.\u001b[39mxu[gene_id]], values\u001b[38;5;241m=\u001b[39mdf[dimensions[gene_id]]) \u001b[38;5;28;01mfor\u001b[39;00m gene_id \u001b[38;5;129;01min\u001b[39;00m \u001b[38;5;28mrange\u001b[39m(problem\u001b[38;5;241m.\u001b[39mn_var) ])\n\u001b[1;32m     22\u001b[0m fig\u001b[38;5;241m=\u001b[39mmake_subplots(rows\u001b[38;5;241m=\u001b[39m\u001b[38;5;241m1\u001b[39m, cols\u001b[38;5;241m=\u001b[39m\u001b[38;5;241m2\u001b[39m)\n\u001b[0;32m---> 23\u001b[0m fig\u001b[38;5;241m.\u001b[39madd_trace(\u001b[43mgo\u001b[49m\u001b[38;5;241;43m.\u001b[39;49m\u001b[43mParcoords\u001b[49m\u001b[43m(\u001b[49m\n\u001b[1;32m     24\u001b[0m \u001b[43m                \u001b[49m\u001b[43mline\u001b[49m\u001b[38;5;241;43m=\u001b[39;49m\u001b[38;5;28;43mdict\u001b[39;49m\u001b[43m(\u001b[49m\n\u001b[1;32m     25\u001b[0m \u001b[43m                        \u001b[49m\u001b[43mcolor\u001b[49m\u001b[38;5;241;43m=\u001b[39;49m\u001b[43mdf\u001b[49m\u001b[43m[\u001b[49m\u001b[38;5;124;43m'\u001b[39;49m\u001b[38;5;124;43mf1\u001b[39;49m\u001b[38;5;124;43m'\u001b[39;49m\u001b[43m]\u001b[49m\u001b[43m,\u001b[49m\n\u001b[1;32m     26\u001b[0m \u001b[43m                        \u001b[49m\u001b[43mcolorbar\u001b[49m\u001b[38;5;241;43m=\u001b[39;49m\u001b[38;5;28;43mdict\u001b[39;49m\u001b[43m(\u001b[49m\n\u001b[1;32m     27\u001b[0m \u001b[43m                        \u001b[49m\u001b[43mtitle\u001b[49m\u001b[38;5;241;43m=\u001b[39;49m\u001b[38;5;124;43m'\u001b[39;49m\u001b[38;5;124;43mf1\u001b[39;49m\u001b[38;5;124;43m'\u001b[39;49m\u001b[43m,\u001b[49m\n\u001b[1;32m     28\u001b[0m \u001b[43m                        \u001b[49m\u001b[43m)\u001b[49m\u001b[43m,\u001b[49m\n\u001b[1;32m     29\u001b[0m \u001b[43m                        \u001b[49m\u001b[43mcolorscale\u001b[49m\u001b[38;5;241;43m=\u001b[39;49m\u001b[38;5;124;43m'\u001b[39;49m\u001b[38;5;124;43mBlues\u001b[39;49m\u001b[38;5;124;43m'\u001b[39;49m\u001b[43m,\u001b[49m\n\u001b[1;32m     30\u001b[0m \u001b[43m                        \u001b[49m\u001b[43mcmin\u001b[49m\u001b[43m \u001b[49m\u001b[38;5;241;43m=\u001b[39;49m\u001b[43m \u001b[49m\u001b[43mfitness_range_f1\u001b[49m\u001b[43m[\u001b[49m\u001b[38;5;241;43m0\u001b[39;49m\u001b[43m]\u001b[49m\u001b[43m,\u001b[49m\n\u001b[1;32m     31\u001b[0m \u001b[43m                        \u001b[49m\u001b[43mcmax\u001b[49m\u001b[43m \u001b[49m\u001b[38;5;241;43m=\u001b[39;49m\u001b[43m \u001b[49m\u001b[43mfitness_range_f1\u001b[49m\u001b[43m[\u001b[49m\u001b[38;5;241;43m1\u001b[39;49m\u001b[43m]\u001b[49m\n\u001b[1;32m     32\u001b[0m \u001b[43m                \u001b[49m\u001b[43m)\u001b[49m\u001b[43m,\u001b[49m\n\u001b[1;32m     33\u001b[0m \u001b[43m                \u001b[49m\u001b[43mdimensions\u001b[49m\u001b[43m \u001b[49m\u001b[38;5;241;43m=\u001b[39;49m\u001b[43m \u001b[49m\u001b[43mdimensions\u001b[49m\u001b[43m,\u001b[49m\n\u001b[1;32m     34\u001b[0m \u001b[43m                \u001b[49m\u001b[43mname\u001b[49m\u001b[38;5;241;43m=\u001b[39;49m\u001b[38;5;124;43m\"\u001b[39;49m\u001b[38;5;124;43mf1\u001b[39;49m\u001b[38;5;124;43m\"\u001b[39;49m\u001b[43m,\u001b[49m\n\u001b[1;32m     35\u001b[0m \u001b[43m                \u001b[49m\u001b[43mrow\u001b[49m\u001b[38;5;241;43m=\u001b[39;49m\u001b[38;5;241;43m1\u001b[39;49m\u001b[43m,\u001b[49m\u001b[43m \u001b[49m\u001b[43mcol\u001b[49m\u001b[38;5;241;43m=\u001b[39;49m\u001b[38;5;241;43m1\u001b[39;49m\n\u001b[1;32m     36\u001b[0m \u001b[43m        \u001b[49m\u001b[43m)\u001b[49m\n\u001b[1;32m     37\u001b[0m )\n\u001b[1;32m     38\u001b[0m fig\u001b[38;5;241m.\u001b[39madd_trace(go\u001b[38;5;241m.\u001b[39mParcoords(\n\u001b[1;32m     39\u001b[0m                 line\u001b[38;5;241m=\u001b[39m\u001b[38;5;28mdict\u001b[39m(\n\u001b[1;32m     40\u001b[0m                         color\u001b[38;5;241m=\u001b[39mdf[\u001b[38;5;124m'\u001b[39m\u001b[38;5;124mf2\u001b[39m\u001b[38;5;124m'\u001b[39m],\n\u001b[0;32m   (...)\u001b[0m\n\u001b[1;32m     51\u001b[0m         ),\n\u001b[1;32m     52\u001b[0m )\n\u001b[1;32m     53\u001b[0m fig\u001b[38;5;241m.\u001b[39mupdate_layout(title\u001b[38;5;241m=\u001b[39mproblem_name\u001b[38;5;241m+\u001b[39m\u001b[38;5;124m\"\u001b[39m\u001b[38;5;124m f2\u001b[39m\u001b[38;5;124m\"\u001b[39m)\n",
      "File \u001b[0;32m~/Develop/genome_in_moeas/venv/lib/python3.9/site-packages/plotly/graph_objs/_parcoords.py:1336\u001b[0m, in \u001b[0;36mParcoords.__init__\u001b[0;34m(self, arg, customdata, customdatasrc, dimensions, dimensiondefaults, domain, ids, idssrc, labelangle, labelfont, labelside, legend, legendgrouptitle, legendrank, legendwidth, line, meta, metasrc, name, rangefont, stream, tickfont, uid, uirevision, unselected, visible, **kwargs)\u001b[0m\n\u001b[1;32m   1332\u001b[0m arg\u001b[38;5;241m.\u001b[39mpop(\u001b[38;5;124m\"\u001b[39m\u001b[38;5;124mtype\u001b[39m\u001b[38;5;124m\"\u001b[39m, \u001b[38;5;28;01mNone\u001b[39;00m)\n\u001b[1;32m   1334\u001b[0m \u001b[38;5;66;03m# Process unknown kwargs\u001b[39;00m\n\u001b[1;32m   1335\u001b[0m \u001b[38;5;66;03m# ----------------------\u001b[39;00m\n\u001b[0;32m-> 1336\u001b[0m \u001b[38;5;28;43mself\u001b[39;49m\u001b[38;5;241;43m.\u001b[39;49m\u001b[43m_process_kwargs\u001b[49m\u001b[43m(\u001b[49m\u001b[38;5;241;43m*\u001b[39;49m\u001b[38;5;241;43m*\u001b[39;49m\u001b[38;5;28;43mdict\u001b[39;49m\u001b[43m(\u001b[49m\u001b[43marg\u001b[49m\u001b[43m,\u001b[49m\u001b[43m \u001b[49m\u001b[38;5;241;43m*\u001b[39;49m\u001b[38;5;241;43m*\u001b[39;49m\u001b[43mkwargs\u001b[49m\u001b[43m)\u001b[49m\u001b[43m)\u001b[49m\n\u001b[1;32m   1338\u001b[0m \u001b[38;5;66;03m# Reset skip_invalid\u001b[39;00m\n\u001b[1;32m   1339\u001b[0m \u001b[38;5;66;03m# ------------------\u001b[39;00m\n\u001b[1;32m   1340\u001b[0m \u001b[38;5;28mself\u001b[39m\u001b[38;5;241m.\u001b[39m_skip_invalid \u001b[38;5;241m=\u001b[39m \u001b[38;5;28;01mFalse\u001b[39;00m\n",
      "File \u001b[0;32m~/Develop/genome_in_moeas/venv/lib/python3.9/site-packages/plotly/basedatatypes.py:4391\u001b[0m, in \u001b[0;36mBasePlotlyType._process_kwargs\u001b[0;34m(self, **kwargs)\u001b[0m\n\u001b[1;32m   4389\u001b[0m     \u001b[38;5;28mself\u001b[39m[k] \u001b[38;5;241m=\u001b[39m v\n\u001b[1;32m   4390\u001b[0m \u001b[38;5;28;01melif\u001b[39;00m \u001b[38;5;129;01mnot\u001b[39;00m \u001b[38;5;28mself\u001b[39m\u001b[38;5;241m.\u001b[39m_skip_invalid:\n\u001b[0;32m-> 4391\u001b[0m     \u001b[38;5;28;01mraise\u001b[39;00m err\n",
      "\u001b[0;31mValueError\u001b[0m: Invalid property specified for object of type plotly.graph_objs.Parcoords: 'row'\n\nDid you mean \"ids\"?\n\n    Valid properties:\n        customdata\n            Assigns extra data each datum. This may be useful when\n            listening to hover, click and selection events. Note\n            that, \"scatter\" traces also appends customdata items in\n            the markers DOM elements\n        customdatasrc\n            Sets the source reference on Chart Studio Cloud for\n            `customdata`.\n        dimensions\n            The dimensions (variables) of the parallel coordinates\n            chart. 2..60 dimensions are supported.\n        dimensiondefaults\n            When used in a template (as\n            layout.template.data.parcoords.dimensiondefaults), sets\n            the default property values to use for elements of\n            parcoords.dimensions\n        domain\n            :class:`plotly.graph_objects.parcoords.Domain` instance\n            or dict with compatible properties\n        ids\n            Assigns id labels to each datum. These ids for object\n            constancy of data points during animation. Should be an\n            array of strings, not numbers or any other type.\n        idssrc\n            Sets the source reference on Chart Studio Cloud for\n            `ids`.\n        labelangle\n            Sets the angle of the labels with respect to the\n            horizontal. For example, a `tickangle` of -90 draws the\n            labels vertically. Tilted labels with \"labelangle\" may\n            be positioned better inside margins when\n            `labelposition` is set to \"bottom\".\n        labelfont\n            Sets the font for the `dimension` labels.\n        labelside\n            Specifies the location of the `label`. \"top\" positions\n            labels above, next to the title \"bottom\" positions\n            labels below the graph Tilted labels with \"labelangle\"\n            may be positioned better inside margins when\n            `labelposition` is set to \"bottom\".\n        legend\n            Sets the reference to a legend to show this trace in.\n            References to these legends are \"legend\", \"legend2\",\n            \"legend3\", etc. Settings for these legends are set in\n            the layout, under `layout.legend`, `layout.legend2`,\n            etc.\n        legendgrouptitle\n            :class:`plotly.graph_objects.parcoords.Legendgrouptitle\n            ` instance or dict with compatible properties\n        legendrank\n            Sets the legend rank for this trace. Items and groups\n            with smaller ranks are presented on top/left side while\n            with `*reversed* `legend.traceorder` they are on\n            bottom/right side. The default legendrank is 1000, so\n            that you can use ranks less than 1000 to place certain\n            items before all unranked items, and ranks greater than\n            1000 to go after all unranked items.\n        legendwidth\n            Sets the width (in px or fraction) of the legend for\n            this trace.\n        line\n            :class:`plotly.graph_objects.parcoords.Line` instance\n            or dict with compatible properties\n        meta\n            Assigns extra meta information associated with this\n            trace that can be used in various text attributes.\n            Attributes such as trace `name`, graph, axis and\n            colorbar `title.text`, annotation `text`\n            `rangeselector`, `updatemenues` and `sliders` `label`\n            text all support `meta`. To access the trace `meta`\n            values in an attribute in the same trace, simply use\n            `%{meta[i]}` where `i` is the index or key of the\n            `meta` item in question. To access trace `meta` in\n            layout attributes, use `%{data[n[.meta[i]}` where `i`\n            is the index or key of the `meta` and `n` is the trace\n            index.\n        metasrc\n            Sets the source reference on Chart Studio Cloud for\n            `meta`.\n        name\n            Sets the trace name. The trace name appear as the\n            legend item and on hover.\n        rangefont\n            Sets the font for the `dimension` range values.\n        stream\n            :class:`plotly.graph_objects.parcoords.Stream` instance\n            or dict with compatible properties\n        tickfont\n            Sets the font for the `dimension` tick values.\n        uid\n            Assign an id to this trace, Use this to provide object\n            constancy between traces during animations and\n            transitions.\n        uirevision\n            Controls persistence of some user-driven changes to the\n            trace: `constraintrange` in `parcoords` traces, as well\n            as some `editable: true` modifications such as `name`\n            and `colorbar.title`. Defaults to `layout.uirevision`.\n            Note that other user-driven trace attribute changes are\n            controlled by `layout` attributes: `trace.visible` is\n            controlled by `layout.legend.uirevision`,\n            `selectedpoints` is controlled by\n            `layout.selectionrevision`, and `colorbar.(x|y)`\n            (accessible with `config: {editable: true}`) is\n            controlled by `layout.editrevision`. Trace changes are\n            tracked by `uid`, which only falls back on trace index\n            if no `uid` is provided. So if your app can add/remove\n            traces before the end of the `data` array, such that\n            the same trace has a different index, you can still\n            preserve user-driven changes if you give each trace a\n            `uid` that stays with it as it moves.\n        unselected\n            :class:`plotly.graph_objects.parcoords.Unselected`\n            instance or dict with compatible properties\n        visible\n            Determines whether or not this trace is visible. If\n            \"legendonly\", the trace is not drawn, but can appear as\n            a legend item (provided that the legend itself is\n            visible).\n        \nDid you mean \"ids\"?\n\nBad property path:\nrow\n^^^"
     ]
    }
   ],
   "source": [
    "from pymoo_problems.moo.uf import UF1, UF2, UF3\n",
    "n_var = 4\n",
    "plot_parallel_coordinates( UF1(n_var=n_var), \"UF1\")\n",
    "plot_parallel_coordinates( UF2(n_var=n_var), \"UF2\" )\n",
    "plot_parallel_coordinates( UF3(n_var=n_var), \"UF3\" )"
   ]
  },
  {
   "cell_type": "code",
   "execution_count": 106,
   "metadata": {},
   "outputs": [
    {
     "name": "stdout",
     "output_type": "stream",
     "text": [
      "10 0\n"
     ]
    },
    {
     "data": {
      "application/vnd.plotly.v1+json": {
       "config": {
        "plotlyServerURL": "https://plot.ly"
       },
       "data": [
        {
         "dimensions": [
          {
           "range": [
            0,
            1
           ],
           "values": [
            0,
            0,
            0,
            0,
            0,
            0,
            0,
            0,
            0,
            0,
            0.1111111111111111,
            0.1111111111111111,
            0.1111111111111111,
            0.1111111111111111,
            0.1111111111111111,
            0.1111111111111111,
            0.1111111111111111,
            0.1111111111111111,
            0.1111111111111111,
            0.1111111111111111,
            0.2222222222222222,
            0.2222222222222222,
            0.2222222222222222,
            0.2222222222222222,
            0.2222222222222222,
            0.2222222222222222,
            0.2222222222222222,
            0.2222222222222222,
            0.2222222222222222,
            0.2222222222222222,
            0.3333333333333333,
            0.3333333333333333,
            0.3333333333333333,
            0.3333333333333333,
            0.3333333333333333,
            0.3333333333333333,
            0.3333333333333333,
            0.3333333333333333,
            0.3333333333333333,
            0.3333333333333333,
            0.4444444444444444,
            0.4444444444444444,
            0.4444444444444444,
            0.4444444444444444,
            0.4444444444444444,
            0.4444444444444444,
            0.4444444444444444,
            0.4444444444444444,
            0.4444444444444444,
            0.4444444444444444,
            0.5555555555555556,
            0.5555555555555556,
            0.5555555555555556,
            0.5555555555555556,
            0.5555555555555556,
            0.5555555555555556,
            0.5555555555555556,
            0.5555555555555556,
            0.5555555555555556,
            0.5555555555555556,
            0.6666666666666666,
            0.6666666666666666,
            0.6666666666666666,
            0.6666666666666666,
            0.6666666666666666,
            0.6666666666666666,
            0.6666666666666666,
            0.6666666666666666,
            0.6666666666666666,
            0.6666666666666666,
            0.7777777777777777,
            0.7777777777777777,
            0.7777777777777777,
            0.7777777777777777,
            0.7777777777777777,
            0.7777777777777777,
            0.7777777777777777,
            0.7777777777777777,
            0.7777777777777777,
            0.7777777777777777,
            0.8888888888888888,
            0.8888888888888888,
            0.8888888888888888,
            0.8888888888888888,
            0.8888888888888888,
            0.8888888888888888,
            0.8888888888888888,
            0.8888888888888888,
            0.8888888888888888,
            0.8888888888888888,
            1,
            1,
            1,
            1,
            1,
            1,
            1,
            1,
            1,
            1
           ]
          },
          {
           "range": [
            0,
            1
           ],
           "values": [
            0,
            0.1111111111111111,
            0.2222222222222222,
            0.3333333333333333,
            0.4444444444444444,
            0.5555555555555556,
            0.6666666666666666,
            0.7777777777777777,
            0.8888888888888888,
            1,
            0,
            0.1111111111111111,
            0.2222222222222222,
            0.3333333333333333,
            0.4444444444444444,
            0.5555555555555556,
            0.6666666666666666,
            0.7777777777777777,
            0.8888888888888888,
            1,
            0,
            0.1111111111111111,
            0.2222222222222222,
            0.3333333333333333,
            0.4444444444444444,
            0.5555555555555556,
            0.6666666666666666,
            0.7777777777777777,
            0.8888888888888888,
            1,
            0,
            0.1111111111111111,
            0.2222222222222222,
            0.3333333333333333,
            0.4444444444444444,
            0.5555555555555556,
            0.6666666666666666,
            0.7777777777777777,
            0.8888888888888888,
            1,
            0,
            0.1111111111111111,
            0.2222222222222222,
            0.3333333333333333,
            0.4444444444444444,
            0.5555555555555556,
            0.6666666666666666,
            0.7777777777777777,
            0.8888888888888888,
            1,
            0,
            0.1111111111111111,
            0.2222222222222222,
            0.3333333333333333,
            0.4444444444444444,
            0.5555555555555556,
            0.6666666666666666,
            0.7777777777777777,
            0.8888888888888888,
            1,
            0,
            0.1111111111111111,
            0.2222222222222222,
            0.3333333333333333,
            0.4444444444444444,
            0.5555555555555556,
            0.6666666666666666,
            0.7777777777777777,
            0.8888888888888888,
            1,
            0,
            0.1111111111111111,
            0.2222222222222222,
            0.3333333333333333,
            0.4444444444444444,
            0.5555555555555556,
            0.6666666666666666,
            0.7777777777777777,
            0.8888888888888888,
            1,
            0,
            0.1111111111111111,
            0.2222222222222222,
            0.3333333333333333,
            0.4444444444444444,
            0.5555555555555556,
            0.6666666666666666,
            0.7777777777777777,
            0.8888888888888888,
            1,
            0,
            0.1111111111111111,
            0.2222222222222222,
            0.3333333333333333,
            0.4444444444444444,
            0.5555555555555556,
            0.6666666666666666,
            0.7777777777777777,
            0.8888888888888888,
            1
           ]
          },
          {
           "range": [
            -2,
            2
           ],
           "values": [
            0,
            0.21134589251003413,
            0.42269178502006827,
            0.6340376775301024,
            0.8453835700401365,
            1.0567294625501709,
            1.2680753550602049,
            1.4794212475702389,
            1.690767140080273,
            1.9021130325903073,
            0,
            0.11775983649626777,
            0.23551967299253554,
            0.3532795094888033,
            0.4710393459850711,
            0.5887991824813389,
            0.7065590189776066,
            0.8243188554738744,
            0.9420786919701422,
            1.05983852846641,
            0,
            -0.030927355768903448,
            -0.061854711537806896,
            -0.09278206730671035,
            -0.12370942307561379,
            -0.15463677884451726,
            -0.1855641346134207,
            -0.21649149038232413,
            -0.24741884615122758,
            -0.27834620192013104,
            0,
            -0.165143294550532,
            -0.330286589101064,
            -0.495429883651596,
            -0.660573178202128,
            -0.82571647275266,
            -0.990859767303192,
            -1.1560030618537238,
            -1.321146356404256,
            -1.486289650954788,
            0,
            -0.22208685044868792,
            -0.44417370089737584,
            -0.6662605513460638,
            -0.8883474017947517,
            -1.1104342522434398,
            -1.3325211026921275,
            -1.5546079531408155,
            -1.7766948035895034,
            -1.9987816540381915,
            0,
            -0.17511350080149385,
            -0.3502270016029877,
            -0.5253405024044815,
            -0.7004540032059754,
            -0.8755675040074693,
            -1.050681004808963,
            -1.2257945056104569,
            -1.4009080064119508,
            -1.5760215072134447,
            0,
            -0.04620259795950219,
            -0.09240519591900438,
            -0.13860779387850658,
            -0.18481039183800876,
            -0.23101298979751098,
            -0.27721558775701316,
            -0.3234181857165153,
            -0.36962078367601753,
            -0.41582338163551974,
            0,
            0.10432701395242007,
            0.20865402790484014,
            0.3129810418572602,
            0.4173080558096803,
            0.5216350697621004,
            0.6259620837145204,
            0.7302890976669405,
            0.8346161116193606,
            0.9389431255717807,
            0,
            0.20604085657039714,
            0.4120817131407943,
            0.6181225697111914,
            0.8241634262815886,
            1.0302042828519857,
            1.2362451394223828,
            1.4422859959927798,
            1.6483268525631771,
            1.8543677091335744,
            0,
            0.21134589251003413,
            0.42269178502006827,
            0.6340376775301024,
            0.8453835700401365,
            1.0567294625501709,
            1.2680753550602049,
            1.4794212475702389,
            1.690767140080273,
            1.9021130325903073
           ]
          },
          {
           "range": [
            -2,
            2
           ],
           "values": [
            0,
            0.13061894495388293,
            0.26123788990776586,
            0.3918568348616488,
            0.5224757798155317,
            0.6530947247694148,
            0.7837136697232976,
            0.9143326146771805,
            1.0449515596310635,
            1.1755705045849465,
            0,
            -0.015501438609805615,
            -0.03100287721961123,
            -0.046504315829416845,
            -0.06200575443922246,
            -0.07750719304902809,
            -0.09300863165883369,
            -0.1085100702686393,
            -0.12401150887844492,
            -0.13951294748825055,
            0,
            -0.15436852676866608,
            -0.30873705353733216,
            -0.46310558030599824,
            -0.6174741070746643,
            -0.7718426338433304,
            -0.9262111606119965,
            -1.0805796873806623,
            -1.2349482141493286,
            -1.3893167409179947,
            0,
            -0.22100486563739405,
            -0.4420097312747881,
            -0.6630145969121821,
            -0.8840194625495762,
            -1.1050243281869703,
            -1.3260291938243642,
            -1.5470340594617582,
            -1.7680389250991524,
            -1.9890437907365466,
            0,
            -0.18423057167889814,
            -0.3684611433577963,
            -0.5526917150366943,
            -0.7369222867155926,
            -0.9211528583944907,
            -1.1053834300733887,
            -1.2896140017522868,
            -1.4738445734311851,
            -1.6580751451100832,
            0,
            -0.06125274573711106,
            -0.12250549147422211,
            -0.18375823721133316,
            -0.24501098294844423,
            -0.3062637286855553,
            -0.36751647442266633,
            -0.42876922015977736,
            -0.49002196589688846,
            -0.5512747116339995,
            0,
            0.09038592068351105,
            0.1807718413670221,
            0.2711577620505331,
            0.3615436827340442,
            0.4519296034175552,
            0.5423155241010662,
            0.6327014447845772,
            0.7230873654680884,
            0.8134732861515994,
            0,
            0.19973201028870372,
            0.39946402057740743,
            0.5991960308661112,
            0.7989280411548149,
            0.9986600514435188,
            1.1983920617322223,
            1.398124072020926,
            1.5978560823096297,
            1.7975880925983336,
            0,
            0.21562127250577695,
            0.4312425450115539,
            0.6468638175173309,
            0.8624850900231078,
            1.078106362528885,
            1.2937276350346618,
            1.5093489075404385,
            1.7249701800462156,
            1.9405914525519927,
            0,
            0.13061894495388296,
            0.2612378899077659,
            0.3918568348616489,
            0.5224757798155318,
            0.6530947247694149,
            0.7837136697232978,
            0.9143326146771806,
            1.0449515596310637,
            1.1755705045849467
           ]
          },
          {
           "range": [
            -2,
            2
           ],
           "values": [
            0,
            2.7214373314385625e-17,
            5.442874662877125e-17,
            8.164311994315688e-17,
            1.088574932575425e-16,
            1.3607186657192814e-16,
            1.6328623988631375e-16,
            1.9050061320069937e-16,
            2.17714986515085e-16,
            2.4492935982947064e-16,
            0,
            -0.14284169104145317,
            -0.28568338208290633,
            -0.4285250731243595,
            -0.5713667641658127,
            -0.7142084552072658,
            -0.857050146248719,
            -0.9998918372901721,
            -1.1427335283316253,
            -1.2855752193730785,
            0,
            -0.21884616733604623,
            -0.43769233467209245,
            -0.6565385020081387,
            -0.8753846693441849,
            -1.0942308366802311,
            -1.3130770040162774,
            -1.5319231713523234,
            -1.7507693386883698,
            -1.969615506024416,
            0,
            -0.19245008972987535,
            -0.3849001794597507,
            -0.577350269189626,
            -0.7698003589195014,
            -0.9622504486493767,
            -1.154700538379252,
            -1.3471506281091272,
            -1.5396007178390028,
            -1.732050807568878,
            0,
            -0.07600447629459302,
            -0.15200895258918604,
            -0.22801342888377907,
            -0.30401790517837207,
            -0.38002238147296513,
            -0.45602685776755814,
            -0.5320313340621511,
            -0.6080358103567441,
            -0.6840402866513372,
            0,
            0.07600447629459291,
            0.15200895258918581,
            0.22801342888377873,
            0.30401790517837163,
            0.3800223814729646,
            0.45602685776755747,
            0.5320313340621503,
            0.6080358103567433,
            0.6840402866513362,
            0,
            0.19245008972987518,
            0.38490017945975036,
            0.5773502691896255,
            0.7698003589195007,
            0.962250448649376,
            1.154700538379251,
            1.3471506281091261,
            1.5396007178390014,
            1.7320508075688767,
            0,
            0.21884616733604623,
            0.43769233467209245,
            0.6565385020081387,
            0.8753846693441849,
            1.0942308366802314,
            1.3130770040162774,
            1.5319231713523236,
            1.7507693386883698,
            1.9696155060244163,
            0,
            0.1428416910414531,
            0.2856833820829062,
            0.42852507312435933,
            0.5713667641658124,
            0.7142084552072656,
            0.8570501462487187,
            0.9998918372901717,
            1.142733528331625,
            1.285575219373078,
            0,
            8.164311994315688e-17,
            1.6328623988631375e-16,
            2.449293598294706e-16,
            3.265724797726275e-16,
            4.0821559971578437e-16,
            4.898587196589412e-16,
            5.71501839602098e-16,
            6.53144959545255e-16,
            7.347880794884119e-16
           ]
          }
         ],
         "line": {
          "cmax": 1,
          "cmin": 3.749399456654644e-33,
          "color": [
           1,
           0.984807753012208,
           0.9396926207859084,
           0.8660254037844387,
           0.766044443118978,
           0.6427876096865394,
           0.5000000000000001,
           0.3420201433256688,
           0.17364817766693041,
           6.123233995736766e-17,
           0.984807753012208,
           0.9698463103929541,
           0.9254165783983234,
           0.8528685319524433,
           0.7544065067354889,
           0.6330222215594891,
           0.4924038765061041,
           0.33682408883346526,
           0.1710100716628344,
           6.030208312509488e-17,
           0.9396926207859084,
           0.9254165783983234,
           0.8830222215594891,
           0.8137976813493738,
           0.7198463103929542,
           0.6040227735550537,
           0.4698463103929543,
           0.32139380484326974,
           0.1631759111665349,
           5.753957801139251e-17,
           0.8660254037844387,
           0.8528685319524433,
           0.8137976813493738,
           0.7500000000000001,
           0.6634139481689384,
           0.5566703992264195,
           0.43301270189221946,
           0.29619813272602397,
           0.15038373318043535,
           5.3028761936245346e-17,
           0.766044443118978,
           0.7544065067354889,
           0.7198463103929542,
           0.6634139481689384,
           0.5868240888334652,
           0.49240387650610407,
           0.3830222215594891,
           0.262002630229385,
           0.13302222155948906,
           4.6906693763513654e-17,
           0.6427876096865394,
           0.6330222215594891,
           0.6040227735550537,
           0.5566703992264195,
           0.49240387650610407,
           0.41317591116653485,
           0.32139380484326974,
           0.21984631039295427,
           0.11161889704894971,
           3.935938943670993e-17,
           0.5000000000000001,
           0.4924038765061041,
           0.4698463103929543,
           0.43301270189221946,
           0.3830222215594891,
           0.32139380484326974,
           0.2500000000000001,
           0.17101007166283444,
           0.08682408883346522,
           3.0616169978683836e-17,
           0.3420201433256688,
           0.33682408883346526,
           0.32139380484326974,
           0.29619813272602397,
           0.262002630229385,
           0.21984631039295427,
           0.17101007166283444,
           0.11697777844051105,
           0.05939117461388475,
           2.0942693688384965e-17,
           0.17364817766693041,
           0.1710100716628344,
           0.1631759111665349,
           0.15038373318043535,
           0.13302222155948906,
           0.11161889704894971,
           0.08682408883346522,
           0.05939117461388475,
           0.03015368960704583,
           1.0632884247878861e-17,
           6.123233995736766e-17,
           6.030208312509488e-17,
           5.753957801139251e-17,
           5.3028761936245346e-17,
           4.6906693763513654e-17,
           3.935938943670993e-17,
           3.0616169978683836e-17,
           2.0942693688384965e-17,
           1.0632884247878861e-17,
           3.749399456654644e-33
          ],
          "colorbar": {
           "title": {
            "text": "f1"
           }
          },
          "colorscale": [
           [
            0,
            "rgb(247,251,255)"
           ],
           [
            0.125,
            "rgb(222,235,247)"
           ],
           [
            0.25,
            "rgb(198,219,239)"
           ],
           [
            0.375,
            "rgb(158,202,225)"
           ],
           [
            0.5,
            "rgb(107,174,214)"
           ],
           [
            0.625,
            "rgb(66,146,198)"
           ],
           [
            0.75,
            "rgb(33,113,181)"
           ],
           [
            0.875,
            "rgb(8,81,156)"
           ],
           [
            1,
            "rgb(8,48,107)"
           ]
          ]
         },
         "type": "parcoords"
        }
       ],
       "layout": {
        "template": {
         "data": {
          "bar": [
           {
            "error_x": {
             "color": "#2a3f5f"
            },
            "error_y": {
             "color": "#2a3f5f"
            },
            "marker": {
             "line": {
              "color": "#E5ECF6",
              "width": 0.5
             },
             "pattern": {
              "fillmode": "overlay",
              "size": 10,
              "solidity": 0.2
             }
            },
            "type": "bar"
           }
          ],
          "barpolar": [
           {
            "marker": {
             "line": {
              "color": "#E5ECF6",
              "width": 0.5
             },
             "pattern": {
              "fillmode": "overlay",
              "size": 10,
              "solidity": 0.2
             }
            },
            "type": "barpolar"
           }
          ],
          "carpet": [
           {
            "aaxis": {
             "endlinecolor": "#2a3f5f",
             "gridcolor": "white",
             "linecolor": "white",
             "minorgridcolor": "white",
             "startlinecolor": "#2a3f5f"
            },
            "baxis": {
             "endlinecolor": "#2a3f5f",
             "gridcolor": "white",
             "linecolor": "white",
             "minorgridcolor": "white",
             "startlinecolor": "#2a3f5f"
            },
            "type": "carpet"
           }
          ],
          "choropleth": [
           {
            "colorbar": {
             "outlinewidth": 0,
             "ticks": ""
            },
            "type": "choropleth"
           }
          ],
          "contour": [
           {
            "colorbar": {
             "outlinewidth": 0,
             "ticks": ""
            },
            "colorscale": [
             [
              0,
              "#0d0887"
             ],
             [
              0.1111111111111111,
              "#46039f"
             ],
             [
              0.2222222222222222,
              "#7201a8"
             ],
             [
              0.3333333333333333,
              "#9c179e"
             ],
             [
              0.4444444444444444,
              "#bd3786"
             ],
             [
              0.5555555555555556,
              "#d8576b"
             ],
             [
              0.6666666666666666,
              "#ed7953"
             ],
             [
              0.7777777777777778,
              "#fb9f3a"
             ],
             [
              0.8888888888888888,
              "#fdca26"
             ],
             [
              1,
              "#f0f921"
             ]
            ],
            "type": "contour"
           }
          ],
          "contourcarpet": [
           {
            "colorbar": {
             "outlinewidth": 0,
             "ticks": ""
            },
            "type": "contourcarpet"
           }
          ],
          "heatmap": [
           {
            "colorbar": {
             "outlinewidth": 0,
             "ticks": ""
            },
            "colorscale": [
             [
              0,
              "#0d0887"
             ],
             [
              0.1111111111111111,
              "#46039f"
             ],
             [
              0.2222222222222222,
              "#7201a8"
             ],
             [
              0.3333333333333333,
              "#9c179e"
             ],
             [
              0.4444444444444444,
              "#bd3786"
             ],
             [
              0.5555555555555556,
              "#d8576b"
             ],
             [
              0.6666666666666666,
              "#ed7953"
             ],
             [
              0.7777777777777778,
              "#fb9f3a"
             ],
             [
              0.8888888888888888,
              "#fdca26"
             ],
             [
              1,
              "#f0f921"
             ]
            ],
            "type": "heatmap"
           }
          ],
          "heatmapgl": [
           {
            "colorbar": {
             "outlinewidth": 0,
             "ticks": ""
            },
            "colorscale": [
             [
              0,
              "#0d0887"
             ],
             [
              0.1111111111111111,
              "#46039f"
             ],
             [
              0.2222222222222222,
              "#7201a8"
             ],
             [
              0.3333333333333333,
              "#9c179e"
             ],
             [
              0.4444444444444444,
              "#bd3786"
             ],
             [
              0.5555555555555556,
              "#d8576b"
             ],
             [
              0.6666666666666666,
              "#ed7953"
             ],
             [
              0.7777777777777778,
              "#fb9f3a"
             ],
             [
              0.8888888888888888,
              "#fdca26"
             ],
             [
              1,
              "#f0f921"
             ]
            ],
            "type": "heatmapgl"
           }
          ],
          "histogram": [
           {
            "marker": {
             "pattern": {
              "fillmode": "overlay",
              "size": 10,
              "solidity": 0.2
             }
            },
            "type": "histogram"
           }
          ],
          "histogram2d": [
           {
            "colorbar": {
             "outlinewidth": 0,
             "ticks": ""
            },
            "colorscale": [
             [
              0,
              "#0d0887"
             ],
             [
              0.1111111111111111,
              "#46039f"
             ],
             [
              0.2222222222222222,
              "#7201a8"
             ],
             [
              0.3333333333333333,
              "#9c179e"
             ],
             [
              0.4444444444444444,
              "#bd3786"
             ],
             [
              0.5555555555555556,
              "#d8576b"
             ],
             [
              0.6666666666666666,
              "#ed7953"
             ],
             [
              0.7777777777777778,
              "#fb9f3a"
             ],
             [
              0.8888888888888888,
              "#fdca26"
             ],
             [
              1,
              "#f0f921"
             ]
            ],
            "type": "histogram2d"
           }
          ],
          "histogram2dcontour": [
           {
            "colorbar": {
             "outlinewidth": 0,
             "ticks": ""
            },
            "colorscale": [
             [
              0,
              "#0d0887"
             ],
             [
              0.1111111111111111,
              "#46039f"
             ],
             [
              0.2222222222222222,
              "#7201a8"
             ],
             [
              0.3333333333333333,
              "#9c179e"
             ],
             [
              0.4444444444444444,
              "#bd3786"
             ],
             [
              0.5555555555555556,
              "#d8576b"
             ],
             [
              0.6666666666666666,
              "#ed7953"
             ],
             [
              0.7777777777777778,
              "#fb9f3a"
             ],
             [
              0.8888888888888888,
              "#fdca26"
             ],
             [
              1,
              "#f0f921"
             ]
            ],
            "type": "histogram2dcontour"
           }
          ],
          "mesh3d": [
           {
            "colorbar": {
             "outlinewidth": 0,
             "ticks": ""
            },
            "type": "mesh3d"
           }
          ],
          "parcoords": [
           {
            "line": {
             "colorbar": {
              "outlinewidth": 0,
              "ticks": ""
             }
            },
            "type": "parcoords"
           }
          ],
          "pie": [
           {
            "automargin": true,
            "type": "pie"
           }
          ],
          "scatter": [
           {
            "fillpattern": {
             "fillmode": "overlay",
             "size": 10,
             "solidity": 0.2
            },
            "type": "scatter"
           }
          ],
          "scatter3d": [
           {
            "line": {
             "colorbar": {
              "outlinewidth": 0,
              "ticks": ""
             }
            },
            "marker": {
             "colorbar": {
              "outlinewidth": 0,
              "ticks": ""
             }
            },
            "type": "scatter3d"
           }
          ],
          "scattercarpet": [
           {
            "marker": {
             "colorbar": {
              "outlinewidth": 0,
              "ticks": ""
             }
            },
            "type": "scattercarpet"
           }
          ],
          "scattergeo": [
           {
            "marker": {
             "colorbar": {
              "outlinewidth": 0,
              "ticks": ""
             }
            },
            "type": "scattergeo"
           }
          ],
          "scattergl": [
           {
            "marker": {
             "colorbar": {
              "outlinewidth": 0,
              "ticks": ""
             }
            },
            "type": "scattergl"
           }
          ],
          "scattermapbox": [
           {
            "marker": {
             "colorbar": {
              "outlinewidth": 0,
              "ticks": ""
             }
            },
            "type": "scattermapbox"
           }
          ],
          "scatterpolar": [
           {
            "marker": {
             "colorbar": {
              "outlinewidth": 0,
              "ticks": ""
             }
            },
            "type": "scatterpolar"
           }
          ],
          "scatterpolargl": [
           {
            "marker": {
             "colorbar": {
              "outlinewidth": 0,
              "ticks": ""
             }
            },
            "type": "scatterpolargl"
           }
          ],
          "scatterternary": [
           {
            "marker": {
             "colorbar": {
              "outlinewidth": 0,
              "ticks": ""
             }
            },
            "type": "scatterternary"
           }
          ],
          "surface": [
           {
            "colorbar": {
             "outlinewidth": 0,
             "ticks": ""
            },
            "colorscale": [
             [
              0,
              "#0d0887"
             ],
             [
              0.1111111111111111,
              "#46039f"
             ],
             [
              0.2222222222222222,
              "#7201a8"
             ],
             [
              0.3333333333333333,
              "#9c179e"
             ],
             [
              0.4444444444444444,
              "#bd3786"
             ],
             [
              0.5555555555555556,
              "#d8576b"
             ],
             [
              0.6666666666666666,
              "#ed7953"
             ],
             [
              0.7777777777777778,
              "#fb9f3a"
             ],
             [
              0.8888888888888888,
              "#fdca26"
             ],
             [
              1,
              "#f0f921"
             ]
            ],
            "type": "surface"
           }
          ],
          "table": [
           {
            "cells": {
             "fill": {
              "color": "#EBF0F8"
             },
             "line": {
              "color": "white"
             }
            },
            "header": {
             "fill": {
              "color": "#C8D4E3"
             },
             "line": {
              "color": "white"
             }
            },
            "type": "table"
           }
          ]
         },
         "layout": {
          "annotationdefaults": {
           "arrowcolor": "#2a3f5f",
           "arrowhead": 0,
           "arrowwidth": 1
          },
          "autotypenumbers": "strict",
          "coloraxis": {
           "colorbar": {
            "outlinewidth": 0,
            "ticks": ""
           }
          },
          "colorscale": {
           "diverging": [
            [
             0,
             "#8e0152"
            ],
            [
             0.1,
             "#c51b7d"
            ],
            [
             0.2,
             "#de77ae"
            ],
            [
             0.3,
             "#f1b6da"
            ],
            [
             0.4,
             "#fde0ef"
            ],
            [
             0.5,
             "#f7f7f7"
            ],
            [
             0.6,
             "#e6f5d0"
            ],
            [
             0.7,
             "#b8e186"
            ],
            [
             0.8,
             "#7fbc41"
            ],
            [
             0.9,
             "#4d9221"
            ],
            [
             1,
             "#276419"
            ]
           ],
           "sequential": [
            [
             0,
             "#0d0887"
            ],
            [
             0.1111111111111111,
             "#46039f"
            ],
            [
             0.2222222222222222,
             "#7201a8"
            ],
            [
             0.3333333333333333,
             "#9c179e"
            ],
            [
             0.4444444444444444,
             "#bd3786"
            ],
            [
             0.5555555555555556,
             "#d8576b"
            ],
            [
             0.6666666666666666,
             "#ed7953"
            ],
            [
             0.7777777777777778,
             "#fb9f3a"
            ],
            [
             0.8888888888888888,
             "#fdca26"
            ],
            [
             1,
             "#f0f921"
            ]
           ],
           "sequentialminus": [
            [
             0,
             "#0d0887"
            ],
            [
             0.1111111111111111,
             "#46039f"
            ],
            [
             0.2222222222222222,
             "#7201a8"
            ],
            [
             0.3333333333333333,
             "#9c179e"
            ],
            [
             0.4444444444444444,
             "#bd3786"
            ],
            [
             0.5555555555555556,
             "#d8576b"
            ],
            [
             0.6666666666666666,
             "#ed7953"
            ],
            [
             0.7777777777777778,
             "#fb9f3a"
            ],
            [
             0.8888888888888888,
             "#fdca26"
            ],
            [
             1,
             "#f0f921"
            ]
           ]
          },
          "colorway": [
           "#636efa",
           "#EF553B",
           "#00cc96",
           "#ab63fa",
           "#FFA15A",
           "#19d3f3",
           "#FF6692",
           "#B6E880",
           "#FF97FF",
           "#FECB52"
          ],
          "font": {
           "color": "#2a3f5f"
          },
          "geo": {
           "bgcolor": "white",
           "lakecolor": "white",
           "landcolor": "#E5ECF6",
           "showlakes": true,
           "showland": true,
           "subunitcolor": "white"
          },
          "hoverlabel": {
           "align": "left"
          },
          "hovermode": "closest",
          "mapbox": {
           "style": "light"
          },
          "paper_bgcolor": "white",
          "plot_bgcolor": "#E5ECF6",
          "polar": {
           "angularaxis": {
            "gridcolor": "white",
            "linecolor": "white",
            "ticks": ""
           },
           "bgcolor": "#E5ECF6",
           "radialaxis": {
            "gridcolor": "white",
            "linecolor": "white",
            "ticks": ""
           }
          },
          "scene": {
           "xaxis": {
            "backgroundcolor": "#E5ECF6",
            "gridcolor": "white",
            "gridwidth": 2,
            "linecolor": "white",
            "showbackground": true,
            "ticks": "",
            "zerolinecolor": "white"
           },
           "yaxis": {
            "backgroundcolor": "#E5ECF6",
            "gridcolor": "white",
            "gridwidth": 2,
            "linecolor": "white",
            "showbackground": true,
            "ticks": "",
            "zerolinecolor": "white"
           },
           "zaxis": {
            "backgroundcolor": "#E5ECF6",
            "gridcolor": "white",
            "gridwidth": 2,
            "linecolor": "white",
            "showbackground": true,
            "ticks": "",
            "zerolinecolor": "white"
           }
          },
          "shapedefaults": {
           "line": {
            "color": "#2a3f5f"
           }
          },
          "ternary": {
           "aaxis": {
            "gridcolor": "white",
            "linecolor": "white",
            "ticks": ""
           },
           "baxis": {
            "gridcolor": "white",
            "linecolor": "white",
            "ticks": ""
           },
           "bgcolor": "#E5ECF6",
           "caxis": {
            "gridcolor": "white",
            "linecolor": "white",
            "ticks": ""
           }
          },
          "title": {
           "x": 0.05
          },
          "xaxis": {
           "automargin": true,
           "gridcolor": "white",
           "linecolor": "white",
           "ticks": "",
           "title": {
            "standoff": 15
           },
           "zerolinecolor": "white",
           "zerolinewidth": 2
          },
          "yaxis": {
           "automargin": true,
           "gridcolor": "white",
           "linecolor": "white",
           "ticks": "",
           "title": {
            "standoff": 15
           },
           "zerolinecolor": "white",
           "zerolinewidth": 2
          }
         }
        },
        "title": {
         "text": "UF8 f1"
        }
       }
      }
     },
     "metadata": {},
     "output_type": "display_data"
    },
    {
     "data": {
      "application/vnd.plotly.v1+json": {
       "config": {
        "plotlyServerURL": "https://plot.ly"
       },
       "data": [
        {
         "dimensions": [
          {
           "range": [
            0,
            1
           ],
           "values": [
            0,
            0,
            0,
            0,
            0,
            0,
            0,
            0,
            0,
            0,
            0.1111111111111111,
            0.1111111111111111,
            0.1111111111111111,
            0.1111111111111111,
            0.1111111111111111,
            0.1111111111111111,
            0.1111111111111111,
            0.1111111111111111,
            0.1111111111111111,
            0.1111111111111111,
            0.2222222222222222,
            0.2222222222222222,
            0.2222222222222222,
            0.2222222222222222,
            0.2222222222222222,
            0.2222222222222222,
            0.2222222222222222,
            0.2222222222222222,
            0.2222222222222222,
            0.2222222222222222,
            0.3333333333333333,
            0.3333333333333333,
            0.3333333333333333,
            0.3333333333333333,
            0.3333333333333333,
            0.3333333333333333,
            0.3333333333333333,
            0.3333333333333333,
            0.3333333333333333,
            0.3333333333333333,
            0.4444444444444444,
            0.4444444444444444,
            0.4444444444444444,
            0.4444444444444444,
            0.4444444444444444,
            0.4444444444444444,
            0.4444444444444444,
            0.4444444444444444,
            0.4444444444444444,
            0.4444444444444444,
            0.5555555555555556,
            0.5555555555555556,
            0.5555555555555556,
            0.5555555555555556,
            0.5555555555555556,
            0.5555555555555556,
            0.5555555555555556,
            0.5555555555555556,
            0.5555555555555556,
            0.5555555555555556,
            0.6666666666666666,
            0.6666666666666666,
            0.6666666666666666,
            0.6666666666666666,
            0.6666666666666666,
            0.6666666666666666,
            0.6666666666666666,
            0.6666666666666666,
            0.6666666666666666,
            0.6666666666666666,
            0.7777777777777777,
            0.7777777777777777,
            0.7777777777777777,
            0.7777777777777777,
            0.7777777777777777,
            0.7777777777777777,
            0.7777777777777777,
            0.7777777777777777,
            0.7777777777777777,
            0.7777777777777777,
            0.8888888888888888,
            0.8888888888888888,
            0.8888888888888888,
            0.8888888888888888,
            0.8888888888888888,
            0.8888888888888888,
            0.8888888888888888,
            0.8888888888888888,
            0.8888888888888888,
            0.8888888888888888,
            1,
            1,
            1,
            1,
            1,
            1,
            1,
            1,
            1,
            1
           ]
          },
          {
           "range": [
            0,
            1
           ],
           "values": [
            0,
            0.1111111111111111,
            0.2222222222222222,
            0.3333333333333333,
            0.4444444444444444,
            0.5555555555555556,
            0.6666666666666666,
            0.7777777777777777,
            0.8888888888888888,
            1,
            0,
            0.1111111111111111,
            0.2222222222222222,
            0.3333333333333333,
            0.4444444444444444,
            0.5555555555555556,
            0.6666666666666666,
            0.7777777777777777,
            0.8888888888888888,
            1,
            0,
            0.1111111111111111,
            0.2222222222222222,
            0.3333333333333333,
            0.4444444444444444,
            0.5555555555555556,
            0.6666666666666666,
            0.7777777777777777,
            0.8888888888888888,
            1,
            0,
            0.1111111111111111,
            0.2222222222222222,
            0.3333333333333333,
            0.4444444444444444,
            0.5555555555555556,
            0.6666666666666666,
            0.7777777777777777,
            0.8888888888888888,
            1,
            0,
            0.1111111111111111,
            0.2222222222222222,
            0.3333333333333333,
            0.4444444444444444,
            0.5555555555555556,
            0.6666666666666666,
            0.7777777777777777,
            0.8888888888888888,
            1,
            0,
            0.1111111111111111,
            0.2222222222222222,
            0.3333333333333333,
            0.4444444444444444,
            0.5555555555555556,
            0.6666666666666666,
            0.7777777777777777,
            0.8888888888888888,
            1,
            0,
            0.1111111111111111,
            0.2222222222222222,
            0.3333333333333333,
            0.4444444444444444,
            0.5555555555555556,
            0.6666666666666666,
            0.7777777777777777,
            0.8888888888888888,
            1,
            0,
            0.1111111111111111,
            0.2222222222222222,
            0.3333333333333333,
            0.4444444444444444,
            0.5555555555555556,
            0.6666666666666666,
            0.7777777777777777,
            0.8888888888888888,
            1,
            0,
            0.1111111111111111,
            0.2222222222222222,
            0.3333333333333333,
            0.4444444444444444,
            0.5555555555555556,
            0.6666666666666666,
            0.7777777777777777,
            0.8888888888888888,
            1,
            0,
            0.1111111111111111,
            0.2222222222222222,
            0.3333333333333333,
            0.4444444444444444,
            0.5555555555555556,
            0.6666666666666666,
            0.7777777777777777,
            0.8888888888888888,
            1
           ]
          },
          {
           "range": [
            -2,
            2
           ],
           "values": [
            0,
            0.21134589251003413,
            0.42269178502006827,
            0.6340376775301024,
            0.8453835700401365,
            1.0567294625501709,
            1.2680753550602049,
            1.4794212475702389,
            1.690767140080273,
            1.9021130325903073,
            0,
            0.11775983649626777,
            0.23551967299253554,
            0.3532795094888033,
            0.4710393459850711,
            0.5887991824813389,
            0.7065590189776066,
            0.8243188554738744,
            0.9420786919701422,
            1.05983852846641,
            0,
            -0.030927355768903448,
            -0.061854711537806896,
            -0.09278206730671035,
            -0.12370942307561379,
            -0.15463677884451726,
            -0.1855641346134207,
            -0.21649149038232413,
            -0.24741884615122758,
            -0.27834620192013104,
            0,
            -0.165143294550532,
            -0.330286589101064,
            -0.495429883651596,
            -0.660573178202128,
            -0.82571647275266,
            -0.990859767303192,
            -1.1560030618537238,
            -1.321146356404256,
            -1.486289650954788,
            0,
            -0.22208685044868792,
            -0.44417370089737584,
            -0.6662605513460638,
            -0.8883474017947517,
            -1.1104342522434398,
            -1.3325211026921275,
            -1.5546079531408155,
            -1.7766948035895034,
            -1.9987816540381915,
            0,
            -0.17511350080149385,
            -0.3502270016029877,
            -0.5253405024044815,
            -0.7004540032059754,
            -0.8755675040074693,
            -1.050681004808963,
            -1.2257945056104569,
            -1.4009080064119508,
            -1.5760215072134447,
            0,
            -0.04620259795950219,
            -0.09240519591900438,
            -0.13860779387850658,
            -0.18481039183800876,
            -0.23101298979751098,
            -0.27721558775701316,
            -0.3234181857165153,
            -0.36962078367601753,
            -0.41582338163551974,
            0,
            0.10432701395242007,
            0.20865402790484014,
            0.3129810418572602,
            0.4173080558096803,
            0.5216350697621004,
            0.6259620837145204,
            0.7302890976669405,
            0.8346161116193606,
            0.9389431255717807,
            0,
            0.20604085657039714,
            0.4120817131407943,
            0.6181225697111914,
            0.8241634262815886,
            1.0302042828519857,
            1.2362451394223828,
            1.4422859959927798,
            1.6483268525631771,
            1.8543677091335744,
            0,
            0.21134589251003413,
            0.42269178502006827,
            0.6340376775301024,
            0.8453835700401365,
            1.0567294625501709,
            1.2680753550602049,
            1.4794212475702389,
            1.690767140080273,
            1.9021130325903073
           ]
          },
          {
           "range": [
            -2,
            2
           ],
           "values": [
            0,
            0.13061894495388293,
            0.26123788990776586,
            0.3918568348616488,
            0.5224757798155317,
            0.6530947247694148,
            0.7837136697232976,
            0.9143326146771805,
            1.0449515596310635,
            1.1755705045849465,
            0,
            -0.015501438609805615,
            -0.03100287721961123,
            -0.046504315829416845,
            -0.06200575443922246,
            -0.07750719304902809,
            -0.09300863165883369,
            -0.1085100702686393,
            -0.12401150887844492,
            -0.13951294748825055,
            0,
            -0.15436852676866608,
            -0.30873705353733216,
            -0.46310558030599824,
            -0.6174741070746643,
            -0.7718426338433304,
            -0.9262111606119965,
            -1.0805796873806623,
            -1.2349482141493286,
            -1.3893167409179947,
            0,
            -0.22100486563739405,
            -0.4420097312747881,
            -0.6630145969121821,
            -0.8840194625495762,
            -1.1050243281869703,
            -1.3260291938243642,
            -1.5470340594617582,
            -1.7680389250991524,
            -1.9890437907365466,
            0,
            -0.18423057167889814,
            -0.3684611433577963,
            -0.5526917150366943,
            -0.7369222867155926,
            -0.9211528583944907,
            -1.1053834300733887,
            -1.2896140017522868,
            -1.4738445734311851,
            -1.6580751451100832,
            0,
            -0.06125274573711106,
            -0.12250549147422211,
            -0.18375823721133316,
            -0.24501098294844423,
            -0.3062637286855553,
            -0.36751647442266633,
            -0.42876922015977736,
            -0.49002196589688846,
            -0.5512747116339995,
            0,
            0.09038592068351105,
            0.1807718413670221,
            0.2711577620505331,
            0.3615436827340442,
            0.4519296034175552,
            0.5423155241010662,
            0.6327014447845772,
            0.7230873654680884,
            0.8134732861515994,
            0,
            0.19973201028870372,
            0.39946402057740743,
            0.5991960308661112,
            0.7989280411548149,
            0.9986600514435188,
            1.1983920617322223,
            1.398124072020926,
            1.5978560823096297,
            1.7975880925983336,
            0,
            0.21562127250577695,
            0.4312425450115539,
            0.6468638175173309,
            0.8624850900231078,
            1.078106362528885,
            1.2937276350346618,
            1.5093489075404385,
            1.7249701800462156,
            1.9405914525519927,
            0,
            0.13061894495388296,
            0.2612378899077659,
            0.3918568348616489,
            0.5224757798155318,
            0.6530947247694149,
            0.7837136697232978,
            0.9143326146771806,
            1.0449515596310637,
            1.1755705045849467
           ]
          },
          {
           "range": [
            -2,
            2
           ],
           "values": [
            0,
            2.7214373314385625e-17,
            5.442874662877125e-17,
            8.164311994315688e-17,
            1.088574932575425e-16,
            1.3607186657192814e-16,
            1.6328623988631375e-16,
            1.9050061320069937e-16,
            2.17714986515085e-16,
            2.4492935982947064e-16,
            0,
            -0.14284169104145317,
            -0.28568338208290633,
            -0.4285250731243595,
            -0.5713667641658127,
            -0.7142084552072658,
            -0.857050146248719,
            -0.9998918372901721,
            -1.1427335283316253,
            -1.2855752193730785,
            0,
            -0.21884616733604623,
            -0.43769233467209245,
            -0.6565385020081387,
            -0.8753846693441849,
            -1.0942308366802311,
            -1.3130770040162774,
            -1.5319231713523234,
            -1.7507693386883698,
            -1.969615506024416,
            0,
            -0.19245008972987535,
            -0.3849001794597507,
            -0.577350269189626,
            -0.7698003589195014,
            -0.9622504486493767,
            -1.154700538379252,
            -1.3471506281091272,
            -1.5396007178390028,
            -1.732050807568878,
            0,
            -0.07600447629459302,
            -0.15200895258918604,
            -0.22801342888377907,
            -0.30401790517837207,
            -0.38002238147296513,
            -0.45602685776755814,
            -0.5320313340621511,
            -0.6080358103567441,
            -0.6840402866513372,
            0,
            0.07600447629459291,
            0.15200895258918581,
            0.22801342888377873,
            0.30401790517837163,
            0.3800223814729646,
            0.45602685776755747,
            0.5320313340621503,
            0.6080358103567433,
            0.6840402866513362,
            0,
            0.19245008972987518,
            0.38490017945975036,
            0.5773502691896255,
            0.7698003589195007,
            0.962250448649376,
            1.154700538379251,
            1.3471506281091261,
            1.5396007178390014,
            1.7320508075688767,
            0,
            0.21884616733604623,
            0.43769233467209245,
            0.6565385020081387,
            0.8753846693441849,
            1.0942308366802314,
            1.3130770040162774,
            1.5319231713523236,
            1.7507693386883698,
            1.9696155060244163,
            0,
            0.1428416910414531,
            0.2856833820829062,
            0.42852507312435933,
            0.5713667641658124,
            0.7142084552072656,
            0.8570501462487187,
            0.9998918372901717,
            1.142733528331625,
            1.285575219373078,
            0,
            8.164311994315688e-17,
            1.6328623988631375e-16,
            2.449293598294706e-16,
            3.265724797726275e-16,
            4.0821559971578437e-16,
            4.898587196589412e-16,
            5.71501839602098e-16,
            6.53144959545255e-16,
            7.347880794884119e-16
           ]
          }
         ],
         "line": {
          "cmax": 1,
          "cmin": 0,
          "color": [
           0,
           0.17364817766693033,
           0.3420201433256687,
           0.49999999999999994,
           0.6427876096865393,
           0.766044443118978,
           0.8660254037844386,
           0.9396926207859083,
           0.984807753012208,
           1,
           0,
           0.17101007166283433,
           0.33682408883346515,
           0.49240387650610395,
           0.633022221559489,
           0.7544065067354889,
           0.8528685319524432,
           0.9254165783983233,
           0.9698463103929541,
           0.984807753012208,
           0,
           0.16317591116653482,
           0.3213938048432697,
           0.46984631039295416,
           0.6040227735550536,
           0.7198463103929542,
           0.8137976813493737,
           0.883022221559489,
           0.9254165783983234,
           0.9396926207859084,
           0,
           0.1503837331804353,
           0.29619813272602386,
           0.4330127018922193,
           0.5566703992264194,
           0.6634139481689384,
           0.75,
           0.8137976813493737,
           0.8528685319524433,
           0.8660254037844387,
           0,
           0.133022221559489,
           0.2620026302293849,
           0.38302222155948895,
           0.49240387650610395,
           0.5868240888334652,
           0.6634139481689384,
           0.7198463103929541,
           0.7544065067354889,
           0.766044443118978,
           0,
           0.11161889704894966,
           0.2198463103929542,
           0.3213938048432696,
           0.4131759111665348,
           0.49240387650610407,
           0.5566703992264194,
           0.6040227735550536,
           0.6330222215594891,
           0.6427876096865394,
           0,
           0.08682408883346518,
           0.17101007166283438,
           0.25,
           0.3213938048432697,
           0.3830222215594891,
           0.4330127018922194,
           0.46984631039295427,
           0.4924038765061041,
           0.5000000000000001,
           0,
           0.05939117461388472,
           0.11697777844051101,
           0.17101007166283438,
           0.21984631039295421,
           0.262002630229385,
           0.2961981327260239,
           0.32139380484326974,
           0.33682408883346526,
           0.3420201433256688,
           0,
           0.030153689607045817,
           0.059391174613884726,
           0.0868240888334652,
           0.11161889704894969,
           0.13302222155948906,
           0.15038373318043535,
           0.16317591116653488,
           0.1710100716628344,
           0.17364817766693041,
           0,
           1.0632884247878856e-17,
           2.094269368838496e-17,
           3.0616169978683824e-17,
           3.9359389436709925e-17,
           4.6906693763513654e-17,
           5.302876193624534e-17,
           5.753957801139251e-17,
           6.030208312509488e-17,
           6.123233995736766e-17
          ],
          "colorbar": {
           "title": {
            "text": "f2"
           }
          },
          "colorscale": [
           [
            0,
            "rgb(255,245,235)"
           ],
           [
            0.125,
            "rgb(254,230,206)"
           ],
           [
            0.25,
            "rgb(253,208,162)"
           ],
           [
            0.375,
            "rgb(253,174,107)"
           ],
           [
            0.5,
            "rgb(253,141,60)"
           ],
           [
            0.625,
            "rgb(241,105,19)"
           ],
           [
            0.75,
            "rgb(217,72,1)"
           ],
           [
            0.875,
            "rgb(166,54,3)"
           ],
           [
            1,
            "rgb(127,39,4)"
           ]
          ]
         },
         "type": "parcoords"
        }
       ],
       "layout": {
        "template": {
         "data": {
          "bar": [
           {
            "error_x": {
             "color": "#2a3f5f"
            },
            "error_y": {
             "color": "#2a3f5f"
            },
            "marker": {
             "line": {
              "color": "#E5ECF6",
              "width": 0.5
             },
             "pattern": {
              "fillmode": "overlay",
              "size": 10,
              "solidity": 0.2
             }
            },
            "type": "bar"
           }
          ],
          "barpolar": [
           {
            "marker": {
             "line": {
              "color": "#E5ECF6",
              "width": 0.5
             },
             "pattern": {
              "fillmode": "overlay",
              "size": 10,
              "solidity": 0.2
             }
            },
            "type": "barpolar"
           }
          ],
          "carpet": [
           {
            "aaxis": {
             "endlinecolor": "#2a3f5f",
             "gridcolor": "white",
             "linecolor": "white",
             "minorgridcolor": "white",
             "startlinecolor": "#2a3f5f"
            },
            "baxis": {
             "endlinecolor": "#2a3f5f",
             "gridcolor": "white",
             "linecolor": "white",
             "minorgridcolor": "white",
             "startlinecolor": "#2a3f5f"
            },
            "type": "carpet"
           }
          ],
          "choropleth": [
           {
            "colorbar": {
             "outlinewidth": 0,
             "ticks": ""
            },
            "type": "choropleth"
           }
          ],
          "contour": [
           {
            "colorbar": {
             "outlinewidth": 0,
             "ticks": ""
            },
            "colorscale": [
             [
              0,
              "#0d0887"
             ],
             [
              0.1111111111111111,
              "#46039f"
             ],
             [
              0.2222222222222222,
              "#7201a8"
             ],
             [
              0.3333333333333333,
              "#9c179e"
             ],
             [
              0.4444444444444444,
              "#bd3786"
             ],
             [
              0.5555555555555556,
              "#d8576b"
             ],
             [
              0.6666666666666666,
              "#ed7953"
             ],
             [
              0.7777777777777778,
              "#fb9f3a"
             ],
             [
              0.8888888888888888,
              "#fdca26"
             ],
             [
              1,
              "#f0f921"
             ]
            ],
            "type": "contour"
           }
          ],
          "contourcarpet": [
           {
            "colorbar": {
             "outlinewidth": 0,
             "ticks": ""
            },
            "type": "contourcarpet"
           }
          ],
          "heatmap": [
           {
            "colorbar": {
             "outlinewidth": 0,
             "ticks": ""
            },
            "colorscale": [
             [
              0,
              "#0d0887"
             ],
             [
              0.1111111111111111,
              "#46039f"
             ],
             [
              0.2222222222222222,
              "#7201a8"
             ],
             [
              0.3333333333333333,
              "#9c179e"
             ],
             [
              0.4444444444444444,
              "#bd3786"
             ],
             [
              0.5555555555555556,
              "#d8576b"
             ],
             [
              0.6666666666666666,
              "#ed7953"
             ],
             [
              0.7777777777777778,
              "#fb9f3a"
             ],
             [
              0.8888888888888888,
              "#fdca26"
             ],
             [
              1,
              "#f0f921"
             ]
            ],
            "type": "heatmap"
           }
          ],
          "heatmapgl": [
           {
            "colorbar": {
             "outlinewidth": 0,
             "ticks": ""
            },
            "colorscale": [
             [
              0,
              "#0d0887"
             ],
             [
              0.1111111111111111,
              "#46039f"
             ],
             [
              0.2222222222222222,
              "#7201a8"
             ],
             [
              0.3333333333333333,
              "#9c179e"
             ],
             [
              0.4444444444444444,
              "#bd3786"
             ],
             [
              0.5555555555555556,
              "#d8576b"
             ],
             [
              0.6666666666666666,
              "#ed7953"
             ],
             [
              0.7777777777777778,
              "#fb9f3a"
             ],
             [
              0.8888888888888888,
              "#fdca26"
             ],
             [
              1,
              "#f0f921"
             ]
            ],
            "type": "heatmapgl"
           }
          ],
          "histogram": [
           {
            "marker": {
             "pattern": {
              "fillmode": "overlay",
              "size": 10,
              "solidity": 0.2
             }
            },
            "type": "histogram"
           }
          ],
          "histogram2d": [
           {
            "colorbar": {
             "outlinewidth": 0,
             "ticks": ""
            },
            "colorscale": [
             [
              0,
              "#0d0887"
             ],
             [
              0.1111111111111111,
              "#46039f"
             ],
             [
              0.2222222222222222,
              "#7201a8"
             ],
             [
              0.3333333333333333,
              "#9c179e"
             ],
             [
              0.4444444444444444,
              "#bd3786"
             ],
             [
              0.5555555555555556,
              "#d8576b"
             ],
             [
              0.6666666666666666,
              "#ed7953"
             ],
             [
              0.7777777777777778,
              "#fb9f3a"
             ],
             [
              0.8888888888888888,
              "#fdca26"
             ],
             [
              1,
              "#f0f921"
             ]
            ],
            "type": "histogram2d"
           }
          ],
          "histogram2dcontour": [
           {
            "colorbar": {
             "outlinewidth": 0,
             "ticks": ""
            },
            "colorscale": [
             [
              0,
              "#0d0887"
             ],
             [
              0.1111111111111111,
              "#46039f"
             ],
             [
              0.2222222222222222,
              "#7201a8"
             ],
             [
              0.3333333333333333,
              "#9c179e"
             ],
             [
              0.4444444444444444,
              "#bd3786"
             ],
             [
              0.5555555555555556,
              "#d8576b"
             ],
             [
              0.6666666666666666,
              "#ed7953"
             ],
             [
              0.7777777777777778,
              "#fb9f3a"
             ],
             [
              0.8888888888888888,
              "#fdca26"
             ],
             [
              1,
              "#f0f921"
             ]
            ],
            "type": "histogram2dcontour"
           }
          ],
          "mesh3d": [
           {
            "colorbar": {
             "outlinewidth": 0,
             "ticks": ""
            },
            "type": "mesh3d"
           }
          ],
          "parcoords": [
           {
            "line": {
             "colorbar": {
              "outlinewidth": 0,
              "ticks": ""
             }
            },
            "type": "parcoords"
           }
          ],
          "pie": [
           {
            "automargin": true,
            "type": "pie"
           }
          ],
          "scatter": [
           {
            "fillpattern": {
             "fillmode": "overlay",
             "size": 10,
             "solidity": 0.2
            },
            "type": "scatter"
           }
          ],
          "scatter3d": [
           {
            "line": {
             "colorbar": {
              "outlinewidth": 0,
              "ticks": ""
             }
            },
            "marker": {
             "colorbar": {
              "outlinewidth": 0,
              "ticks": ""
             }
            },
            "type": "scatter3d"
           }
          ],
          "scattercarpet": [
           {
            "marker": {
             "colorbar": {
              "outlinewidth": 0,
              "ticks": ""
             }
            },
            "type": "scattercarpet"
           }
          ],
          "scattergeo": [
           {
            "marker": {
             "colorbar": {
              "outlinewidth": 0,
              "ticks": ""
             }
            },
            "type": "scattergeo"
           }
          ],
          "scattergl": [
           {
            "marker": {
             "colorbar": {
              "outlinewidth": 0,
              "ticks": ""
             }
            },
            "type": "scattergl"
           }
          ],
          "scattermapbox": [
           {
            "marker": {
             "colorbar": {
              "outlinewidth": 0,
              "ticks": ""
             }
            },
            "type": "scattermapbox"
           }
          ],
          "scatterpolar": [
           {
            "marker": {
             "colorbar": {
              "outlinewidth": 0,
              "ticks": ""
             }
            },
            "type": "scatterpolar"
           }
          ],
          "scatterpolargl": [
           {
            "marker": {
             "colorbar": {
              "outlinewidth": 0,
              "ticks": ""
             }
            },
            "type": "scatterpolargl"
           }
          ],
          "scatterternary": [
           {
            "marker": {
             "colorbar": {
              "outlinewidth": 0,
              "ticks": ""
             }
            },
            "type": "scatterternary"
           }
          ],
          "surface": [
           {
            "colorbar": {
             "outlinewidth": 0,
             "ticks": ""
            },
            "colorscale": [
             [
              0,
              "#0d0887"
             ],
             [
              0.1111111111111111,
              "#46039f"
             ],
             [
              0.2222222222222222,
              "#7201a8"
             ],
             [
              0.3333333333333333,
              "#9c179e"
             ],
             [
              0.4444444444444444,
              "#bd3786"
             ],
             [
              0.5555555555555556,
              "#d8576b"
             ],
             [
              0.6666666666666666,
              "#ed7953"
             ],
             [
              0.7777777777777778,
              "#fb9f3a"
             ],
             [
              0.8888888888888888,
              "#fdca26"
             ],
             [
              1,
              "#f0f921"
             ]
            ],
            "type": "surface"
           }
          ],
          "table": [
           {
            "cells": {
             "fill": {
              "color": "#EBF0F8"
             },
             "line": {
              "color": "white"
             }
            },
            "header": {
             "fill": {
              "color": "#C8D4E3"
             },
             "line": {
              "color": "white"
             }
            },
            "type": "table"
           }
          ]
         },
         "layout": {
          "annotationdefaults": {
           "arrowcolor": "#2a3f5f",
           "arrowhead": 0,
           "arrowwidth": 1
          },
          "autotypenumbers": "strict",
          "coloraxis": {
           "colorbar": {
            "outlinewidth": 0,
            "ticks": ""
           }
          },
          "colorscale": {
           "diverging": [
            [
             0,
             "#8e0152"
            ],
            [
             0.1,
             "#c51b7d"
            ],
            [
             0.2,
             "#de77ae"
            ],
            [
             0.3,
             "#f1b6da"
            ],
            [
             0.4,
             "#fde0ef"
            ],
            [
             0.5,
             "#f7f7f7"
            ],
            [
             0.6,
             "#e6f5d0"
            ],
            [
             0.7,
             "#b8e186"
            ],
            [
             0.8,
             "#7fbc41"
            ],
            [
             0.9,
             "#4d9221"
            ],
            [
             1,
             "#276419"
            ]
           ],
           "sequential": [
            [
             0,
             "#0d0887"
            ],
            [
             0.1111111111111111,
             "#46039f"
            ],
            [
             0.2222222222222222,
             "#7201a8"
            ],
            [
             0.3333333333333333,
             "#9c179e"
            ],
            [
             0.4444444444444444,
             "#bd3786"
            ],
            [
             0.5555555555555556,
             "#d8576b"
            ],
            [
             0.6666666666666666,
             "#ed7953"
            ],
            [
             0.7777777777777778,
             "#fb9f3a"
            ],
            [
             0.8888888888888888,
             "#fdca26"
            ],
            [
             1,
             "#f0f921"
            ]
           ],
           "sequentialminus": [
            [
             0,
             "#0d0887"
            ],
            [
             0.1111111111111111,
             "#46039f"
            ],
            [
             0.2222222222222222,
             "#7201a8"
            ],
            [
             0.3333333333333333,
             "#9c179e"
            ],
            [
             0.4444444444444444,
             "#bd3786"
            ],
            [
             0.5555555555555556,
             "#d8576b"
            ],
            [
             0.6666666666666666,
             "#ed7953"
            ],
            [
             0.7777777777777778,
             "#fb9f3a"
            ],
            [
             0.8888888888888888,
             "#fdca26"
            ],
            [
             1,
             "#f0f921"
            ]
           ]
          },
          "colorway": [
           "#636efa",
           "#EF553B",
           "#00cc96",
           "#ab63fa",
           "#FFA15A",
           "#19d3f3",
           "#FF6692",
           "#B6E880",
           "#FF97FF",
           "#FECB52"
          ],
          "font": {
           "color": "#2a3f5f"
          },
          "geo": {
           "bgcolor": "white",
           "lakecolor": "white",
           "landcolor": "#E5ECF6",
           "showlakes": true,
           "showland": true,
           "subunitcolor": "white"
          },
          "hoverlabel": {
           "align": "left"
          },
          "hovermode": "closest",
          "mapbox": {
           "style": "light"
          },
          "paper_bgcolor": "white",
          "plot_bgcolor": "#E5ECF6",
          "polar": {
           "angularaxis": {
            "gridcolor": "white",
            "linecolor": "white",
            "ticks": ""
           },
           "bgcolor": "#E5ECF6",
           "radialaxis": {
            "gridcolor": "white",
            "linecolor": "white",
            "ticks": ""
           }
          },
          "scene": {
           "xaxis": {
            "backgroundcolor": "#E5ECF6",
            "gridcolor": "white",
            "gridwidth": 2,
            "linecolor": "white",
            "showbackground": true,
            "ticks": "",
            "zerolinecolor": "white"
           },
           "yaxis": {
            "backgroundcolor": "#E5ECF6",
            "gridcolor": "white",
            "gridwidth": 2,
            "linecolor": "white",
            "showbackground": true,
            "ticks": "",
            "zerolinecolor": "white"
           },
           "zaxis": {
            "backgroundcolor": "#E5ECF6",
            "gridcolor": "white",
            "gridwidth": 2,
            "linecolor": "white",
            "showbackground": true,
            "ticks": "",
            "zerolinecolor": "white"
           }
          },
          "shapedefaults": {
           "line": {
            "color": "#2a3f5f"
           }
          },
          "ternary": {
           "aaxis": {
            "gridcolor": "white",
            "linecolor": "white",
            "ticks": ""
           },
           "baxis": {
            "gridcolor": "white",
            "linecolor": "white",
            "ticks": ""
           },
           "bgcolor": "#E5ECF6",
           "caxis": {
            "gridcolor": "white",
            "linecolor": "white",
            "ticks": ""
           }
          },
          "title": {
           "x": 0.05
          },
          "xaxis": {
           "automargin": true,
           "gridcolor": "white",
           "linecolor": "white",
           "ticks": "",
           "title": {
            "standoff": 15
           },
           "zerolinecolor": "white",
           "zerolinewidth": 2
          },
          "yaxis": {
           "automargin": true,
           "gridcolor": "white",
           "linecolor": "white",
           "ticks": "",
           "title": {
            "standoff": 15
           },
           "zerolinecolor": "white",
           "zerolinewidth": 2
          }
         }
        },
        "title": {
         "text": "UF8 f2"
        }
       }
      }
     },
     "metadata": {},
     "output_type": "display_data"
    },
    {
     "data": {
      "application/vnd.plotly.v1+json": {
       "config": {
        "plotlyServerURL": "https://plot.ly"
       },
       "data": [
        {
         "dimensions": [
          {
           "range": [
            0,
            1
           ],
           "values": [
            0,
            0,
            0,
            0,
            0,
            0,
            0,
            0,
            0,
            0,
            0.0625,
            0.0625,
            0.0625,
            0.0625,
            0.0625,
            0.0625,
            0.0625,
            0.0625,
            0.0625,
            0.0625,
            0.125,
            0.125,
            0.125,
            0.125,
            0.125,
            0.125,
            0.125,
            0.125,
            0.125,
            0.125,
            0.1875,
            0.1875,
            0.1875,
            0.1875,
            0.1875,
            0.1875,
            0.1875,
            0.1875,
            0.1875,
            0.1875,
            0.25,
            0.25,
            0.25,
            0.25,
            0.25,
            0.25,
            0.25,
            0.25,
            0.25,
            0.25,
            0.75,
            0.75,
            0.75,
            0.75,
            0.75,
            0.75,
            0.75,
            0.75,
            0.75,
            0.75,
            0.8125,
            0.8125,
            0.8125,
            0.8125,
            0.8125,
            0.8125,
            0.8125,
            0.8125,
            0.8125,
            0.8125,
            0.875,
            0.875,
            0.875,
            0.875,
            0.875,
            0.875,
            0.875,
            0.875,
            0.875,
            0.875,
            0.9375,
            0.9375,
            0.9375,
            0.9375,
            0.9375,
            0.9375,
            0.9375,
            0.9375,
            0.9375,
            0.9375,
            1,
            1,
            1,
            1,
            1,
            1,
            1,
            1,
            1,
            1
           ]
          },
          {
           "range": [
            0,
            1
           ],
           "values": [
            0,
            0.1111111111111111,
            0.2222222222222222,
            0.3333333333333333,
            0.4444444444444444,
            0.5555555555555556,
            0.6666666666666666,
            0.7777777777777777,
            0.8888888888888888,
            1,
            0,
            0.1111111111111111,
            0.2222222222222222,
            0.3333333333333333,
            0.4444444444444444,
            0.5555555555555556,
            0.6666666666666666,
            0.7777777777777777,
            0.8888888888888888,
            1,
            0,
            0.1111111111111111,
            0.2222222222222222,
            0.3333333333333333,
            0.4444444444444444,
            0.5555555555555556,
            0.6666666666666666,
            0.7777777777777777,
            0.8888888888888888,
            1,
            0,
            0.1111111111111111,
            0.2222222222222222,
            0.3333333333333333,
            0.4444444444444444,
            0.5555555555555556,
            0.6666666666666666,
            0.7777777777777777,
            0.8888888888888888,
            1,
            0,
            0.1111111111111111,
            0.2222222222222222,
            0.3333333333333333,
            0.4444444444444444,
            0.5555555555555556,
            0.6666666666666666,
            0.7777777777777777,
            0.8888888888888888,
            1,
            0,
            0.1111111111111111,
            0.2222222222222222,
            0.3333333333333333,
            0.4444444444444444,
            0.5555555555555556,
            0.6666666666666666,
            0.7777777777777777,
            0.8888888888888888,
            1,
            0,
            0.1111111111111111,
            0.2222222222222222,
            0.3333333333333333,
            0.4444444444444444,
            0.5555555555555556,
            0.6666666666666666,
            0.7777777777777777,
            0.8888888888888888,
            1,
            0,
            0.1111111111111111,
            0.2222222222222222,
            0.3333333333333333,
            0.4444444444444444,
            0.5555555555555556,
            0.6666666666666666,
            0.7777777777777777,
            0.8888888888888888,
            1,
            0,
            0.1111111111111111,
            0.2222222222222222,
            0.3333333333333333,
            0.4444444444444444,
            0.5555555555555556,
            0.6666666666666666,
            0.7777777777777777,
            0.8888888888888888,
            1,
            0,
            0.1111111111111111,
            0.2222222222222222,
            0.3333333333333333,
            0.4444444444444444,
            0.5555555555555556,
            0.6666666666666666,
            0.7777777777777777,
            0.8888888888888888,
            1
           ]
          },
          {
           "range": [
            -2,
            2
           ],
           "values": [
            0,
            0.21134589251003413,
            0.42269178502006827,
            0.6340376775301024,
            0.8453835700401365,
            1.0567294625501709,
            1.2680753550602049,
            1.4794212475702389,
            1.690767140080273,
            1.9021130325903073,
            0,
            0.16897910346667355,
            0.3379582069333471,
            0.5069373104000207,
            0.6759164138666942,
            0.8448955173333679,
            1.0138746208000413,
            1.1828537242667148,
            1.3518328277333884,
            1.520811931200062,
            0,
            0.10088677771989929,
            0.20177355543979858,
            0.30266033315969787,
            0.40354711087959716,
            0.5044338885994966,
            0.6053206663193957,
            0.706207444039295,
            0.8070942217591943,
            0.9079809994790937,
            0,
            0.01743535460618779,
            0.03487070921237558,
            0.05230606381856338,
            0.06974141842475116,
            0.08717677303093897,
            0.10461212763712675,
            0.12204748224331453,
            0.13948283684950233,
            0.15691819145569014,
            0,
            -0.06867044319443273,
            -0.13734088638886546,
            -0.20601132958329818,
            -0.2746817727777309,
            -0.34335221597216364,
            -0.41202265916659636,
            -0.480693102361029,
            -0.5493635455554619,
            -0.6180339887498946,
            0,
            0.0686704431944327,
            0.1373408863888654,
            0.2060113295832981,
            0.2746817727777308,
            0.34335221597216353,
            0.4120226591665962,
            0.48069310236102886,
            0.5493635455554616,
            0.6180339887498943,
            0,
            0.1443217885178186,
            0.2886435770356372,
            0.4329653655534558,
            0.5772871540712744,
            0.7216089425890931,
            0.8659307311069117,
            1.0102525196247303,
            1.1545743081425488,
            1.2988960966603675,
            0,
            0.19800144981963727,
            0.39600289963927454,
            0.5940043494589118,
            0.7920057992785491,
            0.9900072490981865,
            1.1880086989178236,
            1.3860101487374608,
            1.5840115985570982,
            1.7820130483767356,
            0,
            0.22153718527402844,
            0.4430743705480569,
            0.6646115558220853,
            0.8861487410961137,
            1.1076859263701422,
            1.3292231116441706,
            1.5507602969181988,
            1.7722974821922275,
            1.993834667466256,
            0,
            0.21134589251003413,
            0.42269178502006827,
            0.6340376775301024,
            0.8453835700401365,
            1.0567294625501709,
            1.2680753550602049,
            1.4794212475702389,
            1.690767140080273,
            1.9021130325903073
           ]
          },
          {
           "range": [
            -2,
            2
           ],
           "values": [
            0,
            0.13061894495388293,
            0.26123788990776586,
            0.3918568348616488,
            0.5224757798155317,
            0.6530947247694148,
            0.7837136697232976,
            0.9143326146771805,
            1.0449515596310635,
            1.1755705045849465,
            0,
            0.05187674752353456,
            0.10375349504706911,
            0.15563024257060368,
            0.20750699009413823,
            0.2593837376176728,
            0.31126048514120735,
            0.3631372326647419,
            0.41501398018827645,
            0.46689072771181106,
            0,
            -0.0347632144533846,
            -0.0695264289067692,
            -0.10428964336015381,
            -0.1390528578135384,
            -0.17381607226692306,
            -0.20857928672030762,
            -0.24334250117369222,
            -0.2781057156270768,
            -0.31286893008046146,
            0,
            -0.11611079215909972,
            -0.23222158431819945,
            -0.3483323764772992,
            -0.4644431686363989,
            -0.5805539607954987,
            -0.6966647529545984,
            -0.812775545113698,
            -0.9288863372727978,
            -1.0449971294318976,
            0,
            -0.17978155430554385,
            -0.3595631086110877,
            -0.5393446629166315,
            -0.7191262172221754,
            -0.8989077715277193,
            -1.078689325833263,
            -1.258470880138807,
            -1.4382524344443508,
            -1.6180339887498947,
            0,
            0.17978155430554382,
            0.35956310861108765,
            0.5393446629166314,
            0.7191262172221753,
            0.8989077715277192,
            1.0786893258332628,
            1.2584708801388067,
            1.4382524344443506,
            1.6180339887498945,
            0,
            0.216082204532817,
            0.432164409065634,
            0.648246613598451,
            0.864328818131268,
            1.0804110226640853,
            1.296493227196902,
            1.512575431729719,
            1.728657636262536,
            1.9447398407953533,
            0,
            0.21948629791003063,
            0.43897259582006126,
            0.6584588937300919,
            0.8779451916401225,
            1.0974314895501533,
            1.3169177874601838,
            1.5364040853702143,
            1.755890383280245,
            1.9753766811902758,
            0,
            0.18947559207868725,
            0.3789511841573745,
            0.5684267762360617,
            0.757902368314749,
            0.9473779603934362,
            1.1368535524721235,
            1.3263291445508105,
            1.515804736629498,
            1.7052803287081852,
            0,
            0.13061894495388296,
            0.2612378899077659,
            0.3918568348616489,
            0.5224757798155318,
            0.6530947247694149,
            0.7837136697232978,
            0.9143326146771806,
            1.0449515596310637,
            1.1755705045849467
           ]
          },
          {
           "range": [
            -2,
            2
           ],
           "values": [
            0,
            2.7214373314385625e-17,
            5.442874662877125e-17,
            8.164311994315688e-17,
            1.088574932575425e-16,
            1.3607186657192814e-16,
            1.6328623988631375e-16,
            1.9050061320069937e-16,
            2.17714986515085e-16,
            2.4492935982947064e-16,
            0,
            -0.0850407627477977,
            -0.1700815254955954,
            -0.2551222882433931,
            -0.3401630509911908,
            -0.4252038137389885,
            -0.5102445764867862,
            -0.5952853392345838,
            -0.6803261019823816,
            -0.7653668647301793,
            0,
            -0.15713484026367722,
            -0.31426968052735443,
            -0.4714045207910316,
            -0.6285393610547089,
            -0.7856742013183861,
            -0.9428090415820632,
            -1.0999438818457403,
            -1.2570787221094177,
            -1.414213562373095,
            0,
            -0.2053065627802859,
            -0.4106131255605718,
            -0.6159196883408576,
            -0.8212262511211436,
            -1.0265328139014296,
            -1.2318393766817153,
            -1.437145939462001,
            -1.6424525022422871,
            -1.847759065022573,
            0,
            -0.2222222222222222,
            -0.4444444444444444,
            -0.6666666666666666,
            -0.8888888888888888,
            -1.1111111111111112,
            -1.3333333333333333,
            -1.5555555555555554,
            -1.7777777777777777,
            -2,
            0,
            0.2222222222222222,
            0.4444444444444444,
            0.6666666666666666,
            0.8888888888888888,
            1.1111111111111112,
            1.3333333333333333,
            1.5555555555555554,
            1.7777777777777777,
            2,
            0,
            0.20530656278028592,
            0.41061312556057183,
            0.6159196883408578,
            0.8212262511211437,
            1.0265328139014298,
            1.2318393766817155,
            1.4371459394620014,
            1.6424525022422873,
            1.8477590650225735,
            0,
            0.15713484026367744,
            0.3142696805273549,
            0.4714045207910323,
            0.6285393610547098,
            0.7856742013183872,
            0.9428090415820646,
            1.0999438818457419,
            1.2570787221094195,
            1.414213562373097,
            0,
            0.08504076274779789,
            0.17008152549559577,
            0.25512228824339367,
            0.34016305099119154,
            0.42520381373898947,
            0.5102445764867873,
            0.5952853392345852,
            0.6803261019823831,
            0.765366864730181,
            0,
            8.164311994315688e-17,
            1.6328623988631375e-16,
            2.449293598294706e-16,
            3.265724797726275e-16,
            4.0821559971578437e-16,
            4.898587196589412e-16,
            5.71501839602098e-16,
            6.53144959545255e-16,
            7.347880794884119e-16
           ]
          }
         ],
         "line": {
          "cmax": 1,
          "cmin": 0,
          "color": [
           0,
           0,
           0,
           0,
           0,
           0,
           0,
           0,
           0,
           0,
           0,
           0.006944444444444444,
           0.013888888888888888,
           0.020833333333333332,
           0.027777777777777776,
           0.034722222222222224,
           0.041666666666666664,
           0.048611111111111105,
           0.05555555555555555,
           0.0625,
           0,
           0.013888888888888888,
           0.027777777777777776,
           0.041666666666666664,
           0.05555555555555555,
           0.06944444444444445,
           0.08333333333333333,
           0.09722222222222221,
           0.1111111111111111,
           0.125,
           0,
           0.020833333333333332,
           0.041666666666666664,
           0.0625,
           0.08333333333333333,
           0.10416666666666667,
           0.125,
           0.14583333333333331,
           0.16666666666666666,
           0.1875,
           0,
           0.027777777777777776,
           0.05555555555555555,
           0.08333333333333333,
           0.1111111111111111,
           0.1388888888888889,
           0.16666666666666666,
           0.19444444444444442,
           0.2222222222222222,
           0.25,
           0,
           0.08333333333333333,
           0.16666666666666666,
           0.25,
           0.3333333333333333,
           0.4166666666666667,
           0.5,
           0.5833333333333333,
           0.6666666666666666,
           0.75,
           0,
           0.09027777777777778,
           0.18055555555555555,
           0.2708333333333333,
           0.3611111111111111,
           0.4513888888888889,
           0.5416666666666666,
           0.6319444444444444,
           0.7222222222222222,
           0.8125,
           0,
           0.09722222222222221,
           0.19444444444444442,
           0.29166666666666663,
           0.38888888888888884,
           0.48611111111111116,
           0.5833333333333333,
           0.6805555555555555,
           0.7777777777777777,
           0.875,
           0,
           0.10416666666666666,
           0.20833333333333331,
           0.3125,
           0.41666666666666663,
           0.5208333333333334,
           0.625,
           0.7291666666666665,
           0.8333333333333333,
           0.9375,
           0,
           0.1111111111111111,
           0.2222222222222222,
           0.3333333333333333,
           0.4444444444444444,
           0.5555555555555556,
           0.6666666666666666,
           0.7777777777777777,
           0.8888888888888888,
           1
          ],
          "colorbar": {
           "title": {
            "text": "f1"
           }
          },
          "colorscale": [
           [
            0,
            "rgb(247,251,255)"
           ],
           [
            0.125,
            "rgb(222,235,247)"
           ],
           [
            0.25,
            "rgb(198,219,239)"
           ],
           [
            0.375,
            "rgb(158,202,225)"
           ],
           [
            0.5,
            "rgb(107,174,214)"
           ],
           [
            0.625,
            "rgb(66,146,198)"
           ],
           [
            0.75,
            "rgb(33,113,181)"
           ],
           [
            0.875,
            "rgb(8,81,156)"
           ],
           [
            1,
            "rgb(8,48,107)"
           ]
          ]
         },
         "type": "parcoords"
        }
       ],
       "layout": {
        "template": {
         "data": {
          "bar": [
           {
            "error_x": {
             "color": "#2a3f5f"
            },
            "error_y": {
             "color": "#2a3f5f"
            },
            "marker": {
             "line": {
              "color": "#E5ECF6",
              "width": 0.5
             },
             "pattern": {
              "fillmode": "overlay",
              "size": 10,
              "solidity": 0.2
             }
            },
            "type": "bar"
           }
          ],
          "barpolar": [
           {
            "marker": {
             "line": {
              "color": "#E5ECF6",
              "width": 0.5
             },
             "pattern": {
              "fillmode": "overlay",
              "size": 10,
              "solidity": 0.2
             }
            },
            "type": "barpolar"
           }
          ],
          "carpet": [
           {
            "aaxis": {
             "endlinecolor": "#2a3f5f",
             "gridcolor": "white",
             "linecolor": "white",
             "minorgridcolor": "white",
             "startlinecolor": "#2a3f5f"
            },
            "baxis": {
             "endlinecolor": "#2a3f5f",
             "gridcolor": "white",
             "linecolor": "white",
             "minorgridcolor": "white",
             "startlinecolor": "#2a3f5f"
            },
            "type": "carpet"
           }
          ],
          "choropleth": [
           {
            "colorbar": {
             "outlinewidth": 0,
             "ticks": ""
            },
            "type": "choropleth"
           }
          ],
          "contour": [
           {
            "colorbar": {
             "outlinewidth": 0,
             "ticks": ""
            },
            "colorscale": [
             [
              0,
              "#0d0887"
             ],
             [
              0.1111111111111111,
              "#46039f"
             ],
             [
              0.2222222222222222,
              "#7201a8"
             ],
             [
              0.3333333333333333,
              "#9c179e"
             ],
             [
              0.4444444444444444,
              "#bd3786"
             ],
             [
              0.5555555555555556,
              "#d8576b"
             ],
             [
              0.6666666666666666,
              "#ed7953"
             ],
             [
              0.7777777777777778,
              "#fb9f3a"
             ],
             [
              0.8888888888888888,
              "#fdca26"
             ],
             [
              1,
              "#f0f921"
             ]
            ],
            "type": "contour"
           }
          ],
          "contourcarpet": [
           {
            "colorbar": {
             "outlinewidth": 0,
             "ticks": ""
            },
            "type": "contourcarpet"
           }
          ],
          "heatmap": [
           {
            "colorbar": {
             "outlinewidth": 0,
             "ticks": ""
            },
            "colorscale": [
             [
              0,
              "#0d0887"
             ],
             [
              0.1111111111111111,
              "#46039f"
             ],
             [
              0.2222222222222222,
              "#7201a8"
             ],
             [
              0.3333333333333333,
              "#9c179e"
             ],
             [
              0.4444444444444444,
              "#bd3786"
             ],
             [
              0.5555555555555556,
              "#d8576b"
             ],
             [
              0.6666666666666666,
              "#ed7953"
             ],
             [
              0.7777777777777778,
              "#fb9f3a"
             ],
             [
              0.8888888888888888,
              "#fdca26"
             ],
             [
              1,
              "#f0f921"
             ]
            ],
            "type": "heatmap"
           }
          ],
          "heatmapgl": [
           {
            "colorbar": {
             "outlinewidth": 0,
             "ticks": ""
            },
            "colorscale": [
             [
              0,
              "#0d0887"
             ],
             [
              0.1111111111111111,
              "#46039f"
             ],
             [
              0.2222222222222222,
              "#7201a8"
             ],
             [
              0.3333333333333333,
              "#9c179e"
             ],
             [
              0.4444444444444444,
              "#bd3786"
             ],
             [
              0.5555555555555556,
              "#d8576b"
             ],
             [
              0.6666666666666666,
              "#ed7953"
             ],
             [
              0.7777777777777778,
              "#fb9f3a"
             ],
             [
              0.8888888888888888,
              "#fdca26"
             ],
             [
              1,
              "#f0f921"
             ]
            ],
            "type": "heatmapgl"
           }
          ],
          "histogram": [
           {
            "marker": {
             "pattern": {
              "fillmode": "overlay",
              "size": 10,
              "solidity": 0.2
             }
            },
            "type": "histogram"
           }
          ],
          "histogram2d": [
           {
            "colorbar": {
             "outlinewidth": 0,
             "ticks": ""
            },
            "colorscale": [
             [
              0,
              "#0d0887"
             ],
             [
              0.1111111111111111,
              "#46039f"
             ],
             [
              0.2222222222222222,
              "#7201a8"
             ],
             [
              0.3333333333333333,
              "#9c179e"
             ],
             [
              0.4444444444444444,
              "#bd3786"
             ],
             [
              0.5555555555555556,
              "#d8576b"
             ],
             [
              0.6666666666666666,
              "#ed7953"
             ],
             [
              0.7777777777777778,
              "#fb9f3a"
             ],
             [
              0.8888888888888888,
              "#fdca26"
             ],
             [
              1,
              "#f0f921"
             ]
            ],
            "type": "histogram2d"
           }
          ],
          "histogram2dcontour": [
           {
            "colorbar": {
             "outlinewidth": 0,
             "ticks": ""
            },
            "colorscale": [
             [
              0,
              "#0d0887"
             ],
             [
              0.1111111111111111,
              "#46039f"
             ],
             [
              0.2222222222222222,
              "#7201a8"
             ],
             [
              0.3333333333333333,
              "#9c179e"
             ],
             [
              0.4444444444444444,
              "#bd3786"
             ],
             [
              0.5555555555555556,
              "#d8576b"
             ],
             [
              0.6666666666666666,
              "#ed7953"
             ],
             [
              0.7777777777777778,
              "#fb9f3a"
             ],
             [
              0.8888888888888888,
              "#fdca26"
             ],
             [
              1,
              "#f0f921"
             ]
            ],
            "type": "histogram2dcontour"
           }
          ],
          "mesh3d": [
           {
            "colorbar": {
             "outlinewidth": 0,
             "ticks": ""
            },
            "type": "mesh3d"
           }
          ],
          "parcoords": [
           {
            "line": {
             "colorbar": {
              "outlinewidth": 0,
              "ticks": ""
             }
            },
            "type": "parcoords"
           }
          ],
          "pie": [
           {
            "automargin": true,
            "type": "pie"
           }
          ],
          "scatter": [
           {
            "fillpattern": {
             "fillmode": "overlay",
             "size": 10,
             "solidity": 0.2
            },
            "type": "scatter"
           }
          ],
          "scatter3d": [
           {
            "line": {
             "colorbar": {
              "outlinewidth": 0,
              "ticks": ""
             }
            },
            "marker": {
             "colorbar": {
              "outlinewidth": 0,
              "ticks": ""
             }
            },
            "type": "scatter3d"
           }
          ],
          "scattercarpet": [
           {
            "marker": {
             "colorbar": {
              "outlinewidth": 0,
              "ticks": ""
             }
            },
            "type": "scattercarpet"
           }
          ],
          "scattergeo": [
           {
            "marker": {
             "colorbar": {
              "outlinewidth": 0,
              "ticks": ""
             }
            },
            "type": "scattergeo"
           }
          ],
          "scattergl": [
           {
            "marker": {
             "colorbar": {
              "outlinewidth": 0,
              "ticks": ""
             }
            },
            "type": "scattergl"
           }
          ],
          "scattermapbox": [
           {
            "marker": {
             "colorbar": {
              "outlinewidth": 0,
              "ticks": ""
             }
            },
            "type": "scattermapbox"
           }
          ],
          "scatterpolar": [
           {
            "marker": {
             "colorbar": {
              "outlinewidth": 0,
              "ticks": ""
             }
            },
            "type": "scatterpolar"
           }
          ],
          "scatterpolargl": [
           {
            "marker": {
             "colorbar": {
              "outlinewidth": 0,
              "ticks": ""
             }
            },
            "type": "scatterpolargl"
           }
          ],
          "scatterternary": [
           {
            "marker": {
             "colorbar": {
              "outlinewidth": 0,
              "ticks": ""
             }
            },
            "type": "scatterternary"
           }
          ],
          "surface": [
           {
            "colorbar": {
             "outlinewidth": 0,
             "ticks": ""
            },
            "colorscale": [
             [
              0,
              "#0d0887"
             ],
             [
              0.1111111111111111,
              "#46039f"
             ],
             [
              0.2222222222222222,
              "#7201a8"
             ],
             [
              0.3333333333333333,
              "#9c179e"
             ],
             [
              0.4444444444444444,
              "#bd3786"
             ],
             [
              0.5555555555555556,
              "#d8576b"
             ],
             [
              0.6666666666666666,
              "#ed7953"
             ],
             [
              0.7777777777777778,
              "#fb9f3a"
             ],
             [
              0.8888888888888888,
              "#fdca26"
             ],
             [
              1,
              "#f0f921"
             ]
            ],
            "type": "surface"
           }
          ],
          "table": [
           {
            "cells": {
             "fill": {
              "color": "#EBF0F8"
             },
             "line": {
              "color": "white"
             }
            },
            "header": {
             "fill": {
              "color": "#C8D4E3"
             },
             "line": {
              "color": "white"
             }
            },
            "type": "table"
           }
          ]
         },
         "layout": {
          "annotationdefaults": {
           "arrowcolor": "#2a3f5f",
           "arrowhead": 0,
           "arrowwidth": 1
          },
          "autotypenumbers": "strict",
          "coloraxis": {
           "colorbar": {
            "outlinewidth": 0,
            "ticks": ""
           }
          },
          "colorscale": {
           "diverging": [
            [
             0,
             "#8e0152"
            ],
            [
             0.1,
             "#c51b7d"
            ],
            [
             0.2,
             "#de77ae"
            ],
            [
             0.3,
             "#f1b6da"
            ],
            [
             0.4,
             "#fde0ef"
            ],
            [
             0.5,
             "#f7f7f7"
            ],
            [
             0.6,
             "#e6f5d0"
            ],
            [
             0.7,
             "#b8e186"
            ],
            [
             0.8,
             "#7fbc41"
            ],
            [
             0.9,
             "#4d9221"
            ],
            [
             1,
             "#276419"
            ]
           ],
           "sequential": [
            [
             0,
             "#0d0887"
            ],
            [
             0.1111111111111111,
             "#46039f"
            ],
            [
             0.2222222222222222,
             "#7201a8"
            ],
            [
             0.3333333333333333,
             "#9c179e"
            ],
            [
             0.4444444444444444,
             "#bd3786"
            ],
            [
             0.5555555555555556,
             "#d8576b"
            ],
            [
             0.6666666666666666,
             "#ed7953"
            ],
            [
             0.7777777777777778,
             "#fb9f3a"
            ],
            [
             0.8888888888888888,
             "#fdca26"
            ],
            [
             1,
             "#f0f921"
            ]
           ],
           "sequentialminus": [
            [
             0,
             "#0d0887"
            ],
            [
             0.1111111111111111,
             "#46039f"
            ],
            [
             0.2222222222222222,
             "#7201a8"
            ],
            [
             0.3333333333333333,
             "#9c179e"
            ],
            [
             0.4444444444444444,
             "#bd3786"
            ],
            [
             0.5555555555555556,
             "#d8576b"
            ],
            [
             0.6666666666666666,
             "#ed7953"
            ],
            [
             0.7777777777777778,
             "#fb9f3a"
            ],
            [
             0.8888888888888888,
             "#fdca26"
            ],
            [
             1,
             "#f0f921"
            ]
           ]
          },
          "colorway": [
           "#636efa",
           "#EF553B",
           "#00cc96",
           "#ab63fa",
           "#FFA15A",
           "#19d3f3",
           "#FF6692",
           "#B6E880",
           "#FF97FF",
           "#FECB52"
          ],
          "font": {
           "color": "#2a3f5f"
          },
          "geo": {
           "bgcolor": "white",
           "lakecolor": "white",
           "landcolor": "#E5ECF6",
           "showlakes": true,
           "showland": true,
           "subunitcolor": "white"
          },
          "hoverlabel": {
           "align": "left"
          },
          "hovermode": "closest",
          "mapbox": {
           "style": "light"
          },
          "paper_bgcolor": "white",
          "plot_bgcolor": "#E5ECF6",
          "polar": {
           "angularaxis": {
            "gridcolor": "white",
            "linecolor": "white",
            "ticks": ""
           },
           "bgcolor": "#E5ECF6",
           "radialaxis": {
            "gridcolor": "white",
            "linecolor": "white",
            "ticks": ""
           }
          },
          "scene": {
           "xaxis": {
            "backgroundcolor": "#E5ECF6",
            "gridcolor": "white",
            "gridwidth": 2,
            "linecolor": "white",
            "showbackground": true,
            "ticks": "",
            "zerolinecolor": "white"
           },
           "yaxis": {
            "backgroundcolor": "#E5ECF6",
            "gridcolor": "white",
            "gridwidth": 2,
            "linecolor": "white",
            "showbackground": true,
            "ticks": "",
            "zerolinecolor": "white"
           },
           "zaxis": {
            "backgroundcolor": "#E5ECF6",
            "gridcolor": "white",
            "gridwidth": 2,
            "linecolor": "white",
            "showbackground": true,
            "ticks": "",
            "zerolinecolor": "white"
           }
          },
          "shapedefaults": {
           "line": {
            "color": "#2a3f5f"
           }
          },
          "ternary": {
           "aaxis": {
            "gridcolor": "white",
            "linecolor": "white",
            "ticks": ""
           },
           "baxis": {
            "gridcolor": "white",
            "linecolor": "white",
            "ticks": ""
           },
           "bgcolor": "#E5ECF6",
           "caxis": {
            "gridcolor": "white",
            "linecolor": "white",
            "ticks": ""
           }
          },
          "title": {
           "x": 0.05
          },
          "xaxis": {
           "automargin": true,
           "gridcolor": "white",
           "linecolor": "white",
           "ticks": "",
           "title": {
            "standoff": 15
           },
           "zerolinecolor": "white",
           "zerolinewidth": 2
          },
          "yaxis": {
           "automargin": true,
           "gridcolor": "white",
           "linecolor": "white",
           "ticks": "",
           "title": {
            "standoff": 15
           },
           "zerolinecolor": "white",
           "zerolinewidth": 2
          }
         }
        },
        "title": {
         "text": "UF9 f1"
        }
       }
      }
     },
     "metadata": {},
     "output_type": "display_data"
    },
    {
     "data": {
      "application/vnd.plotly.v1+json": {
       "config": {
        "plotlyServerURL": "https://plot.ly"
       },
       "data": [
        {
         "dimensions": [
          {
           "range": [
            0,
            1
           ],
           "values": [
            0,
            0,
            0,
            0,
            0,
            0,
            0,
            0,
            0,
            0,
            0.0625,
            0.0625,
            0.0625,
            0.0625,
            0.0625,
            0.0625,
            0.0625,
            0.0625,
            0.0625,
            0.0625,
            0.125,
            0.125,
            0.125,
            0.125,
            0.125,
            0.125,
            0.125,
            0.125,
            0.125,
            0.125,
            0.1875,
            0.1875,
            0.1875,
            0.1875,
            0.1875,
            0.1875,
            0.1875,
            0.1875,
            0.1875,
            0.1875,
            0.25,
            0.25,
            0.25,
            0.25,
            0.25,
            0.25,
            0.25,
            0.25,
            0.25,
            0.25,
            0.75,
            0.75,
            0.75,
            0.75,
            0.75,
            0.75,
            0.75,
            0.75,
            0.75,
            0.75,
            0.8125,
            0.8125,
            0.8125,
            0.8125,
            0.8125,
            0.8125,
            0.8125,
            0.8125,
            0.8125,
            0.8125,
            0.875,
            0.875,
            0.875,
            0.875,
            0.875,
            0.875,
            0.875,
            0.875,
            0.875,
            0.875,
            0.9375,
            0.9375,
            0.9375,
            0.9375,
            0.9375,
            0.9375,
            0.9375,
            0.9375,
            0.9375,
            0.9375,
            1,
            1,
            1,
            1,
            1,
            1,
            1,
            1,
            1,
            1
           ]
          },
          {
           "range": [
            0,
            1
           ],
           "values": [
            0,
            0.1111111111111111,
            0.2222222222222222,
            0.3333333333333333,
            0.4444444444444444,
            0.5555555555555556,
            0.6666666666666666,
            0.7777777777777777,
            0.8888888888888888,
            1,
            0,
            0.1111111111111111,
            0.2222222222222222,
            0.3333333333333333,
            0.4444444444444444,
            0.5555555555555556,
            0.6666666666666666,
            0.7777777777777777,
            0.8888888888888888,
            1,
            0,
            0.1111111111111111,
            0.2222222222222222,
            0.3333333333333333,
            0.4444444444444444,
            0.5555555555555556,
            0.6666666666666666,
            0.7777777777777777,
            0.8888888888888888,
            1,
            0,
            0.1111111111111111,
            0.2222222222222222,
            0.3333333333333333,
            0.4444444444444444,
            0.5555555555555556,
            0.6666666666666666,
            0.7777777777777777,
            0.8888888888888888,
            1,
            0,
            0.1111111111111111,
            0.2222222222222222,
            0.3333333333333333,
            0.4444444444444444,
            0.5555555555555556,
            0.6666666666666666,
            0.7777777777777777,
            0.8888888888888888,
            1,
            0,
            0.1111111111111111,
            0.2222222222222222,
            0.3333333333333333,
            0.4444444444444444,
            0.5555555555555556,
            0.6666666666666666,
            0.7777777777777777,
            0.8888888888888888,
            1,
            0,
            0.1111111111111111,
            0.2222222222222222,
            0.3333333333333333,
            0.4444444444444444,
            0.5555555555555556,
            0.6666666666666666,
            0.7777777777777777,
            0.8888888888888888,
            1,
            0,
            0.1111111111111111,
            0.2222222222222222,
            0.3333333333333333,
            0.4444444444444444,
            0.5555555555555556,
            0.6666666666666666,
            0.7777777777777777,
            0.8888888888888888,
            1,
            0,
            0.1111111111111111,
            0.2222222222222222,
            0.3333333333333333,
            0.4444444444444444,
            0.5555555555555556,
            0.6666666666666666,
            0.7777777777777777,
            0.8888888888888888,
            1,
            0,
            0.1111111111111111,
            0.2222222222222222,
            0.3333333333333333,
            0.4444444444444444,
            0.5555555555555556,
            0.6666666666666666,
            0.7777777777777777,
            0.8888888888888888,
            1
           ]
          },
          {
           "range": [
            -2,
            2
           ],
           "values": [
            0,
            0.21134589251003413,
            0.42269178502006827,
            0.6340376775301024,
            0.8453835700401365,
            1.0567294625501709,
            1.2680753550602049,
            1.4794212475702389,
            1.690767140080273,
            1.9021130325903073,
            0,
            0.16897910346667355,
            0.3379582069333471,
            0.5069373104000207,
            0.6759164138666942,
            0.8448955173333679,
            1.0138746208000413,
            1.1828537242667148,
            1.3518328277333884,
            1.520811931200062,
            0,
            0.10088677771989929,
            0.20177355543979858,
            0.30266033315969787,
            0.40354711087959716,
            0.5044338885994966,
            0.6053206663193957,
            0.706207444039295,
            0.8070942217591943,
            0.9079809994790937,
            0,
            0.01743535460618779,
            0.03487070921237558,
            0.05230606381856338,
            0.06974141842475116,
            0.08717677303093897,
            0.10461212763712675,
            0.12204748224331453,
            0.13948283684950233,
            0.15691819145569014,
            0,
            -0.06867044319443273,
            -0.13734088638886546,
            -0.20601132958329818,
            -0.2746817727777309,
            -0.34335221597216364,
            -0.41202265916659636,
            -0.480693102361029,
            -0.5493635455554619,
            -0.6180339887498946,
            0,
            0.0686704431944327,
            0.1373408863888654,
            0.2060113295832981,
            0.2746817727777308,
            0.34335221597216353,
            0.4120226591665962,
            0.48069310236102886,
            0.5493635455554616,
            0.6180339887498943,
            0,
            0.1443217885178186,
            0.2886435770356372,
            0.4329653655534558,
            0.5772871540712744,
            0.7216089425890931,
            0.8659307311069117,
            1.0102525196247303,
            1.1545743081425488,
            1.2988960966603675,
            0,
            0.19800144981963727,
            0.39600289963927454,
            0.5940043494589118,
            0.7920057992785491,
            0.9900072490981865,
            1.1880086989178236,
            1.3860101487374608,
            1.5840115985570982,
            1.7820130483767356,
            0,
            0.22153718527402844,
            0.4430743705480569,
            0.6646115558220853,
            0.8861487410961137,
            1.1076859263701422,
            1.3292231116441706,
            1.5507602969181988,
            1.7722974821922275,
            1.993834667466256,
            0,
            0.21134589251003413,
            0.42269178502006827,
            0.6340376775301024,
            0.8453835700401365,
            1.0567294625501709,
            1.2680753550602049,
            1.4794212475702389,
            1.690767140080273,
            1.9021130325903073
           ]
          },
          {
           "range": [
            -2,
            2
           ],
           "values": [
            0,
            0.13061894495388293,
            0.26123788990776586,
            0.3918568348616488,
            0.5224757798155317,
            0.6530947247694148,
            0.7837136697232976,
            0.9143326146771805,
            1.0449515596310635,
            1.1755705045849465,
            0,
            0.05187674752353456,
            0.10375349504706911,
            0.15563024257060368,
            0.20750699009413823,
            0.2593837376176728,
            0.31126048514120735,
            0.3631372326647419,
            0.41501398018827645,
            0.46689072771181106,
            0,
            -0.0347632144533846,
            -0.0695264289067692,
            -0.10428964336015381,
            -0.1390528578135384,
            -0.17381607226692306,
            -0.20857928672030762,
            -0.24334250117369222,
            -0.2781057156270768,
            -0.31286893008046146,
            0,
            -0.11611079215909972,
            -0.23222158431819945,
            -0.3483323764772992,
            -0.4644431686363989,
            -0.5805539607954987,
            -0.6966647529545984,
            -0.812775545113698,
            -0.9288863372727978,
            -1.0449971294318976,
            0,
            -0.17978155430554385,
            -0.3595631086110877,
            -0.5393446629166315,
            -0.7191262172221754,
            -0.8989077715277193,
            -1.078689325833263,
            -1.258470880138807,
            -1.4382524344443508,
            -1.6180339887498947,
            0,
            0.17978155430554382,
            0.35956310861108765,
            0.5393446629166314,
            0.7191262172221753,
            0.8989077715277192,
            1.0786893258332628,
            1.2584708801388067,
            1.4382524344443506,
            1.6180339887498945,
            0,
            0.216082204532817,
            0.432164409065634,
            0.648246613598451,
            0.864328818131268,
            1.0804110226640853,
            1.296493227196902,
            1.512575431729719,
            1.728657636262536,
            1.9447398407953533,
            0,
            0.21948629791003063,
            0.43897259582006126,
            0.6584588937300919,
            0.8779451916401225,
            1.0974314895501533,
            1.3169177874601838,
            1.5364040853702143,
            1.755890383280245,
            1.9753766811902758,
            0,
            0.18947559207868725,
            0.3789511841573745,
            0.5684267762360617,
            0.757902368314749,
            0.9473779603934362,
            1.1368535524721235,
            1.3263291445508105,
            1.515804736629498,
            1.7052803287081852,
            0,
            0.13061894495388296,
            0.2612378899077659,
            0.3918568348616489,
            0.5224757798155318,
            0.6530947247694149,
            0.7837136697232978,
            0.9143326146771806,
            1.0449515596310637,
            1.1755705045849467
           ]
          },
          {
           "range": [
            -2,
            2
           ],
           "values": [
            0,
            2.7214373314385625e-17,
            5.442874662877125e-17,
            8.164311994315688e-17,
            1.088574932575425e-16,
            1.3607186657192814e-16,
            1.6328623988631375e-16,
            1.9050061320069937e-16,
            2.17714986515085e-16,
            2.4492935982947064e-16,
            0,
            -0.0850407627477977,
            -0.1700815254955954,
            -0.2551222882433931,
            -0.3401630509911908,
            -0.4252038137389885,
            -0.5102445764867862,
            -0.5952853392345838,
            -0.6803261019823816,
            -0.7653668647301793,
            0,
            -0.15713484026367722,
            -0.31426968052735443,
            -0.4714045207910316,
            -0.6285393610547089,
            -0.7856742013183861,
            -0.9428090415820632,
            -1.0999438818457403,
            -1.2570787221094177,
            -1.414213562373095,
            0,
            -0.2053065627802859,
            -0.4106131255605718,
            -0.6159196883408576,
            -0.8212262511211436,
            -1.0265328139014296,
            -1.2318393766817153,
            -1.437145939462001,
            -1.6424525022422871,
            -1.847759065022573,
            0,
            -0.2222222222222222,
            -0.4444444444444444,
            -0.6666666666666666,
            -0.8888888888888888,
            -1.1111111111111112,
            -1.3333333333333333,
            -1.5555555555555554,
            -1.7777777777777777,
            -2,
            0,
            0.2222222222222222,
            0.4444444444444444,
            0.6666666666666666,
            0.8888888888888888,
            1.1111111111111112,
            1.3333333333333333,
            1.5555555555555554,
            1.7777777777777777,
            2,
            0,
            0.20530656278028592,
            0.41061312556057183,
            0.6159196883408578,
            0.8212262511211437,
            1.0265328139014298,
            1.2318393766817155,
            1.4371459394620014,
            1.6424525022422873,
            1.8477590650225735,
            0,
            0.15713484026367744,
            0.3142696805273549,
            0.4714045207910323,
            0.6285393610547098,
            0.7856742013183872,
            0.9428090415820646,
            1.0999438818457419,
            1.2570787221094195,
            1.414213562373097,
            0,
            0.08504076274779789,
            0.17008152549559577,
            0.25512228824339367,
            0.34016305099119154,
            0.42520381373898947,
            0.5102445764867873,
            0.5952853392345852,
            0.6803261019823831,
            0.765366864730181,
            0,
            8.164311994315688e-17,
            1.6328623988631375e-16,
            2.449293598294706e-16,
            3.265724797726275e-16,
            4.0821559971578437e-16,
            4.898587196589412e-16,
            5.71501839602098e-16,
            6.53144959545255e-16,
            7.347880794884119e-16
           ]
          }
         ],
         "line": {
          "cmax": 1,
          "cmin": 0,
          "color": [
           0,
           0.1111111111111111,
           0.2222222222222222,
           0.3333333333333333,
           0.4444444444444444,
           0.5555555555555556,
           0.6666666666666666,
           0.7777777777777777,
           0.8888888888888888,
           1,
           0,
           0.10416666666666666,
           0.20833333333333331,
           0.3125,
           0.41666666666666663,
           0.5208333333333334,
           0.625,
           0.7291666666666665,
           0.8333333333333333,
           0.9375,
           0,
           0.09722222222222221,
           0.19444444444444442,
           0.29166666666666663,
           0.38888888888888884,
           0.48611111111111116,
           0.5833333333333333,
           0.6805555555555555,
           0.7777777777777777,
           0.875,
           0,
           0.09027777777777778,
           0.18055555555555555,
           0.2708333333333333,
           0.3611111111111111,
           0.4513888888888889,
           0.5416666666666666,
           0.6319444444444444,
           0.7222222222222222,
           0.8125,
           0,
           0.08333333333333333,
           0.16666666666666666,
           0.25,
           0.3333333333333333,
           0.4166666666666667,
           0.5,
           0.5833333333333333,
           0.6666666666666666,
           0.75,
           0,
           0.027777777777777776,
           0.05555555555555555,
           0.08333333333333333,
           0.1111111111111111,
           0.1388888888888889,
           0.16666666666666666,
           0.19444444444444442,
           0.2222222222222222,
           0.25,
           0,
           0.020833333333333332,
           0.041666666666666664,
           0.0625,
           0.08333333333333333,
           0.10416666666666667,
           0.125,
           0.14583333333333331,
           0.16666666666666666,
           0.1875,
           0,
           0.013888888888888888,
           0.027777777777777776,
           0.041666666666666664,
           0.05555555555555555,
           0.06944444444444445,
           0.08333333333333333,
           0.09722222222222221,
           0.1111111111111111,
           0.125,
           0,
           0.006944444444444444,
           0.013888888888888888,
           0.020833333333333332,
           0.027777777777777776,
           0.034722222222222224,
           0.041666666666666664,
           0.048611111111111105,
           0.05555555555555555,
           0.0625,
           0,
           0,
           0,
           0,
           0,
           0,
           0,
           0,
           0,
           0
          ],
          "colorbar": {
           "title": {
            "text": "f2"
           }
          },
          "colorscale": [
           [
            0,
            "rgb(255,245,235)"
           ],
           [
            0.125,
            "rgb(254,230,206)"
           ],
           [
            0.25,
            "rgb(253,208,162)"
           ],
           [
            0.375,
            "rgb(253,174,107)"
           ],
           [
            0.5,
            "rgb(253,141,60)"
           ],
           [
            0.625,
            "rgb(241,105,19)"
           ],
           [
            0.75,
            "rgb(217,72,1)"
           ],
           [
            0.875,
            "rgb(166,54,3)"
           ],
           [
            1,
            "rgb(127,39,4)"
           ]
          ]
         },
         "type": "parcoords"
        }
       ],
       "layout": {
        "template": {
         "data": {
          "bar": [
           {
            "error_x": {
             "color": "#2a3f5f"
            },
            "error_y": {
             "color": "#2a3f5f"
            },
            "marker": {
             "line": {
              "color": "#E5ECF6",
              "width": 0.5
             },
             "pattern": {
              "fillmode": "overlay",
              "size": 10,
              "solidity": 0.2
             }
            },
            "type": "bar"
           }
          ],
          "barpolar": [
           {
            "marker": {
             "line": {
              "color": "#E5ECF6",
              "width": 0.5
             },
             "pattern": {
              "fillmode": "overlay",
              "size": 10,
              "solidity": 0.2
             }
            },
            "type": "barpolar"
           }
          ],
          "carpet": [
           {
            "aaxis": {
             "endlinecolor": "#2a3f5f",
             "gridcolor": "white",
             "linecolor": "white",
             "minorgridcolor": "white",
             "startlinecolor": "#2a3f5f"
            },
            "baxis": {
             "endlinecolor": "#2a3f5f",
             "gridcolor": "white",
             "linecolor": "white",
             "minorgridcolor": "white",
             "startlinecolor": "#2a3f5f"
            },
            "type": "carpet"
           }
          ],
          "choropleth": [
           {
            "colorbar": {
             "outlinewidth": 0,
             "ticks": ""
            },
            "type": "choropleth"
           }
          ],
          "contour": [
           {
            "colorbar": {
             "outlinewidth": 0,
             "ticks": ""
            },
            "colorscale": [
             [
              0,
              "#0d0887"
             ],
             [
              0.1111111111111111,
              "#46039f"
             ],
             [
              0.2222222222222222,
              "#7201a8"
             ],
             [
              0.3333333333333333,
              "#9c179e"
             ],
             [
              0.4444444444444444,
              "#bd3786"
             ],
             [
              0.5555555555555556,
              "#d8576b"
             ],
             [
              0.6666666666666666,
              "#ed7953"
             ],
             [
              0.7777777777777778,
              "#fb9f3a"
             ],
             [
              0.8888888888888888,
              "#fdca26"
             ],
             [
              1,
              "#f0f921"
             ]
            ],
            "type": "contour"
           }
          ],
          "contourcarpet": [
           {
            "colorbar": {
             "outlinewidth": 0,
             "ticks": ""
            },
            "type": "contourcarpet"
           }
          ],
          "heatmap": [
           {
            "colorbar": {
             "outlinewidth": 0,
             "ticks": ""
            },
            "colorscale": [
             [
              0,
              "#0d0887"
             ],
             [
              0.1111111111111111,
              "#46039f"
             ],
             [
              0.2222222222222222,
              "#7201a8"
             ],
             [
              0.3333333333333333,
              "#9c179e"
             ],
             [
              0.4444444444444444,
              "#bd3786"
             ],
             [
              0.5555555555555556,
              "#d8576b"
             ],
             [
              0.6666666666666666,
              "#ed7953"
             ],
             [
              0.7777777777777778,
              "#fb9f3a"
             ],
             [
              0.8888888888888888,
              "#fdca26"
             ],
             [
              1,
              "#f0f921"
             ]
            ],
            "type": "heatmap"
           }
          ],
          "heatmapgl": [
           {
            "colorbar": {
             "outlinewidth": 0,
             "ticks": ""
            },
            "colorscale": [
             [
              0,
              "#0d0887"
             ],
             [
              0.1111111111111111,
              "#46039f"
             ],
             [
              0.2222222222222222,
              "#7201a8"
             ],
             [
              0.3333333333333333,
              "#9c179e"
             ],
             [
              0.4444444444444444,
              "#bd3786"
             ],
             [
              0.5555555555555556,
              "#d8576b"
             ],
             [
              0.6666666666666666,
              "#ed7953"
             ],
             [
              0.7777777777777778,
              "#fb9f3a"
             ],
             [
              0.8888888888888888,
              "#fdca26"
             ],
             [
              1,
              "#f0f921"
             ]
            ],
            "type": "heatmapgl"
           }
          ],
          "histogram": [
           {
            "marker": {
             "pattern": {
              "fillmode": "overlay",
              "size": 10,
              "solidity": 0.2
             }
            },
            "type": "histogram"
           }
          ],
          "histogram2d": [
           {
            "colorbar": {
             "outlinewidth": 0,
             "ticks": ""
            },
            "colorscale": [
             [
              0,
              "#0d0887"
             ],
             [
              0.1111111111111111,
              "#46039f"
             ],
             [
              0.2222222222222222,
              "#7201a8"
             ],
             [
              0.3333333333333333,
              "#9c179e"
             ],
             [
              0.4444444444444444,
              "#bd3786"
             ],
             [
              0.5555555555555556,
              "#d8576b"
             ],
             [
              0.6666666666666666,
              "#ed7953"
             ],
             [
              0.7777777777777778,
              "#fb9f3a"
             ],
             [
              0.8888888888888888,
              "#fdca26"
             ],
             [
              1,
              "#f0f921"
             ]
            ],
            "type": "histogram2d"
           }
          ],
          "histogram2dcontour": [
           {
            "colorbar": {
             "outlinewidth": 0,
             "ticks": ""
            },
            "colorscale": [
             [
              0,
              "#0d0887"
             ],
             [
              0.1111111111111111,
              "#46039f"
             ],
             [
              0.2222222222222222,
              "#7201a8"
             ],
             [
              0.3333333333333333,
              "#9c179e"
             ],
             [
              0.4444444444444444,
              "#bd3786"
             ],
             [
              0.5555555555555556,
              "#d8576b"
             ],
             [
              0.6666666666666666,
              "#ed7953"
             ],
             [
              0.7777777777777778,
              "#fb9f3a"
             ],
             [
              0.8888888888888888,
              "#fdca26"
             ],
             [
              1,
              "#f0f921"
             ]
            ],
            "type": "histogram2dcontour"
           }
          ],
          "mesh3d": [
           {
            "colorbar": {
             "outlinewidth": 0,
             "ticks": ""
            },
            "type": "mesh3d"
           }
          ],
          "parcoords": [
           {
            "line": {
             "colorbar": {
              "outlinewidth": 0,
              "ticks": ""
             }
            },
            "type": "parcoords"
           }
          ],
          "pie": [
           {
            "automargin": true,
            "type": "pie"
           }
          ],
          "scatter": [
           {
            "fillpattern": {
             "fillmode": "overlay",
             "size": 10,
             "solidity": 0.2
            },
            "type": "scatter"
           }
          ],
          "scatter3d": [
           {
            "line": {
             "colorbar": {
              "outlinewidth": 0,
              "ticks": ""
             }
            },
            "marker": {
             "colorbar": {
              "outlinewidth": 0,
              "ticks": ""
             }
            },
            "type": "scatter3d"
           }
          ],
          "scattercarpet": [
           {
            "marker": {
             "colorbar": {
              "outlinewidth": 0,
              "ticks": ""
             }
            },
            "type": "scattercarpet"
           }
          ],
          "scattergeo": [
           {
            "marker": {
             "colorbar": {
              "outlinewidth": 0,
              "ticks": ""
             }
            },
            "type": "scattergeo"
           }
          ],
          "scattergl": [
           {
            "marker": {
             "colorbar": {
              "outlinewidth": 0,
              "ticks": ""
             }
            },
            "type": "scattergl"
           }
          ],
          "scattermapbox": [
           {
            "marker": {
             "colorbar": {
              "outlinewidth": 0,
              "ticks": ""
             }
            },
            "type": "scattermapbox"
           }
          ],
          "scatterpolar": [
           {
            "marker": {
             "colorbar": {
              "outlinewidth": 0,
              "ticks": ""
             }
            },
            "type": "scatterpolar"
           }
          ],
          "scatterpolargl": [
           {
            "marker": {
             "colorbar": {
              "outlinewidth": 0,
              "ticks": ""
             }
            },
            "type": "scatterpolargl"
           }
          ],
          "scatterternary": [
           {
            "marker": {
             "colorbar": {
              "outlinewidth": 0,
              "ticks": ""
             }
            },
            "type": "scatterternary"
           }
          ],
          "surface": [
           {
            "colorbar": {
             "outlinewidth": 0,
             "ticks": ""
            },
            "colorscale": [
             [
              0,
              "#0d0887"
             ],
             [
              0.1111111111111111,
              "#46039f"
             ],
             [
              0.2222222222222222,
              "#7201a8"
             ],
             [
              0.3333333333333333,
              "#9c179e"
             ],
             [
              0.4444444444444444,
              "#bd3786"
             ],
             [
              0.5555555555555556,
              "#d8576b"
             ],
             [
              0.6666666666666666,
              "#ed7953"
             ],
             [
              0.7777777777777778,
              "#fb9f3a"
             ],
             [
              0.8888888888888888,
              "#fdca26"
             ],
             [
              1,
              "#f0f921"
             ]
            ],
            "type": "surface"
           }
          ],
          "table": [
           {
            "cells": {
             "fill": {
              "color": "#EBF0F8"
             },
             "line": {
              "color": "white"
             }
            },
            "header": {
             "fill": {
              "color": "#C8D4E3"
             },
             "line": {
              "color": "white"
             }
            },
            "type": "table"
           }
          ]
         },
         "layout": {
          "annotationdefaults": {
           "arrowcolor": "#2a3f5f",
           "arrowhead": 0,
           "arrowwidth": 1
          },
          "autotypenumbers": "strict",
          "coloraxis": {
           "colorbar": {
            "outlinewidth": 0,
            "ticks": ""
           }
          },
          "colorscale": {
           "diverging": [
            [
             0,
             "#8e0152"
            ],
            [
             0.1,
             "#c51b7d"
            ],
            [
             0.2,
             "#de77ae"
            ],
            [
             0.3,
             "#f1b6da"
            ],
            [
             0.4,
             "#fde0ef"
            ],
            [
             0.5,
             "#f7f7f7"
            ],
            [
             0.6,
             "#e6f5d0"
            ],
            [
             0.7,
             "#b8e186"
            ],
            [
             0.8,
             "#7fbc41"
            ],
            [
             0.9,
             "#4d9221"
            ],
            [
             1,
             "#276419"
            ]
           ],
           "sequential": [
            [
             0,
             "#0d0887"
            ],
            [
             0.1111111111111111,
             "#46039f"
            ],
            [
             0.2222222222222222,
             "#7201a8"
            ],
            [
             0.3333333333333333,
             "#9c179e"
            ],
            [
             0.4444444444444444,
             "#bd3786"
            ],
            [
             0.5555555555555556,
             "#d8576b"
            ],
            [
             0.6666666666666666,
             "#ed7953"
            ],
            [
             0.7777777777777778,
             "#fb9f3a"
            ],
            [
             0.8888888888888888,
             "#fdca26"
            ],
            [
             1,
             "#f0f921"
            ]
           ],
           "sequentialminus": [
            [
             0,
             "#0d0887"
            ],
            [
             0.1111111111111111,
             "#46039f"
            ],
            [
             0.2222222222222222,
             "#7201a8"
            ],
            [
             0.3333333333333333,
             "#9c179e"
            ],
            [
             0.4444444444444444,
             "#bd3786"
            ],
            [
             0.5555555555555556,
             "#d8576b"
            ],
            [
             0.6666666666666666,
             "#ed7953"
            ],
            [
             0.7777777777777778,
             "#fb9f3a"
            ],
            [
             0.8888888888888888,
             "#fdca26"
            ],
            [
             1,
             "#f0f921"
            ]
           ]
          },
          "colorway": [
           "#636efa",
           "#EF553B",
           "#00cc96",
           "#ab63fa",
           "#FFA15A",
           "#19d3f3",
           "#FF6692",
           "#B6E880",
           "#FF97FF",
           "#FECB52"
          ],
          "font": {
           "color": "#2a3f5f"
          },
          "geo": {
           "bgcolor": "white",
           "lakecolor": "white",
           "landcolor": "#E5ECF6",
           "showlakes": true,
           "showland": true,
           "subunitcolor": "white"
          },
          "hoverlabel": {
           "align": "left"
          },
          "hovermode": "closest",
          "mapbox": {
           "style": "light"
          },
          "paper_bgcolor": "white",
          "plot_bgcolor": "#E5ECF6",
          "polar": {
           "angularaxis": {
            "gridcolor": "white",
            "linecolor": "white",
            "ticks": ""
           },
           "bgcolor": "#E5ECF6",
           "radialaxis": {
            "gridcolor": "white",
            "linecolor": "white",
            "ticks": ""
           }
          },
          "scene": {
           "xaxis": {
            "backgroundcolor": "#E5ECF6",
            "gridcolor": "white",
            "gridwidth": 2,
            "linecolor": "white",
            "showbackground": true,
            "ticks": "",
            "zerolinecolor": "white"
           },
           "yaxis": {
            "backgroundcolor": "#E5ECF6",
            "gridcolor": "white",
            "gridwidth": 2,
            "linecolor": "white",
            "showbackground": true,
            "ticks": "",
            "zerolinecolor": "white"
           },
           "zaxis": {
            "backgroundcolor": "#E5ECF6",
            "gridcolor": "white",
            "gridwidth": 2,
            "linecolor": "white",
            "showbackground": true,
            "ticks": "",
            "zerolinecolor": "white"
           }
          },
          "shapedefaults": {
           "line": {
            "color": "#2a3f5f"
           }
          },
          "ternary": {
           "aaxis": {
            "gridcolor": "white",
            "linecolor": "white",
            "ticks": ""
           },
           "baxis": {
            "gridcolor": "white",
            "linecolor": "white",
            "ticks": ""
           },
           "bgcolor": "#E5ECF6",
           "caxis": {
            "gridcolor": "white",
            "linecolor": "white",
            "ticks": ""
           }
          },
          "title": {
           "x": 0.05
          },
          "xaxis": {
           "automargin": true,
           "gridcolor": "white",
           "linecolor": "white",
           "ticks": "",
           "title": {
            "standoff": 15
           },
           "zerolinecolor": "white",
           "zerolinewidth": 2
          },
          "yaxis": {
           "automargin": true,
           "gridcolor": "white",
           "linecolor": "white",
           "ticks": "",
           "title": {
            "standoff": 15
           },
           "zerolinecolor": "white",
           "zerolinewidth": 2
          }
         }
        },
        "title": {
         "text": "UF9 f2"
        }
       }
      }
     },
     "metadata": {},
     "output_type": "display_data"
    },
    {
     "name": "stdout",
     "output_type": "stream",
     "text": [
      "10 0\n"
     ]
    },
    {
     "data": {
      "application/vnd.plotly.v1+json": {
       "config": {
        "plotlyServerURL": "https://plot.ly"
       },
       "data": [
        {
         "dimensions": [
          {
           "range": [
            0,
            1
           ],
           "values": [
            0,
            0,
            0,
            0,
            0,
            0,
            0,
            0,
            0,
            0,
            0.1111111111111111,
            0.1111111111111111,
            0.1111111111111111,
            0.1111111111111111,
            0.1111111111111111,
            0.1111111111111111,
            0.1111111111111111,
            0.1111111111111111,
            0.1111111111111111,
            0.1111111111111111,
            0.2222222222222222,
            0.2222222222222222,
            0.2222222222222222,
            0.2222222222222222,
            0.2222222222222222,
            0.2222222222222222,
            0.2222222222222222,
            0.2222222222222222,
            0.2222222222222222,
            0.2222222222222222,
            0.3333333333333333,
            0.3333333333333333,
            0.3333333333333333,
            0.3333333333333333,
            0.3333333333333333,
            0.3333333333333333,
            0.3333333333333333,
            0.3333333333333333,
            0.3333333333333333,
            0.3333333333333333,
            0.4444444444444444,
            0.4444444444444444,
            0.4444444444444444,
            0.4444444444444444,
            0.4444444444444444,
            0.4444444444444444,
            0.4444444444444444,
            0.4444444444444444,
            0.4444444444444444,
            0.4444444444444444,
            0.5555555555555556,
            0.5555555555555556,
            0.5555555555555556,
            0.5555555555555556,
            0.5555555555555556,
            0.5555555555555556,
            0.5555555555555556,
            0.5555555555555556,
            0.5555555555555556,
            0.5555555555555556,
            0.6666666666666666,
            0.6666666666666666,
            0.6666666666666666,
            0.6666666666666666,
            0.6666666666666666,
            0.6666666666666666,
            0.6666666666666666,
            0.6666666666666666,
            0.6666666666666666,
            0.6666666666666666,
            0.7777777777777777,
            0.7777777777777777,
            0.7777777777777777,
            0.7777777777777777,
            0.7777777777777777,
            0.7777777777777777,
            0.7777777777777777,
            0.7777777777777777,
            0.7777777777777777,
            0.7777777777777777,
            0.8888888888888888,
            0.8888888888888888,
            0.8888888888888888,
            0.8888888888888888,
            0.8888888888888888,
            0.8888888888888888,
            0.8888888888888888,
            0.8888888888888888,
            0.8888888888888888,
            0.8888888888888888,
            1,
            1,
            1,
            1,
            1,
            1,
            1,
            1,
            1,
            1
           ]
          },
          {
           "range": [
            0,
            1
           ],
           "values": [
            0,
            0.1111111111111111,
            0.2222222222222222,
            0.3333333333333333,
            0.4444444444444444,
            0.5555555555555556,
            0.6666666666666666,
            0.7777777777777777,
            0.8888888888888888,
            1,
            0,
            0.1111111111111111,
            0.2222222222222222,
            0.3333333333333333,
            0.4444444444444444,
            0.5555555555555556,
            0.6666666666666666,
            0.7777777777777777,
            0.8888888888888888,
            1,
            0,
            0.1111111111111111,
            0.2222222222222222,
            0.3333333333333333,
            0.4444444444444444,
            0.5555555555555556,
            0.6666666666666666,
            0.7777777777777777,
            0.8888888888888888,
            1,
            0,
            0.1111111111111111,
            0.2222222222222222,
            0.3333333333333333,
            0.4444444444444444,
            0.5555555555555556,
            0.6666666666666666,
            0.7777777777777777,
            0.8888888888888888,
            1,
            0,
            0.1111111111111111,
            0.2222222222222222,
            0.3333333333333333,
            0.4444444444444444,
            0.5555555555555556,
            0.6666666666666666,
            0.7777777777777777,
            0.8888888888888888,
            1,
            0,
            0.1111111111111111,
            0.2222222222222222,
            0.3333333333333333,
            0.4444444444444444,
            0.5555555555555556,
            0.6666666666666666,
            0.7777777777777777,
            0.8888888888888888,
            1,
            0,
            0.1111111111111111,
            0.2222222222222222,
            0.3333333333333333,
            0.4444444444444444,
            0.5555555555555556,
            0.6666666666666666,
            0.7777777777777777,
            0.8888888888888888,
            1,
            0,
            0.1111111111111111,
            0.2222222222222222,
            0.3333333333333333,
            0.4444444444444444,
            0.5555555555555556,
            0.6666666666666666,
            0.7777777777777777,
            0.8888888888888888,
            1,
            0,
            0.1111111111111111,
            0.2222222222222222,
            0.3333333333333333,
            0.4444444444444444,
            0.5555555555555556,
            0.6666666666666666,
            0.7777777777777777,
            0.8888888888888888,
            1,
            0,
            0.1111111111111111,
            0.2222222222222222,
            0.3333333333333333,
            0.4444444444444444,
            0.5555555555555556,
            0.6666666666666666,
            0.7777777777777777,
            0.8888888888888888,
            1
           ]
          },
          {
           "range": [
            -2,
            2
           ],
           "values": [
            0,
            0.21134589251003413,
            0.42269178502006827,
            0.6340376775301024,
            0.8453835700401365,
            1.0567294625501709,
            1.2680753550602049,
            1.4794212475702389,
            1.690767140080273,
            1.9021130325903073,
            0,
            0.11775983649626777,
            0.23551967299253554,
            0.3532795094888033,
            0.4710393459850711,
            0.5887991824813389,
            0.7065590189776066,
            0.8243188554738744,
            0.9420786919701422,
            1.05983852846641,
            0,
            -0.030927355768903448,
            -0.061854711537806896,
            -0.09278206730671035,
            -0.12370942307561379,
            -0.15463677884451726,
            -0.1855641346134207,
            -0.21649149038232413,
            -0.24741884615122758,
            -0.27834620192013104,
            0,
            -0.165143294550532,
            -0.330286589101064,
            -0.495429883651596,
            -0.660573178202128,
            -0.82571647275266,
            -0.990859767303192,
            -1.1560030618537238,
            -1.321146356404256,
            -1.486289650954788,
            0,
            -0.22208685044868792,
            -0.44417370089737584,
            -0.6662605513460638,
            -0.8883474017947517,
            -1.1104342522434398,
            -1.3325211026921275,
            -1.5546079531408155,
            -1.7766948035895034,
            -1.9987816540381915,
            0,
            -0.17511350080149385,
            -0.3502270016029877,
            -0.5253405024044815,
            -0.7004540032059754,
            -0.8755675040074693,
            -1.050681004808963,
            -1.2257945056104569,
            -1.4009080064119508,
            -1.5760215072134447,
            0,
            -0.04620259795950219,
            -0.09240519591900438,
            -0.13860779387850658,
            -0.18481039183800876,
            -0.23101298979751098,
            -0.27721558775701316,
            -0.3234181857165153,
            -0.36962078367601753,
            -0.41582338163551974,
            0,
            0.10432701395242007,
            0.20865402790484014,
            0.3129810418572602,
            0.4173080558096803,
            0.5216350697621004,
            0.6259620837145204,
            0.7302890976669405,
            0.8346161116193606,
            0.9389431255717807,
            0,
            0.20604085657039714,
            0.4120817131407943,
            0.6181225697111914,
            0.8241634262815886,
            1.0302042828519857,
            1.2362451394223828,
            1.4422859959927798,
            1.6483268525631771,
            1.8543677091335744,
            0,
            0.21134589251003413,
            0.42269178502006827,
            0.6340376775301024,
            0.8453835700401365,
            1.0567294625501709,
            1.2680753550602049,
            1.4794212475702389,
            1.690767140080273,
            1.9021130325903073
           ]
          },
          {
           "range": [
            -2,
            2
           ],
           "values": [
            0,
            0.13061894495388293,
            0.26123788990776586,
            0.3918568348616488,
            0.5224757798155317,
            0.6530947247694148,
            0.7837136697232976,
            0.9143326146771805,
            1.0449515596310635,
            1.1755705045849465,
            0,
            -0.015501438609805615,
            -0.03100287721961123,
            -0.046504315829416845,
            -0.06200575443922246,
            -0.07750719304902809,
            -0.09300863165883369,
            -0.1085100702686393,
            -0.12401150887844492,
            -0.13951294748825055,
            0,
            -0.15436852676866608,
            -0.30873705353733216,
            -0.46310558030599824,
            -0.6174741070746643,
            -0.7718426338433304,
            -0.9262111606119965,
            -1.0805796873806623,
            -1.2349482141493286,
            -1.3893167409179947,
            0,
            -0.22100486563739405,
            -0.4420097312747881,
            -0.6630145969121821,
            -0.8840194625495762,
            -1.1050243281869703,
            -1.3260291938243642,
            -1.5470340594617582,
            -1.7680389250991524,
            -1.9890437907365466,
            0,
            -0.18423057167889814,
            -0.3684611433577963,
            -0.5526917150366943,
            -0.7369222867155926,
            -0.9211528583944907,
            -1.1053834300733887,
            -1.2896140017522868,
            -1.4738445734311851,
            -1.6580751451100832,
            0,
            -0.06125274573711106,
            -0.12250549147422211,
            -0.18375823721133316,
            -0.24501098294844423,
            -0.3062637286855553,
            -0.36751647442266633,
            -0.42876922015977736,
            -0.49002196589688846,
            -0.5512747116339995,
            0,
            0.09038592068351105,
            0.1807718413670221,
            0.2711577620505331,
            0.3615436827340442,
            0.4519296034175552,
            0.5423155241010662,
            0.6327014447845772,
            0.7230873654680884,
            0.8134732861515994,
            0,
            0.19973201028870372,
            0.39946402057740743,
            0.5991960308661112,
            0.7989280411548149,
            0.9986600514435188,
            1.1983920617322223,
            1.398124072020926,
            1.5978560823096297,
            1.7975880925983336,
            0,
            0.21562127250577695,
            0.4312425450115539,
            0.6468638175173309,
            0.8624850900231078,
            1.078106362528885,
            1.2937276350346618,
            1.5093489075404385,
            1.7249701800462156,
            1.9405914525519927,
            0,
            0.13061894495388296,
            0.2612378899077659,
            0.3918568348616489,
            0.5224757798155318,
            0.6530947247694149,
            0.7837136697232978,
            0.9143326146771806,
            1.0449515596310637,
            1.1755705045849467
           ]
          },
          {
           "range": [
            -2,
            2
           ],
           "values": [
            0,
            2.7214373314385625e-17,
            5.442874662877125e-17,
            8.164311994315688e-17,
            1.088574932575425e-16,
            1.3607186657192814e-16,
            1.6328623988631375e-16,
            1.9050061320069937e-16,
            2.17714986515085e-16,
            2.4492935982947064e-16,
            0,
            -0.14284169104145317,
            -0.28568338208290633,
            -0.4285250731243595,
            -0.5713667641658127,
            -0.7142084552072658,
            -0.857050146248719,
            -0.9998918372901721,
            -1.1427335283316253,
            -1.2855752193730785,
            0,
            -0.21884616733604623,
            -0.43769233467209245,
            -0.6565385020081387,
            -0.8753846693441849,
            -1.0942308366802311,
            -1.3130770040162774,
            -1.5319231713523234,
            -1.7507693386883698,
            -1.969615506024416,
            0,
            -0.19245008972987535,
            -0.3849001794597507,
            -0.577350269189626,
            -0.7698003589195014,
            -0.9622504486493767,
            -1.154700538379252,
            -1.3471506281091272,
            -1.5396007178390028,
            -1.732050807568878,
            0,
            -0.07600447629459302,
            -0.15200895258918604,
            -0.22801342888377907,
            -0.30401790517837207,
            -0.38002238147296513,
            -0.45602685776755814,
            -0.5320313340621511,
            -0.6080358103567441,
            -0.6840402866513372,
            0,
            0.07600447629459291,
            0.15200895258918581,
            0.22801342888377873,
            0.30401790517837163,
            0.3800223814729646,
            0.45602685776755747,
            0.5320313340621503,
            0.6080358103567433,
            0.6840402866513362,
            0,
            0.19245008972987518,
            0.38490017945975036,
            0.5773502691896255,
            0.7698003589195007,
            0.962250448649376,
            1.154700538379251,
            1.3471506281091261,
            1.5396007178390014,
            1.7320508075688767,
            0,
            0.21884616733604623,
            0.43769233467209245,
            0.6565385020081387,
            0.8753846693441849,
            1.0942308366802314,
            1.3130770040162774,
            1.5319231713523236,
            1.7507693386883698,
            1.9696155060244163,
            0,
            0.1428416910414531,
            0.2856833820829062,
            0.42852507312435933,
            0.5713667641658124,
            0.7142084552072656,
            0.8570501462487187,
            0.9998918372901717,
            1.142733528331625,
            1.285575219373078,
            0,
            8.164311994315688e-17,
            1.6328623988631375e-16,
            2.449293598294706e-16,
            3.265724797726275e-16,
            4.0821559971578437e-16,
            4.898587196589412e-16,
            5.71501839602098e-16,
            6.53144959545255e-16,
            7.347880794884119e-16
           ]
          }
         ],
         "line": {
          "cmax": 1,
          "cmin": 3.749399456654644e-33,
          "color": [
           1,
           0.984807753012208,
           0.9396926207859084,
           0.8660254037844387,
           0.766044443118978,
           0.6427876096865394,
           0.5000000000000001,
           0.3420201433256688,
           0.17364817766693041,
           6.123233995736766e-17,
           0.984807753012208,
           0.9698463103929541,
           0.9254165783983234,
           0.8528685319524433,
           0.7544065067354889,
           0.6330222215594891,
           0.4924038765061041,
           0.33682408883346526,
           0.1710100716628344,
           6.030208312509488e-17,
           0.9396926207859084,
           0.9254165783983234,
           0.8830222215594891,
           0.8137976813493738,
           0.7198463103929542,
           0.6040227735550537,
           0.4698463103929543,
           0.32139380484326974,
           0.1631759111665349,
           5.753957801139251e-17,
           0.8660254037844387,
           0.8528685319524433,
           0.8137976813493738,
           0.7500000000000001,
           0.6634139481689384,
           0.5566703992264195,
           0.43301270189221946,
           0.29619813272602397,
           0.15038373318043535,
           5.3028761936245346e-17,
           0.766044443118978,
           0.7544065067354889,
           0.7198463103929542,
           0.6634139481689384,
           0.5868240888334652,
           0.49240387650610407,
           0.3830222215594891,
           0.262002630229385,
           0.13302222155948906,
           4.6906693763513654e-17,
           0.6427876096865394,
           0.6330222215594891,
           0.6040227735550537,
           0.5566703992264195,
           0.49240387650610407,
           0.41317591116653485,
           0.32139380484326974,
           0.21984631039295427,
           0.11161889704894971,
           3.935938943670993e-17,
           0.5000000000000001,
           0.4924038765061041,
           0.4698463103929543,
           0.43301270189221946,
           0.3830222215594891,
           0.32139380484326974,
           0.2500000000000001,
           0.17101007166283444,
           0.08682408883346522,
           3.0616169978683836e-17,
           0.3420201433256688,
           0.33682408883346526,
           0.32139380484326974,
           0.29619813272602397,
           0.262002630229385,
           0.21984631039295427,
           0.17101007166283444,
           0.11697777844051105,
           0.05939117461388475,
           2.0942693688384965e-17,
           0.17364817766693041,
           0.1710100716628344,
           0.1631759111665349,
           0.15038373318043535,
           0.13302222155948906,
           0.11161889704894971,
           0.08682408883346522,
           0.05939117461388475,
           0.03015368960704583,
           1.0632884247878861e-17,
           6.123233995736766e-17,
           6.030208312509488e-17,
           5.753957801139251e-17,
           5.3028761936245346e-17,
           4.6906693763513654e-17,
           3.935938943670993e-17,
           3.0616169978683836e-17,
           2.0942693688384965e-17,
           1.0632884247878861e-17,
           3.749399456654644e-33
          ],
          "colorbar": {
           "title": {
            "text": "f1"
           }
          },
          "colorscale": [
           [
            0,
            "rgb(247,251,255)"
           ],
           [
            0.125,
            "rgb(222,235,247)"
           ],
           [
            0.25,
            "rgb(198,219,239)"
           ],
           [
            0.375,
            "rgb(158,202,225)"
           ],
           [
            0.5,
            "rgb(107,174,214)"
           ],
           [
            0.625,
            "rgb(66,146,198)"
           ],
           [
            0.75,
            "rgb(33,113,181)"
           ],
           [
            0.875,
            "rgb(8,81,156)"
           ],
           [
            1,
            "rgb(8,48,107)"
           ]
          ]
         },
         "type": "parcoords"
        }
       ],
       "layout": {
        "template": {
         "data": {
          "bar": [
           {
            "error_x": {
             "color": "#2a3f5f"
            },
            "error_y": {
             "color": "#2a3f5f"
            },
            "marker": {
             "line": {
              "color": "#E5ECF6",
              "width": 0.5
             },
             "pattern": {
              "fillmode": "overlay",
              "size": 10,
              "solidity": 0.2
             }
            },
            "type": "bar"
           }
          ],
          "barpolar": [
           {
            "marker": {
             "line": {
              "color": "#E5ECF6",
              "width": 0.5
             },
             "pattern": {
              "fillmode": "overlay",
              "size": 10,
              "solidity": 0.2
             }
            },
            "type": "barpolar"
           }
          ],
          "carpet": [
           {
            "aaxis": {
             "endlinecolor": "#2a3f5f",
             "gridcolor": "white",
             "linecolor": "white",
             "minorgridcolor": "white",
             "startlinecolor": "#2a3f5f"
            },
            "baxis": {
             "endlinecolor": "#2a3f5f",
             "gridcolor": "white",
             "linecolor": "white",
             "minorgridcolor": "white",
             "startlinecolor": "#2a3f5f"
            },
            "type": "carpet"
           }
          ],
          "choropleth": [
           {
            "colorbar": {
             "outlinewidth": 0,
             "ticks": ""
            },
            "type": "choropleth"
           }
          ],
          "contour": [
           {
            "colorbar": {
             "outlinewidth": 0,
             "ticks": ""
            },
            "colorscale": [
             [
              0,
              "#0d0887"
             ],
             [
              0.1111111111111111,
              "#46039f"
             ],
             [
              0.2222222222222222,
              "#7201a8"
             ],
             [
              0.3333333333333333,
              "#9c179e"
             ],
             [
              0.4444444444444444,
              "#bd3786"
             ],
             [
              0.5555555555555556,
              "#d8576b"
             ],
             [
              0.6666666666666666,
              "#ed7953"
             ],
             [
              0.7777777777777778,
              "#fb9f3a"
             ],
             [
              0.8888888888888888,
              "#fdca26"
             ],
             [
              1,
              "#f0f921"
             ]
            ],
            "type": "contour"
           }
          ],
          "contourcarpet": [
           {
            "colorbar": {
             "outlinewidth": 0,
             "ticks": ""
            },
            "type": "contourcarpet"
           }
          ],
          "heatmap": [
           {
            "colorbar": {
             "outlinewidth": 0,
             "ticks": ""
            },
            "colorscale": [
             [
              0,
              "#0d0887"
             ],
             [
              0.1111111111111111,
              "#46039f"
             ],
             [
              0.2222222222222222,
              "#7201a8"
             ],
             [
              0.3333333333333333,
              "#9c179e"
             ],
             [
              0.4444444444444444,
              "#bd3786"
             ],
             [
              0.5555555555555556,
              "#d8576b"
             ],
             [
              0.6666666666666666,
              "#ed7953"
             ],
             [
              0.7777777777777778,
              "#fb9f3a"
             ],
             [
              0.8888888888888888,
              "#fdca26"
             ],
             [
              1,
              "#f0f921"
             ]
            ],
            "type": "heatmap"
           }
          ],
          "heatmapgl": [
           {
            "colorbar": {
             "outlinewidth": 0,
             "ticks": ""
            },
            "colorscale": [
             [
              0,
              "#0d0887"
             ],
             [
              0.1111111111111111,
              "#46039f"
             ],
             [
              0.2222222222222222,
              "#7201a8"
             ],
             [
              0.3333333333333333,
              "#9c179e"
             ],
             [
              0.4444444444444444,
              "#bd3786"
             ],
             [
              0.5555555555555556,
              "#d8576b"
             ],
             [
              0.6666666666666666,
              "#ed7953"
             ],
             [
              0.7777777777777778,
              "#fb9f3a"
             ],
             [
              0.8888888888888888,
              "#fdca26"
             ],
             [
              1,
              "#f0f921"
             ]
            ],
            "type": "heatmapgl"
           }
          ],
          "histogram": [
           {
            "marker": {
             "pattern": {
              "fillmode": "overlay",
              "size": 10,
              "solidity": 0.2
             }
            },
            "type": "histogram"
           }
          ],
          "histogram2d": [
           {
            "colorbar": {
             "outlinewidth": 0,
             "ticks": ""
            },
            "colorscale": [
             [
              0,
              "#0d0887"
             ],
             [
              0.1111111111111111,
              "#46039f"
             ],
             [
              0.2222222222222222,
              "#7201a8"
             ],
             [
              0.3333333333333333,
              "#9c179e"
             ],
             [
              0.4444444444444444,
              "#bd3786"
             ],
             [
              0.5555555555555556,
              "#d8576b"
             ],
             [
              0.6666666666666666,
              "#ed7953"
             ],
             [
              0.7777777777777778,
              "#fb9f3a"
             ],
             [
              0.8888888888888888,
              "#fdca26"
             ],
             [
              1,
              "#f0f921"
             ]
            ],
            "type": "histogram2d"
           }
          ],
          "histogram2dcontour": [
           {
            "colorbar": {
             "outlinewidth": 0,
             "ticks": ""
            },
            "colorscale": [
             [
              0,
              "#0d0887"
             ],
             [
              0.1111111111111111,
              "#46039f"
             ],
             [
              0.2222222222222222,
              "#7201a8"
             ],
             [
              0.3333333333333333,
              "#9c179e"
             ],
             [
              0.4444444444444444,
              "#bd3786"
             ],
             [
              0.5555555555555556,
              "#d8576b"
             ],
             [
              0.6666666666666666,
              "#ed7953"
             ],
             [
              0.7777777777777778,
              "#fb9f3a"
             ],
             [
              0.8888888888888888,
              "#fdca26"
             ],
             [
              1,
              "#f0f921"
             ]
            ],
            "type": "histogram2dcontour"
           }
          ],
          "mesh3d": [
           {
            "colorbar": {
             "outlinewidth": 0,
             "ticks": ""
            },
            "type": "mesh3d"
           }
          ],
          "parcoords": [
           {
            "line": {
             "colorbar": {
              "outlinewidth": 0,
              "ticks": ""
             }
            },
            "type": "parcoords"
           }
          ],
          "pie": [
           {
            "automargin": true,
            "type": "pie"
           }
          ],
          "scatter": [
           {
            "fillpattern": {
             "fillmode": "overlay",
             "size": 10,
             "solidity": 0.2
            },
            "type": "scatter"
           }
          ],
          "scatter3d": [
           {
            "line": {
             "colorbar": {
              "outlinewidth": 0,
              "ticks": ""
             }
            },
            "marker": {
             "colorbar": {
              "outlinewidth": 0,
              "ticks": ""
             }
            },
            "type": "scatter3d"
           }
          ],
          "scattercarpet": [
           {
            "marker": {
             "colorbar": {
              "outlinewidth": 0,
              "ticks": ""
             }
            },
            "type": "scattercarpet"
           }
          ],
          "scattergeo": [
           {
            "marker": {
             "colorbar": {
              "outlinewidth": 0,
              "ticks": ""
             }
            },
            "type": "scattergeo"
           }
          ],
          "scattergl": [
           {
            "marker": {
             "colorbar": {
              "outlinewidth": 0,
              "ticks": ""
             }
            },
            "type": "scattergl"
           }
          ],
          "scattermapbox": [
           {
            "marker": {
             "colorbar": {
              "outlinewidth": 0,
              "ticks": ""
             }
            },
            "type": "scattermapbox"
           }
          ],
          "scatterpolar": [
           {
            "marker": {
             "colorbar": {
              "outlinewidth": 0,
              "ticks": ""
             }
            },
            "type": "scatterpolar"
           }
          ],
          "scatterpolargl": [
           {
            "marker": {
             "colorbar": {
              "outlinewidth": 0,
              "ticks": ""
             }
            },
            "type": "scatterpolargl"
           }
          ],
          "scatterternary": [
           {
            "marker": {
             "colorbar": {
              "outlinewidth": 0,
              "ticks": ""
             }
            },
            "type": "scatterternary"
           }
          ],
          "surface": [
           {
            "colorbar": {
             "outlinewidth": 0,
             "ticks": ""
            },
            "colorscale": [
             [
              0,
              "#0d0887"
             ],
             [
              0.1111111111111111,
              "#46039f"
             ],
             [
              0.2222222222222222,
              "#7201a8"
             ],
             [
              0.3333333333333333,
              "#9c179e"
             ],
             [
              0.4444444444444444,
              "#bd3786"
             ],
             [
              0.5555555555555556,
              "#d8576b"
             ],
             [
              0.6666666666666666,
              "#ed7953"
             ],
             [
              0.7777777777777778,
              "#fb9f3a"
             ],
             [
              0.8888888888888888,
              "#fdca26"
             ],
             [
              1,
              "#f0f921"
             ]
            ],
            "type": "surface"
           }
          ],
          "table": [
           {
            "cells": {
             "fill": {
              "color": "#EBF0F8"
             },
             "line": {
              "color": "white"
             }
            },
            "header": {
             "fill": {
              "color": "#C8D4E3"
             },
             "line": {
              "color": "white"
             }
            },
            "type": "table"
           }
          ]
         },
         "layout": {
          "annotationdefaults": {
           "arrowcolor": "#2a3f5f",
           "arrowhead": 0,
           "arrowwidth": 1
          },
          "autotypenumbers": "strict",
          "coloraxis": {
           "colorbar": {
            "outlinewidth": 0,
            "ticks": ""
           }
          },
          "colorscale": {
           "diverging": [
            [
             0,
             "#8e0152"
            ],
            [
             0.1,
             "#c51b7d"
            ],
            [
             0.2,
             "#de77ae"
            ],
            [
             0.3,
             "#f1b6da"
            ],
            [
             0.4,
             "#fde0ef"
            ],
            [
             0.5,
             "#f7f7f7"
            ],
            [
             0.6,
             "#e6f5d0"
            ],
            [
             0.7,
             "#b8e186"
            ],
            [
             0.8,
             "#7fbc41"
            ],
            [
             0.9,
             "#4d9221"
            ],
            [
             1,
             "#276419"
            ]
           ],
           "sequential": [
            [
             0,
             "#0d0887"
            ],
            [
             0.1111111111111111,
             "#46039f"
            ],
            [
             0.2222222222222222,
             "#7201a8"
            ],
            [
             0.3333333333333333,
             "#9c179e"
            ],
            [
             0.4444444444444444,
             "#bd3786"
            ],
            [
             0.5555555555555556,
             "#d8576b"
            ],
            [
             0.6666666666666666,
             "#ed7953"
            ],
            [
             0.7777777777777778,
             "#fb9f3a"
            ],
            [
             0.8888888888888888,
             "#fdca26"
            ],
            [
             1,
             "#f0f921"
            ]
           ],
           "sequentialminus": [
            [
             0,
             "#0d0887"
            ],
            [
             0.1111111111111111,
             "#46039f"
            ],
            [
             0.2222222222222222,
             "#7201a8"
            ],
            [
             0.3333333333333333,
             "#9c179e"
            ],
            [
             0.4444444444444444,
             "#bd3786"
            ],
            [
             0.5555555555555556,
             "#d8576b"
            ],
            [
             0.6666666666666666,
             "#ed7953"
            ],
            [
             0.7777777777777778,
             "#fb9f3a"
            ],
            [
             0.8888888888888888,
             "#fdca26"
            ],
            [
             1,
             "#f0f921"
            ]
           ]
          },
          "colorway": [
           "#636efa",
           "#EF553B",
           "#00cc96",
           "#ab63fa",
           "#FFA15A",
           "#19d3f3",
           "#FF6692",
           "#B6E880",
           "#FF97FF",
           "#FECB52"
          ],
          "font": {
           "color": "#2a3f5f"
          },
          "geo": {
           "bgcolor": "white",
           "lakecolor": "white",
           "landcolor": "#E5ECF6",
           "showlakes": true,
           "showland": true,
           "subunitcolor": "white"
          },
          "hoverlabel": {
           "align": "left"
          },
          "hovermode": "closest",
          "mapbox": {
           "style": "light"
          },
          "paper_bgcolor": "white",
          "plot_bgcolor": "#E5ECF6",
          "polar": {
           "angularaxis": {
            "gridcolor": "white",
            "linecolor": "white",
            "ticks": ""
           },
           "bgcolor": "#E5ECF6",
           "radialaxis": {
            "gridcolor": "white",
            "linecolor": "white",
            "ticks": ""
           }
          },
          "scene": {
           "xaxis": {
            "backgroundcolor": "#E5ECF6",
            "gridcolor": "white",
            "gridwidth": 2,
            "linecolor": "white",
            "showbackground": true,
            "ticks": "",
            "zerolinecolor": "white"
           },
           "yaxis": {
            "backgroundcolor": "#E5ECF6",
            "gridcolor": "white",
            "gridwidth": 2,
            "linecolor": "white",
            "showbackground": true,
            "ticks": "",
            "zerolinecolor": "white"
           },
           "zaxis": {
            "backgroundcolor": "#E5ECF6",
            "gridcolor": "white",
            "gridwidth": 2,
            "linecolor": "white",
            "showbackground": true,
            "ticks": "",
            "zerolinecolor": "white"
           }
          },
          "shapedefaults": {
           "line": {
            "color": "#2a3f5f"
           }
          },
          "ternary": {
           "aaxis": {
            "gridcolor": "white",
            "linecolor": "white",
            "ticks": ""
           },
           "baxis": {
            "gridcolor": "white",
            "linecolor": "white",
            "ticks": ""
           },
           "bgcolor": "#E5ECF6",
           "caxis": {
            "gridcolor": "white",
            "linecolor": "white",
            "ticks": ""
           }
          },
          "title": {
           "x": 0.05
          },
          "xaxis": {
           "automargin": true,
           "gridcolor": "white",
           "linecolor": "white",
           "ticks": "",
           "title": {
            "standoff": 15
           },
           "zerolinecolor": "white",
           "zerolinewidth": 2
          },
          "yaxis": {
           "automargin": true,
           "gridcolor": "white",
           "linecolor": "white",
           "ticks": "",
           "title": {
            "standoff": 15
           },
           "zerolinecolor": "white",
           "zerolinewidth": 2
          }
         }
        },
        "title": {
         "text": "UF10 f1"
        }
       }
      }
     },
     "metadata": {},
     "output_type": "display_data"
    },
    {
     "data": {
      "application/vnd.plotly.v1+json": {
       "config": {
        "plotlyServerURL": "https://plot.ly"
       },
       "data": [
        {
         "dimensions": [
          {
           "range": [
            0,
            1
           ],
           "values": [
            0,
            0,
            0,
            0,
            0,
            0,
            0,
            0,
            0,
            0,
            0.1111111111111111,
            0.1111111111111111,
            0.1111111111111111,
            0.1111111111111111,
            0.1111111111111111,
            0.1111111111111111,
            0.1111111111111111,
            0.1111111111111111,
            0.1111111111111111,
            0.1111111111111111,
            0.2222222222222222,
            0.2222222222222222,
            0.2222222222222222,
            0.2222222222222222,
            0.2222222222222222,
            0.2222222222222222,
            0.2222222222222222,
            0.2222222222222222,
            0.2222222222222222,
            0.2222222222222222,
            0.3333333333333333,
            0.3333333333333333,
            0.3333333333333333,
            0.3333333333333333,
            0.3333333333333333,
            0.3333333333333333,
            0.3333333333333333,
            0.3333333333333333,
            0.3333333333333333,
            0.3333333333333333,
            0.4444444444444444,
            0.4444444444444444,
            0.4444444444444444,
            0.4444444444444444,
            0.4444444444444444,
            0.4444444444444444,
            0.4444444444444444,
            0.4444444444444444,
            0.4444444444444444,
            0.4444444444444444,
            0.5555555555555556,
            0.5555555555555556,
            0.5555555555555556,
            0.5555555555555556,
            0.5555555555555556,
            0.5555555555555556,
            0.5555555555555556,
            0.5555555555555556,
            0.5555555555555556,
            0.5555555555555556,
            0.6666666666666666,
            0.6666666666666666,
            0.6666666666666666,
            0.6666666666666666,
            0.6666666666666666,
            0.6666666666666666,
            0.6666666666666666,
            0.6666666666666666,
            0.6666666666666666,
            0.6666666666666666,
            0.7777777777777777,
            0.7777777777777777,
            0.7777777777777777,
            0.7777777777777777,
            0.7777777777777777,
            0.7777777777777777,
            0.7777777777777777,
            0.7777777777777777,
            0.7777777777777777,
            0.7777777777777777,
            0.8888888888888888,
            0.8888888888888888,
            0.8888888888888888,
            0.8888888888888888,
            0.8888888888888888,
            0.8888888888888888,
            0.8888888888888888,
            0.8888888888888888,
            0.8888888888888888,
            0.8888888888888888,
            1,
            1,
            1,
            1,
            1,
            1,
            1,
            1,
            1,
            1
           ]
          },
          {
           "range": [
            0,
            1
           ],
           "values": [
            0,
            0.1111111111111111,
            0.2222222222222222,
            0.3333333333333333,
            0.4444444444444444,
            0.5555555555555556,
            0.6666666666666666,
            0.7777777777777777,
            0.8888888888888888,
            1,
            0,
            0.1111111111111111,
            0.2222222222222222,
            0.3333333333333333,
            0.4444444444444444,
            0.5555555555555556,
            0.6666666666666666,
            0.7777777777777777,
            0.8888888888888888,
            1,
            0,
            0.1111111111111111,
            0.2222222222222222,
            0.3333333333333333,
            0.4444444444444444,
            0.5555555555555556,
            0.6666666666666666,
            0.7777777777777777,
            0.8888888888888888,
            1,
            0,
            0.1111111111111111,
            0.2222222222222222,
            0.3333333333333333,
            0.4444444444444444,
            0.5555555555555556,
            0.6666666666666666,
            0.7777777777777777,
            0.8888888888888888,
            1,
            0,
            0.1111111111111111,
            0.2222222222222222,
            0.3333333333333333,
            0.4444444444444444,
            0.5555555555555556,
            0.6666666666666666,
            0.7777777777777777,
            0.8888888888888888,
            1,
            0,
            0.1111111111111111,
            0.2222222222222222,
            0.3333333333333333,
            0.4444444444444444,
            0.5555555555555556,
            0.6666666666666666,
            0.7777777777777777,
            0.8888888888888888,
            1,
            0,
            0.1111111111111111,
            0.2222222222222222,
            0.3333333333333333,
            0.4444444444444444,
            0.5555555555555556,
            0.6666666666666666,
            0.7777777777777777,
            0.8888888888888888,
            1,
            0,
            0.1111111111111111,
            0.2222222222222222,
            0.3333333333333333,
            0.4444444444444444,
            0.5555555555555556,
            0.6666666666666666,
            0.7777777777777777,
            0.8888888888888888,
            1,
            0,
            0.1111111111111111,
            0.2222222222222222,
            0.3333333333333333,
            0.4444444444444444,
            0.5555555555555556,
            0.6666666666666666,
            0.7777777777777777,
            0.8888888888888888,
            1,
            0,
            0.1111111111111111,
            0.2222222222222222,
            0.3333333333333333,
            0.4444444444444444,
            0.5555555555555556,
            0.6666666666666666,
            0.7777777777777777,
            0.8888888888888888,
            1
           ]
          },
          {
           "range": [
            -2,
            2
           ],
           "values": [
            0,
            0.21134589251003413,
            0.42269178502006827,
            0.6340376775301024,
            0.8453835700401365,
            1.0567294625501709,
            1.2680753550602049,
            1.4794212475702389,
            1.690767140080273,
            1.9021130325903073,
            0,
            0.11775983649626777,
            0.23551967299253554,
            0.3532795094888033,
            0.4710393459850711,
            0.5887991824813389,
            0.7065590189776066,
            0.8243188554738744,
            0.9420786919701422,
            1.05983852846641,
            0,
            -0.030927355768903448,
            -0.061854711537806896,
            -0.09278206730671035,
            -0.12370942307561379,
            -0.15463677884451726,
            -0.1855641346134207,
            -0.21649149038232413,
            -0.24741884615122758,
            -0.27834620192013104,
            0,
            -0.165143294550532,
            -0.330286589101064,
            -0.495429883651596,
            -0.660573178202128,
            -0.82571647275266,
            -0.990859767303192,
            -1.1560030618537238,
            -1.321146356404256,
            -1.486289650954788,
            0,
            -0.22208685044868792,
            -0.44417370089737584,
            -0.6662605513460638,
            -0.8883474017947517,
            -1.1104342522434398,
            -1.3325211026921275,
            -1.5546079531408155,
            -1.7766948035895034,
            -1.9987816540381915,
            0,
            -0.17511350080149385,
            -0.3502270016029877,
            -0.5253405024044815,
            -0.7004540032059754,
            -0.8755675040074693,
            -1.050681004808963,
            -1.2257945056104569,
            -1.4009080064119508,
            -1.5760215072134447,
            0,
            -0.04620259795950219,
            -0.09240519591900438,
            -0.13860779387850658,
            -0.18481039183800876,
            -0.23101298979751098,
            -0.27721558775701316,
            -0.3234181857165153,
            -0.36962078367601753,
            -0.41582338163551974,
            0,
            0.10432701395242007,
            0.20865402790484014,
            0.3129810418572602,
            0.4173080558096803,
            0.5216350697621004,
            0.6259620837145204,
            0.7302890976669405,
            0.8346161116193606,
            0.9389431255717807,
            0,
            0.20604085657039714,
            0.4120817131407943,
            0.6181225697111914,
            0.8241634262815886,
            1.0302042828519857,
            1.2362451394223828,
            1.4422859959927798,
            1.6483268525631771,
            1.8543677091335744,
            0,
            0.21134589251003413,
            0.42269178502006827,
            0.6340376775301024,
            0.8453835700401365,
            1.0567294625501709,
            1.2680753550602049,
            1.4794212475702389,
            1.690767140080273,
            1.9021130325903073
           ]
          },
          {
           "range": [
            -2,
            2
           ],
           "values": [
            0,
            0.13061894495388293,
            0.26123788990776586,
            0.3918568348616488,
            0.5224757798155317,
            0.6530947247694148,
            0.7837136697232976,
            0.9143326146771805,
            1.0449515596310635,
            1.1755705045849465,
            0,
            -0.015501438609805615,
            -0.03100287721961123,
            -0.046504315829416845,
            -0.06200575443922246,
            -0.07750719304902809,
            -0.09300863165883369,
            -0.1085100702686393,
            -0.12401150887844492,
            -0.13951294748825055,
            0,
            -0.15436852676866608,
            -0.30873705353733216,
            -0.46310558030599824,
            -0.6174741070746643,
            -0.7718426338433304,
            -0.9262111606119965,
            -1.0805796873806623,
            -1.2349482141493286,
            -1.3893167409179947,
            0,
            -0.22100486563739405,
            -0.4420097312747881,
            -0.6630145969121821,
            -0.8840194625495762,
            -1.1050243281869703,
            -1.3260291938243642,
            -1.5470340594617582,
            -1.7680389250991524,
            -1.9890437907365466,
            0,
            -0.18423057167889814,
            -0.3684611433577963,
            -0.5526917150366943,
            -0.7369222867155926,
            -0.9211528583944907,
            -1.1053834300733887,
            -1.2896140017522868,
            -1.4738445734311851,
            -1.6580751451100832,
            0,
            -0.06125274573711106,
            -0.12250549147422211,
            -0.18375823721133316,
            -0.24501098294844423,
            -0.3062637286855553,
            -0.36751647442266633,
            -0.42876922015977736,
            -0.49002196589688846,
            -0.5512747116339995,
            0,
            0.09038592068351105,
            0.1807718413670221,
            0.2711577620505331,
            0.3615436827340442,
            0.4519296034175552,
            0.5423155241010662,
            0.6327014447845772,
            0.7230873654680884,
            0.8134732861515994,
            0,
            0.19973201028870372,
            0.39946402057740743,
            0.5991960308661112,
            0.7989280411548149,
            0.9986600514435188,
            1.1983920617322223,
            1.398124072020926,
            1.5978560823096297,
            1.7975880925983336,
            0,
            0.21562127250577695,
            0.4312425450115539,
            0.6468638175173309,
            0.8624850900231078,
            1.078106362528885,
            1.2937276350346618,
            1.5093489075404385,
            1.7249701800462156,
            1.9405914525519927,
            0,
            0.13061894495388296,
            0.2612378899077659,
            0.3918568348616489,
            0.5224757798155318,
            0.6530947247694149,
            0.7837136697232978,
            0.9143326146771806,
            1.0449515596310637,
            1.1755705045849467
           ]
          },
          {
           "range": [
            -2,
            2
           ],
           "values": [
            0,
            2.7214373314385625e-17,
            5.442874662877125e-17,
            8.164311994315688e-17,
            1.088574932575425e-16,
            1.3607186657192814e-16,
            1.6328623988631375e-16,
            1.9050061320069937e-16,
            2.17714986515085e-16,
            2.4492935982947064e-16,
            0,
            -0.14284169104145317,
            -0.28568338208290633,
            -0.4285250731243595,
            -0.5713667641658127,
            -0.7142084552072658,
            -0.857050146248719,
            -0.9998918372901721,
            -1.1427335283316253,
            -1.2855752193730785,
            0,
            -0.21884616733604623,
            -0.43769233467209245,
            -0.6565385020081387,
            -0.8753846693441849,
            -1.0942308366802311,
            -1.3130770040162774,
            -1.5319231713523234,
            -1.7507693386883698,
            -1.969615506024416,
            0,
            -0.19245008972987535,
            -0.3849001794597507,
            -0.577350269189626,
            -0.7698003589195014,
            -0.9622504486493767,
            -1.154700538379252,
            -1.3471506281091272,
            -1.5396007178390028,
            -1.732050807568878,
            0,
            -0.07600447629459302,
            -0.15200895258918604,
            -0.22801342888377907,
            -0.30401790517837207,
            -0.38002238147296513,
            -0.45602685776755814,
            -0.5320313340621511,
            -0.6080358103567441,
            -0.6840402866513372,
            0,
            0.07600447629459291,
            0.15200895258918581,
            0.22801342888377873,
            0.30401790517837163,
            0.3800223814729646,
            0.45602685776755747,
            0.5320313340621503,
            0.6080358103567433,
            0.6840402866513362,
            0,
            0.19245008972987518,
            0.38490017945975036,
            0.5773502691896255,
            0.7698003589195007,
            0.962250448649376,
            1.154700538379251,
            1.3471506281091261,
            1.5396007178390014,
            1.7320508075688767,
            0,
            0.21884616733604623,
            0.43769233467209245,
            0.6565385020081387,
            0.8753846693441849,
            1.0942308366802314,
            1.3130770040162774,
            1.5319231713523236,
            1.7507693386883698,
            1.9696155060244163,
            0,
            0.1428416910414531,
            0.2856833820829062,
            0.42852507312435933,
            0.5713667641658124,
            0.7142084552072656,
            0.8570501462487187,
            0.9998918372901717,
            1.142733528331625,
            1.285575219373078,
            0,
            8.164311994315688e-17,
            1.6328623988631375e-16,
            2.449293598294706e-16,
            3.265724797726275e-16,
            4.0821559971578437e-16,
            4.898587196589412e-16,
            5.71501839602098e-16,
            6.53144959545255e-16,
            7.347880794884119e-16
           ]
          }
         ],
         "line": {
          "cmax": 1,
          "cmin": 0,
          "color": [
           0,
           0.17364817766693033,
           0.3420201433256687,
           0.49999999999999994,
           0.6427876096865393,
           0.766044443118978,
           0.8660254037844386,
           0.9396926207859083,
           0.984807753012208,
           1,
           0,
           0.17101007166283433,
           0.33682408883346515,
           0.49240387650610395,
           0.633022221559489,
           0.7544065067354889,
           0.8528685319524432,
           0.9254165783983233,
           0.9698463103929541,
           0.984807753012208,
           0,
           0.16317591116653482,
           0.3213938048432697,
           0.46984631039295416,
           0.6040227735550536,
           0.7198463103929542,
           0.8137976813493737,
           0.883022221559489,
           0.9254165783983234,
           0.9396926207859084,
           0,
           0.1503837331804353,
           0.29619813272602386,
           0.4330127018922193,
           0.5566703992264194,
           0.6634139481689384,
           0.75,
           0.8137976813493737,
           0.8528685319524433,
           0.8660254037844387,
           0,
           0.133022221559489,
           0.2620026302293849,
           0.38302222155948895,
           0.49240387650610395,
           0.5868240888334652,
           0.6634139481689384,
           0.7198463103929541,
           0.7544065067354889,
           0.766044443118978,
           0,
           0.11161889704894966,
           0.2198463103929542,
           0.3213938048432696,
           0.4131759111665348,
           0.49240387650610407,
           0.5566703992264194,
           0.6040227735550536,
           0.6330222215594891,
           0.6427876096865394,
           0,
           0.08682408883346518,
           0.17101007166283438,
           0.25,
           0.3213938048432697,
           0.3830222215594891,
           0.4330127018922194,
           0.46984631039295427,
           0.4924038765061041,
           0.5000000000000001,
           0,
           0.05939117461388472,
           0.11697777844051101,
           0.17101007166283438,
           0.21984631039295421,
           0.262002630229385,
           0.2961981327260239,
           0.32139380484326974,
           0.33682408883346526,
           0.3420201433256688,
           0,
           0.030153689607045817,
           0.059391174613884726,
           0.0868240888334652,
           0.11161889704894969,
           0.13302222155948906,
           0.15038373318043535,
           0.16317591116653488,
           0.1710100716628344,
           0.17364817766693041,
           0,
           1.0632884247878856e-17,
           2.094269368838496e-17,
           3.0616169978683824e-17,
           3.9359389436709925e-17,
           4.6906693763513654e-17,
           5.302876193624534e-17,
           5.753957801139251e-17,
           6.030208312509488e-17,
           6.123233995736766e-17
          ],
          "colorbar": {
           "title": {
            "text": "f2"
           }
          },
          "colorscale": [
           [
            0,
            "rgb(255,245,235)"
           ],
           [
            0.125,
            "rgb(254,230,206)"
           ],
           [
            0.25,
            "rgb(253,208,162)"
           ],
           [
            0.375,
            "rgb(253,174,107)"
           ],
           [
            0.5,
            "rgb(253,141,60)"
           ],
           [
            0.625,
            "rgb(241,105,19)"
           ],
           [
            0.75,
            "rgb(217,72,1)"
           ],
           [
            0.875,
            "rgb(166,54,3)"
           ],
           [
            1,
            "rgb(127,39,4)"
           ]
          ]
         },
         "type": "parcoords"
        }
       ],
       "layout": {
        "template": {
         "data": {
          "bar": [
           {
            "error_x": {
             "color": "#2a3f5f"
            },
            "error_y": {
             "color": "#2a3f5f"
            },
            "marker": {
             "line": {
              "color": "#E5ECF6",
              "width": 0.5
             },
             "pattern": {
              "fillmode": "overlay",
              "size": 10,
              "solidity": 0.2
             }
            },
            "type": "bar"
           }
          ],
          "barpolar": [
           {
            "marker": {
             "line": {
              "color": "#E5ECF6",
              "width": 0.5
             },
             "pattern": {
              "fillmode": "overlay",
              "size": 10,
              "solidity": 0.2
             }
            },
            "type": "barpolar"
           }
          ],
          "carpet": [
           {
            "aaxis": {
             "endlinecolor": "#2a3f5f",
             "gridcolor": "white",
             "linecolor": "white",
             "minorgridcolor": "white",
             "startlinecolor": "#2a3f5f"
            },
            "baxis": {
             "endlinecolor": "#2a3f5f",
             "gridcolor": "white",
             "linecolor": "white",
             "minorgridcolor": "white",
             "startlinecolor": "#2a3f5f"
            },
            "type": "carpet"
           }
          ],
          "choropleth": [
           {
            "colorbar": {
             "outlinewidth": 0,
             "ticks": ""
            },
            "type": "choropleth"
           }
          ],
          "contour": [
           {
            "colorbar": {
             "outlinewidth": 0,
             "ticks": ""
            },
            "colorscale": [
             [
              0,
              "#0d0887"
             ],
             [
              0.1111111111111111,
              "#46039f"
             ],
             [
              0.2222222222222222,
              "#7201a8"
             ],
             [
              0.3333333333333333,
              "#9c179e"
             ],
             [
              0.4444444444444444,
              "#bd3786"
             ],
             [
              0.5555555555555556,
              "#d8576b"
             ],
             [
              0.6666666666666666,
              "#ed7953"
             ],
             [
              0.7777777777777778,
              "#fb9f3a"
             ],
             [
              0.8888888888888888,
              "#fdca26"
             ],
             [
              1,
              "#f0f921"
             ]
            ],
            "type": "contour"
           }
          ],
          "contourcarpet": [
           {
            "colorbar": {
             "outlinewidth": 0,
             "ticks": ""
            },
            "type": "contourcarpet"
           }
          ],
          "heatmap": [
           {
            "colorbar": {
             "outlinewidth": 0,
             "ticks": ""
            },
            "colorscale": [
             [
              0,
              "#0d0887"
             ],
             [
              0.1111111111111111,
              "#46039f"
             ],
             [
              0.2222222222222222,
              "#7201a8"
             ],
             [
              0.3333333333333333,
              "#9c179e"
             ],
             [
              0.4444444444444444,
              "#bd3786"
             ],
             [
              0.5555555555555556,
              "#d8576b"
             ],
             [
              0.6666666666666666,
              "#ed7953"
             ],
             [
              0.7777777777777778,
              "#fb9f3a"
             ],
             [
              0.8888888888888888,
              "#fdca26"
             ],
             [
              1,
              "#f0f921"
             ]
            ],
            "type": "heatmap"
           }
          ],
          "heatmapgl": [
           {
            "colorbar": {
             "outlinewidth": 0,
             "ticks": ""
            },
            "colorscale": [
             [
              0,
              "#0d0887"
             ],
             [
              0.1111111111111111,
              "#46039f"
             ],
             [
              0.2222222222222222,
              "#7201a8"
             ],
             [
              0.3333333333333333,
              "#9c179e"
             ],
             [
              0.4444444444444444,
              "#bd3786"
             ],
             [
              0.5555555555555556,
              "#d8576b"
             ],
             [
              0.6666666666666666,
              "#ed7953"
             ],
             [
              0.7777777777777778,
              "#fb9f3a"
             ],
             [
              0.8888888888888888,
              "#fdca26"
             ],
             [
              1,
              "#f0f921"
             ]
            ],
            "type": "heatmapgl"
           }
          ],
          "histogram": [
           {
            "marker": {
             "pattern": {
              "fillmode": "overlay",
              "size": 10,
              "solidity": 0.2
             }
            },
            "type": "histogram"
           }
          ],
          "histogram2d": [
           {
            "colorbar": {
             "outlinewidth": 0,
             "ticks": ""
            },
            "colorscale": [
             [
              0,
              "#0d0887"
             ],
             [
              0.1111111111111111,
              "#46039f"
             ],
             [
              0.2222222222222222,
              "#7201a8"
             ],
             [
              0.3333333333333333,
              "#9c179e"
             ],
             [
              0.4444444444444444,
              "#bd3786"
             ],
             [
              0.5555555555555556,
              "#d8576b"
             ],
             [
              0.6666666666666666,
              "#ed7953"
             ],
             [
              0.7777777777777778,
              "#fb9f3a"
             ],
             [
              0.8888888888888888,
              "#fdca26"
             ],
             [
              1,
              "#f0f921"
             ]
            ],
            "type": "histogram2d"
           }
          ],
          "histogram2dcontour": [
           {
            "colorbar": {
             "outlinewidth": 0,
             "ticks": ""
            },
            "colorscale": [
             [
              0,
              "#0d0887"
             ],
             [
              0.1111111111111111,
              "#46039f"
             ],
             [
              0.2222222222222222,
              "#7201a8"
             ],
             [
              0.3333333333333333,
              "#9c179e"
             ],
             [
              0.4444444444444444,
              "#bd3786"
             ],
             [
              0.5555555555555556,
              "#d8576b"
             ],
             [
              0.6666666666666666,
              "#ed7953"
             ],
             [
              0.7777777777777778,
              "#fb9f3a"
             ],
             [
              0.8888888888888888,
              "#fdca26"
             ],
             [
              1,
              "#f0f921"
             ]
            ],
            "type": "histogram2dcontour"
           }
          ],
          "mesh3d": [
           {
            "colorbar": {
             "outlinewidth": 0,
             "ticks": ""
            },
            "type": "mesh3d"
           }
          ],
          "parcoords": [
           {
            "line": {
             "colorbar": {
              "outlinewidth": 0,
              "ticks": ""
             }
            },
            "type": "parcoords"
           }
          ],
          "pie": [
           {
            "automargin": true,
            "type": "pie"
           }
          ],
          "scatter": [
           {
            "fillpattern": {
             "fillmode": "overlay",
             "size": 10,
             "solidity": 0.2
            },
            "type": "scatter"
           }
          ],
          "scatter3d": [
           {
            "line": {
             "colorbar": {
              "outlinewidth": 0,
              "ticks": ""
             }
            },
            "marker": {
             "colorbar": {
              "outlinewidth": 0,
              "ticks": ""
             }
            },
            "type": "scatter3d"
           }
          ],
          "scattercarpet": [
           {
            "marker": {
             "colorbar": {
              "outlinewidth": 0,
              "ticks": ""
             }
            },
            "type": "scattercarpet"
           }
          ],
          "scattergeo": [
           {
            "marker": {
             "colorbar": {
              "outlinewidth": 0,
              "ticks": ""
             }
            },
            "type": "scattergeo"
           }
          ],
          "scattergl": [
           {
            "marker": {
             "colorbar": {
              "outlinewidth": 0,
              "ticks": ""
             }
            },
            "type": "scattergl"
           }
          ],
          "scattermapbox": [
           {
            "marker": {
             "colorbar": {
              "outlinewidth": 0,
              "ticks": ""
             }
            },
            "type": "scattermapbox"
           }
          ],
          "scatterpolar": [
           {
            "marker": {
             "colorbar": {
              "outlinewidth": 0,
              "ticks": ""
             }
            },
            "type": "scatterpolar"
           }
          ],
          "scatterpolargl": [
           {
            "marker": {
             "colorbar": {
              "outlinewidth": 0,
              "ticks": ""
             }
            },
            "type": "scatterpolargl"
           }
          ],
          "scatterternary": [
           {
            "marker": {
             "colorbar": {
              "outlinewidth": 0,
              "ticks": ""
             }
            },
            "type": "scatterternary"
           }
          ],
          "surface": [
           {
            "colorbar": {
             "outlinewidth": 0,
             "ticks": ""
            },
            "colorscale": [
             [
              0,
              "#0d0887"
             ],
             [
              0.1111111111111111,
              "#46039f"
             ],
             [
              0.2222222222222222,
              "#7201a8"
             ],
             [
              0.3333333333333333,
              "#9c179e"
             ],
             [
              0.4444444444444444,
              "#bd3786"
             ],
             [
              0.5555555555555556,
              "#d8576b"
             ],
             [
              0.6666666666666666,
              "#ed7953"
             ],
             [
              0.7777777777777778,
              "#fb9f3a"
             ],
             [
              0.8888888888888888,
              "#fdca26"
             ],
             [
              1,
              "#f0f921"
             ]
            ],
            "type": "surface"
           }
          ],
          "table": [
           {
            "cells": {
             "fill": {
              "color": "#EBF0F8"
             },
             "line": {
              "color": "white"
             }
            },
            "header": {
             "fill": {
              "color": "#C8D4E3"
             },
             "line": {
              "color": "white"
             }
            },
            "type": "table"
           }
          ]
         },
         "layout": {
          "annotationdefaults": {
           "arrowcolor": "#2a3f5f",
           "arrowhead": 0,
           "arrowwidth": 1
          },
          "autotypenumbers": "strict",
          "coloraxis": {
           "colorbar": {
            "outlinewidth": 0,
            "ticks": ""
           }
          },
          "colorscale": {
           "diverging": [
            [
             0,
             "#8e0152"
            ],
            [
             0.1,
             "#c51b7d"
            ],
            [
             0.2,
             "#de77ae"
            ],
            [
             0.3,
             "#f1b6da"
            ],
            [
             0.4,
             "#fde0ef"
            ],
            [
             0.5,
             "#f7f7f7"
            ],
            [
             0.6,
             "#e6f5d0"
            ],
            [
             0.7,
             "#b8e186"
            ],
            [
             0.8,
             "#7fbc41"
            ],
            [
             0.9,
             "#4d9221"
            ],
            [
             1,
             "#276419"
            ]
           ],
           "sequential": [
            [
             0,
             "#0d0887"
            ],
            [
             0.1111111111111111,
             "#46039f"
            ],
            [
             0.2222222222222222,
             "#7201a8"
            ],
            [
             0.3333333333333333,
             "#9c179e"
            ],
            [
             0.4444444444444444,
             "#bd3786"
            ],
            [
             0.5555555555555556,
             "#d8576b"
            ],
            [
             0.6666666666666666,
             "#ed7953"
            ],
            [
             0.7777777777777778,
             "#fb9f3a"
            ],
            [
             0.8888888888888888,
             "#fdca26"
            ],
            [
             1,
             "#f0f921"
            ]
           ],
           "sequentialminus": [
            [
             0,
             "#0d0887"
            ],
            [
             0.1111111111111111,
             "#46039f"
            ],
            [
             0.2222222222222222,
             "#7201a8"
            ],
            [
             0.3333333333333333,
             "#9c179e"
            ],
            [
             0.4444444444444444,
             "#bd3786"
            ],
            [
             0.5555555555555556,
             "#d8576b"
            ],
            [
             0.6666666666666666,
             "#ed7953"
            ],
            [
             0.7777777777777778,
             "#fb9f3a"
            ],
            [
             0.8888888888888888,
             "#fdca26"
            ],
            [
             1,
             "#f0f921"
            ]
           ]
          },
          "colorway": [
           "#636efa",
           "#EF553B",
           "#00cc96",
           "#ab63fa",
           "#FFA15A",
           "#19d3f3",
           "#FF6692",
           "#B6E880",
           "#FF97FF",
           "#FECB52"
          ],
          "font": {
           "color": "#2a3f5f"
          },
          "geo": {
           "bgcolor": "white",
           "lakecolor": "white",
           "landcolor": "#E5ECF6",
           "showlakes": true,
           "showland": true,
           "subunitcolor": "white"
          },
          "hoverlabel": {
           "align": "left"
          },
          "hovermode": "closest",
          "mapbox": {
           "style": "light"
          },
          "paper_bgcolor": "white",
          "plot_bgcolor": "#E5ECF6",
          "polar": {
           "angularaxis": {
            "gridcolor": "white",
            "linecolor": "white",
            "ticks": ""
           },
           "bgcolor": "#E5ECF6",
           "radialaxis": {
            "gridcolor": "white",
            "linecolor": "white",
            "ticks": ""
           }
          },
          "scene": {
           "xaxis": {
            "backgroundcolor": "#E5ECF6",
            "gridcolor": "white",
            "gridwidth": 2,
            "linecolor": "white",
            "showbackground": true,
            "ticks": "",
            "zerolinecolor": "white"
           },
           "yaxis": {
            "backgroundcolor": "#E5ECF6",
            "gridcolor": "white",
            "gridwidth": 2,
            "linecolor": "white",
            "showbackground": true,
            "ticks": "",
            "zerolinecolor": "white"
           },
           "zaxis": {
            "backgroundcolor": "#E5ECF6",
            "gridcolor": "white",
            "gridwidth": 2,
            "linecolor": "white",
            "showbackground": true,
            "ticks": "",
            "zerolinecolor": "white"
           }
          },
          "shapedefaults": {
           "line": {
            "color": "#2a3f5f"
           }
          },
          "ternary": {
           "aaxis": {
            "gridcolor": "white",
            "linecolor": "white",
            "ticks": ""
           },
           "baxis": {
            "gridcolor": "white",
            "linecolor": "white",
            "ticks": ""
           },
           "bgcolor": "#E5ECF6",
           "caxis": {
            "gridcolor": "white",
            "linecolor": "white",
            "ticks": ""
           }
          },
          "title": {
           "x": 0.05
          },
          "xaxis": {
           "automargin": true,
           "gridcolor": "white",
           "linecolor": "white",
           "ticks": "",
           "title": {
            "standoff": 15
           },
           "zerolinecolor": "white",
           "zerolinewidth": 2
          },
          "yaxis": {
           "automargin": true,
           "gridcolor": "white",
           "linecolor": "white",
           "ticks": "",
           "title": {
            "standoff": 15
           },
           "zerolinecolor": "white",
           "zerolinewidth": 2
          }
         }
        },
        "title": {
         "text": "UF10 f2"
        }
       }
      }
     },
     "metadata": {},
     "output_type": "display_data"
    }
   ],
   "source": [
    "from pymoo_problems.moo.uf import UF8, UF9, UF10\n",
    "n_var = 5\n",
    "plot_parallel_coordinates( UF8(n_var=n_var), \"UF8\", n_samples=100)\n",
    "plot_parallel_coordinates( UF9(n_var=n_var), \"UF9\", n_samples=100 )\n",
    "plot_parallel_coordinates( UF10(n_var=n_var), \"UF10\", n_samples=100 )"
   ]
  },
  {
   "cell_type": "code",
   "execution_count": null,
   "metadata": {},
   "outputs": [],
   "source": [
    "from pymoo_problems.moo.zdt import ZDT1, ZDT2, ZDT3, ZDT4, ZDT6\n",
    "n_var = 4\n",
    "plot_parallel_coordinates( ZDT1(n_var=n_var), \"ZDT1\" )\n",
    "plot_parallel_coordinates( ZDT2(n_var=n_var), \"ZDT2\" )\n",
    "plot_parallel_coordinates( ZDT3(n_var=n_var), \"ZDT3\" )"
   ]
  },
  {
   "cell_type": "code",
   "execution_count": null,
   "metadata": {},
   "outputs": [],
   "source": [
    "from pymoo_problems.moo.maco import MACO\n",
    "n_var = 4\n",
    "plot_parallel_coordinates( MACO(n_var=n_var), \"MACO\", 20)\n"
   ]
  }
 ],
 "metadata": {
  "kernelspec": {
   "display_name": "venv",
   "language": "python",
   "name": "python3"
  },
  "language_info": {
   "codemirror_mode": {
    "name": "ipython",
    "version": 3
   },
   "file_extension": ".py",
   "mimetype": "text/x-python",
   "name": "python",
   "nbconvert_exporter": "python",
   "pygments_lexer": "ipython3",
   "version": "3.9.6"
  }
 },
 "nbformat": 4,
 "nbformat_minor": 2
}
